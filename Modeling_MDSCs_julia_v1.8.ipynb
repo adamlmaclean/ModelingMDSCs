{
 "cells": [
  {
   "cell_type": "markdown",
   "id": "a6fa9f6a-7112-4f7f-9984-486ac434293d",
   "metadata": {},
   "source": [
    "## Julia version 1.8.1"
   ]
  },
  {
   "cell_type": "markdown",
   "id": "7ba4cef1-1cb5-40d2-afb4-369cb5659081",
   "metadata": {},
   "source": [
    "## Code blocks intended to be run independently"
   ]
  },
  {
   "cell_type": "markdown",
   "id": "69d80330-3331-4ee9-a2a6-e6ec1198e351",
   "metadata": {},
   "source": [
    "# Figure 2"
   ]
  },
  {
   "cell_type": "code",
   "execution_count": null,
   "id": "77996708-1ec9-4a58-997d-f82df4b314fa",
   "metadata": {},
   "outputs": [],
   "source": [
    "using DifferentialEquations\n",
    "using Plots"
   ]
  },
  {
   "cell_type": "code",
   "execution_count": null,
   "id": "9a9002a4-7d97-48e5-85fd-8bb5e91ad85e",
   "metadata": {},
   "outputs": [],
   "source": [
    "#define model with delay\n",
    "function dde_system(du,u,h,p,t)\n",
    "    T,MDSC,NK,CTL = u\n",
    "    α₂,α₃,ζ₂,α₁,η,β₁,β₂,ζ₁,α₄,α₅,β₃,ζ₃,α₆,α₇,β₄,ζ₄ = p\n",
    "    histC_MDSC = h(p, t-τ; idxs=1)\n",
    "   \n",
    "# Cancer cells (tumor)\n",
    "    du[1] = dT = α₁*T*log(η/T) - β₁*T*NK - β₂*T*CTL - ζ₁*T\n",
    " # MDSCs \n",
    "    du[2] = dMDSC = α₂ + α₃*histC_MDSC/(γ₁+(histC_MDSC)) - ζ₂*MDSC \n",
    " # NK cells\n",
    "    du[3] = dNK = α₄ + α₅*(T^2)/(γ₂+(T^2)) - β₃*MDSC*NK - ζ₃*NK \n",
    " # CTL cells\n",
    "    du[4] = dCTL = α₆*T*NK + α₇*(T^2)/(γ₃+(T^2)) - β₄*MDSC*CTL - ζ₄*CTL\n",
    "end"
   ]
  },
  {
   "cell_type": "code",
   "execution_count": null,
   "id": "4195ac59-1d1a-4782-bf0a-708b344f0830",
   "metadata": {},
   "outputs": [],
   "source": [
    "#define model without delay\n",
    "function ode_system(du,u,p,t)\n",
    "    T,MDSC,NK,CTL = u\n",
    "    α₂,α₃,ζ₂,α₁,η,β₁,β₂,ζ₁,α₄,α₅,β₃,ζ₃,α₆,α₇,β₄,ζ₄ = p\n",
    "   \n",
    "# Cancer cells (tumor)\n",
    "    du[1] = dT = α₁*T*log(η/T) - β₁*T*NK - β₂*T*CTL - ζ₁*T\n",
    " # MDSCs \n",
    "    du[2] = dMDSC = α₂ + α₃*T/(γ₁+(T)) - ζ₂*MDSC \n",
    " # NK cells\n",
    "    du[3] = dNK = α₄ + α₅*(T^2)/(γ₂+(T^2)) - β₃*MDSC*NK - ζ₃*NK \n",
    " # CTL cells\n",
    "    du[4] = dCTL = α₆*T*NK + α₇*(T^2)/(γ₃+(T^2)) - β₄*MDSC*CTL - ζ₄*CTL\n",
    "end"
   ]
  },
  {
   "cell_type": "code",
   "execution_count": null,
   "id": "7c65462b-7da8-4a0e-acd0-921ca71e0ad6",
   "metadata": {},
   "outputs": [],
   "source": [
    "#define initial number of tumor cells for delay model\n",
    "h(p, t; idxs=nothing) = typeof(idxs) <: Number ? 1.0 : ones(4)\n",
    "h(1,0)"
   ]
  },
  {
   "cell_type": "code",
   "execution_count": null,
   "id": "7a63a0a6-b7c6-45ec-9107-fc1bf8d318c2",
   "metadata": {},
   "outputs": [],
   "source": [
    "#set model parameters\n",
    "α₂ = 10.0*(10.0^1.0) #MDSCs production rate\n",
    "α₃ = (10.0^8.0) #MDSCs expansion coefficient \n",
    "ζ₂ = 0.2 #MDSCs death rate\n",
    "\n",
    "α₁ = 10.0^(-1.0) #tumor growth rate\n",
    "η = 10.0^7.0 #tumor maximum size\n",
    "β₁ = 3.5*(10.0^(-6.0)) #tumor cells kill rate by NK cells\n",
    "β₂ = 1.1*(10.0^(-7.0)) #tumor cells kill rate by T cells\n",
    "ζ₁ = 0.0 #tumor cell death rate\n",
    "\n",
    "α₄ = 1.4*(10.0^4.0) #NK cells production rate\n",
    "α₅ = 2.5*(10.0^(-2.0)) #NK cells expansion coefficient\n",
    "β₃ = 4*(10.0^(-5.0)) #NK cells inactivation rate by MDSCs\n",
    "ζ₃ = 4.12*(10.0^(-2.0)) #NK cells death rate\n",
    "\n",
    "α₆ = 1.1*(10.0^(-7.0)) #CTL stimulation as a result of tumor-NK cell interaction\n",
    "α₇ = 10.0^(-1.0) #CTL expansion coefficient \n",
    "β₄ = (10.0^(-4.0)) #CTL inactivation rate by MDSCs\n",
    "ζ₄ = 2.0*(10.0^(-2.0)) #CTL death rate\n",
    "\n",
    "γ₁ = (10.0^(10.0)) #steepness coefficient of MDSC production curve\n",
    "γ₂ = 2.02*(10.0^(7.0)) #steepness coefficient of NK production curve\n",
    "γ₃ = 2.02*(10.0^(7.0)) #steepness coefficient of CTL production curve\n",
    "\n",
    "p = (α₂,α₃,ζ₂,α₁,η,β₁,β₂,ζ₁,α₄,α₅,β₃,ζ₃,α₆,α₇,β₄,ζ₄)\n",
    "tspan = (0.0,365.0)\n",
    "u0 = [1.0;α₂/ζ₂;ζ₂*α₄/(α₂*β₃+ζ₂*ζ₃);0.0]"
   ]
  },
  {
   "cell_type": "code",
   "execution_count": null,
   "id": "669666b6-51c9-4ee2-a858-309f30c023ef",
   "metadata": {},
   "outputs": [],
   "source": [
    "#set numerical solution algorithm\n",
    "alg_ODE = Tsit5()"
   ]
  },
  {
   "cell_type": "code",
   "execution_count": null,
   "id": "ee0ec776-7cb3-4eaa-b851-66e665b49d53",
   "metadata": {},
   "outputs": [],
   "source": [
    "#set numerical solution algorithm\n",
    "alg_DDE = MethodOfSteps(Tsit5())"
   ]
  },
  {
   "cell_type": "markdown",
   "id": "19e19c41-8c9a-473e-956a-6d8665e85ca7",
   "metadata": {},
   "source": [
    "## Panel A"
   ]
  },
  {
   "cell_type": "code",
   "execution_count": null,
   "id": "d7de6efd-a7c6-4232-abcf-de53e937f91d",
   "metadata": {},
   "outputs": [],
   "source": [
    "#solve with τ = 0\n",
    "prob_panel_a = ODEProblem(ode_system,u0,tspan,p)\n",
    "sol_panel_a = solve(prob_panel_a,alg_ODE)"
   ]
  },
  {
   "cell_type": "markdown",
   "id": "e962f086-a743-461e-95b0-50d30f8b2b00",
   "metadata": {},
   "source": [
    "## Panel B"
   ]
  },
  {
   "cell_type": "code",
   "execution_count": null,
   "id": "e65a6a95-a0e6-403f-9b37-9d0e89b7fb1a",
   "metadata": {},
   "outputs": [],
   "source": [
    "#solve with τ = 10\n",
    "τ = 10.0\n",
    "lags = [τ]\n",
    "prob_panel_b = DDEProblem(dde_system,u0,h,tspan,p;constant_lags=lags)\n",
    "sol_panel_b = solve(prob_panel_b,alg_DDE)"
   ]
  },
  {
   "cell_type": "markdown",
   "id": "66067988-fc11-4c43-9917-28c8175521ae",
   "metadata": {},
   "source": [
    "## Panel C"
   ]
  },
  {
   "cell_type": "code",
   "execution_count": null,
   "id": "79209fd7-fd5d-4706-b942-dd8f25519561",
   "metadata": {},
   "outputs": [],
   "source": [
    "#solve with τ = 50\n",
    "τ = 50.0\n",
    "lags = [τ]\n",
    "prob_panel_c = DDEProblem(dde_system,u0,h,tspan,p;constant_lags=lags)\n",
    "sol_panel_c = solve(prob_panel_c,alg_DDE)"
   ]
  },
  {
   "cell_type": "markdown",
   "id": "e8752af8-0fdc-47a8-8157-52b4387c2a27",
   "metadata": {},
   "source": [
    "## Panel D"
   ]
  },
  {
   "cell_type": "code",
   "execution_count": null,
   "id": "7cfdabb3-b491-4156-a84c-1e150dc5b9a3",
   "metadata": {},
   "outputs": [],
   "source": [
    "#solve with τ = 365\n",
    "τ = 365.0\n",
    "lags = [τ]\n",
    "prob_panel_d = DDEProblem(dde_system,u0,h,tspan,p;constant_lags=lags)\n",
    "sol_panel_d = solve(prob_panel_d,alg_DDE)"
   ]
  },
  {
   "cell_type": "markdown",
   "id": "0ebb707a-11c7-448f-b015-775e55d25ce1",
   "metadata": {},
   "source": [
    "## Plot"
   ]
  },
  {
   "cell_type": "code",
   "execution_count": null,
   "id": "6dcf1760-aa61-45cd-a623-40ad4e7ba2cb",
   "metadata": {},
   "outputs": [],
   "source": [
    "#plot results\n",
    "l = @layout [a b; c d]\n",
    "logocolors = Colors.JULIA_LOGO_COLORS\n",
    "a = plot(sol_panel_a, lw = 4, yaxis=:log,size =(1600/2,600), font = \"Ariel\", ylims = (0.01,10^7.5), color = [logocolors.red \"goldenrod2\" logocolors.green logocolors.blue], alpha = [1 1 0.3 0.3], legend = false, xtickfontsize=25,ytickfontsize=25,xlabel=\"Time (days)\",xguidefontsize=25,ylabel=\"Number of cells\",yguidefontsize=25,title = \"τ = 0\",titlefontsize=25)\n",
    "b = plot(sol_panel_b, lw = 4, yaxis=:log,size =(1600/2,600), font = \"Ariel\", ylims = (0.01,10^7.5), color = [logocolors.red \"goldenrod2\" logocolors.green logocolors.blue], alpha = [1 1 0.3 0.3], legend = false, xtickfontsize=25,ytickfontsize=25,xlabel=\"Time (days)\",xguidefontsize=25,ylabel=\"Number of cells\",yguidefontsize=25,title = \"τ = 10\",titlefontsize=25)\n",
    "c = plot(sol_panel_c, lw = 4, yaxis=:log,size =(1600/2,600), font = \"Ariel\", ylims = (0.01,10^7.5), color = [logocolors.red \"goldenrod2\" logocolors.green logocolors.blue], alpha = [1 1 0.3 0.3], legend = false, xtickfontsize=25,ytickfontsize=25,xlabel=\"Time (days)\",xguidefontsize=25,ylabel=\"Number of cells\",yguidefontsize=25,title = \"τ = 50\",titlefontsize=25)\n",
    "d = plot(sol_panel_d, lw = 4, yaxis=:log,size =(1600/2,600), font = \"Ariel\", ylims = (0.01,10^7.5), color = [logocolors.red \"goldenrod2\" logocolors.green logocolors.blue], alpha = [1 1 0.3 0.3], legend = false, xtickfontsize=25,ytickfontsize=25,xlabel=\"Time (days)\",xguidefontsize=25,ylabel=\"Number of cells\",yguidefontsize=25,title = \"τ = 365\",titlefontsize=25)\n",
    "plot(a, b, c, d, layout = l,size =(1600,1200),xtickfont=font(25),ytickfont=font(25),guidefont=font(25),legendfont=font(25),plot_title=\"Effect of MDSC delay τ\", font = \"Ariel\",titlefontsize=25)"
   ]
  },
  {
   "cell_type": "markdown",
   "id": "46b0b6b6-606b-43a7-84e6-5083f842a785",
   "metadata": {},
   "source": [
    "# Figure S1"
   ]
  },
  {
   "cell_type": "code",
   "execution_count": null,
   "id": "3261de21-9aa5-47f3-ba0a-1daf0211056b",
   "metadata": {},
   "outputs": [],
   "source": [
    "using DifferentialEquations\n",
    "using Plots"
   ]
  },
  {
   "cell_type": "code",
   "execution_count": null,
   "id": "1614859c-beee-4e17-8377-eb66f7ec7ddd",
   "metadata": {},
   "outputs": [],
   "source": [
    "#define model with delay\n",
    "function dde_system(du,u,h,p,t)\n",
    "    T,MDSC,NK,CTL = u\n",
    "    α₂,α₃,ζ₂,α₁,η,β₁,β₂,ζ₁,α₄,α₅,β₃,ζ₃,α₆,α₇,β₄,ζ₄ = p\n",
    "    histC_CTL = h(p, t-τ₁; idxs=1)\n",
    "   \n",
    "# Cancer cells (tumor)\n",
    "    du[1] = dT = α₁*T*log(η/T) - β₁*T*NK - β₂*T*CTL - ζ₁*T\n",
    " # MDSCs \n",
    "    du[2] = dMDSC = α₂ + α₃*T/(γ₁+(T)) - ζ₂*MDSC \n",
    " # NK cells\n",
    "    du[3] = dNK = α₄ + α₅*(T^2)/(γ₂+(T^2)) - β₃*MDSC*NK - ζ₃*NK \n",
    " # CTL cells\n",
    "    du[4] = dCTL = α₆*histC_CTL*NK + α₇*(histC_CTL^2)/(γ₃+(histC_CTL^2)) - β₄*MDSC*CTL - ζ₄*CTL\n",
    "end"
   ]
  },
  {
   "cell_type": "code",
   "execution_count": null,
   "id": "5600314b-fc33-4df4-8153-3ae4eaeb24d2",
   "metadata": {},
   "outputs": [],
   "source": [
    "#define model without delay\n",
    "function ode_system(du,u,p,t)\n",
    "    T,MDSC,NK,CTL = u\n",
    "    α₂,α₃,ζ₂,α₁,η,β₁,β₂,ζ₁,α₄,α₅,β₃,ζ₃,α₆,α₇,β₄,ζ₄ = p\n",
    "   \n",
    "# Cancer cells (tumor)\n",
    "    du[1] = dT = α₁*T*log(η/T) - β₁*T*NK - β₂*T*CTL - ζ₁*T\n",
    " # MDSCs \n",
    "    du[2] = dMDSC = α₂ + α₃*T/(γ₁+(T)) - ζ₂*MDSC \n",
    " # NK cells\n",
    "    du[3] = dNK = α₄ + α₅*(T^2)/(γ₂+(T^2)) - β₃*MDSC*NK - ζ₃*NK \n",
    " # CTL cells\n",
    "    du[4] = dCTL = α₆*T*NK + α₇*(T^2)/(γ₃+(T^2)) - β₄*MDSC*CTL - ζ₄*CTL\n",
    "end"
   ]
  },
  {
   "cell_type": "code",
   "execution_count": null,
   "id": "7de4c909-8c81-486d-ae0a-67d49ea440b6",
   "metadata": {},
   "outputs": [],
   "source": [
    "#define initial number of tumor cells for delay model\n",
    "h(p, t; idxs=nothing) = typeof(idxs) <: Number ? 1.0 : ones(4)\n",
    "h(1,0)"
   ]
  },
  {
   "cell_type": "code",
   "execution_count": null,
   "id": "50e52817-55d7-4460-bfa8-47c882d15d1a",
   "metadata": {},
   "outputs": [],
   "source": [
    "#set model parameters\n",
    "α₂ = 10.0*(10.0^1.0) #MDSCs production rate\n",
    "α₃ = (10.0^8.0) #MDSCs expansion coefficient \n",
    "ζ₂ = 0.2 #MDSCs death rate\n",
    "\n",
    "α₁ = 10.0^(-1.0) #tumor growth rate\n",
    "η = 10.0^7.0 #tumor maximum size\n",
    "β₁ = 3.5*(10.0^(-6.0)) #tumor cells kill rate by NK cells\n",
    "β₂ = 1.1*(10.0^(-7.0)) #tumor cells kill rate by T cells\n",
    "ζ₁ = 0.0 #tumor cell death rate\n",
    "\n",
    "α₄ = 1.4*(10.0^4.0) #NK cells production rate\n",
    "α₅ = 2.5*(10.0^(-2.0)) #NK cells expansion coefficient\n",
    "β₃ = 4*(10.0^(-5.0)) #NK cells inactivation rate by MDSCs\n",
    "ζ₃ = 4.12*(10.0^(-2.0)) #NK cells death rate\n",
    "\n",
    "α₆ = 1.1*(10.0^(-7.0)) #CTL stimulation as a result of tumor-NK cell interaction\n",
    "α₇ = 10.0^(-1.0) #CTL expansion coefficient \n",
    "β₄ = (10.0^(-4.0)) #CTL inactivation rate by MDSCs\n",
    "ζ₄ = 2.0*(10.0^(-2.0)) #CTL death rate\n",
    "\n",
    "γ₁ = (10.0^(10.0)) #steepness coefficient of MDSC production curve\n",
    "γ₂ = 2.02*(10.0^(7.0)) #steepness coefficient of NK production curve\n",
    "γ₃ = 2.02*(10.0^(7.0)) #steepness coefficient of CTL production curve\n",
    "\n",
    "p = (α₂,α₃,ζ₂,α₁,η,β₁,β₂,ζ₁,α₄,α₅,β₃,ζ₃,α₆,α₇,β₄,ζ₄)\n",
    "tspan = (0.0,365.0)\n",
    "u0 = [1.0;α₂/ζ₂;ζ₂*α₄/(α₂*β₃+ζ₂*ζ₃);0.0]"
   ]
  },
  {
   "cell_type": "code",
   "execution_count": null,
   "id": "0a93e859-16df-4a26-975c-c0c114fa5095",
   "metadata": {},
   "outputs": [],
   "source": [
    "#set numerical solution algorithm\n",
    "alg_ODE = Tsit5()"
   ]
  },
  {
   "cell_type": "code",
   "execution_count": null,
   "id": "9147f0f8-4de3-4b16-8326-77e7f344f0dc",
   "metadata": {},
   "outputs": [],
   "source": [
    "#set numerical solution algorithm\n",
    "alg_DDE = MethodOfSteps(Tsit5())"
   ]
  },
  {
   "cell_type": "markdown",
   "id": "7727f2cf-3718-4bbe-a89d-1be841588695",
   "metadata": {},
   "source": [
    "## Panel A"
   ]
  },
  {
   "cell_type": "code",
   "execution_count": null,
   "id": "ee448e0d-9970-4fc1-8f60-de5e805e90dd",
   "metadata": {},
   "outputs": [],
   "source": [
    "#solve with τ₁ = 0\n",
    "prob_panel_a = ODEProblem(ode_system,u0,tspan,p)\n",
    "sol_panel_a = solve(prob_panel_a,alg_ODE)"
   ]
  },
  {
   "cell_type": "markdown",
   "id": "7c5ac29c-9546-4d98-b1b6-3d4b0297b164",
   "metadata": {},
   "source": [
    "## Panel B"
   ]
  },
  {
   "cell_type": "code",
   "execution_count": null,
   "id": "ffa117d0-e855-4b64-9a2d-7f69035faaa3",
   "metadata": {},
   "outputs": [],
   "source": [
    "#solve with τ₁ = 10\n",
    "τ₁ = 10.0\n",
    "lags = [τ₁]\n",
    "prob_panel_b = DDEProblem(dde_system,u0,h,tspan,p;constant_lags=lags)\n",
    "sol_panel_b = solve(prob_panel_b,alg_DDE)"
   ]
  },
  {
   "cell_type": "markdown",
   "id": "3794a296-4da6-42fd-853c-bc5f138c3423",
   "metadata": {},
   "source": [
    "## Panel C"
   ]
  },
  {
   "cell_type": "code",
   "execution_count": null,
   "id": "e72091a7-26f7-48a9-a36c-9266162dfd4d",
   "metadata": {},
   "outputs": [],
   "source": [
    "#solve with τ₁ = 50\n",
    "τ₁ = 50.0\n",
    "lags = [τ₁]\n",
    "prob_panel_c = DDEProblem(dde_system,u0,h,tspan,p;constant_lags=lags)\n",
    "sol_panel_c = solve(prob_panel_c,alg_DDE)"
   ]
  },
  {
   "cell_type": "markdown",
   "id": "908488d4-34d5-4c47-98e6-bb06d8702ee1",
   "metadata": {},
   "source": [
    "## Panel D"
   ]
  },
  {
   "cell_type": "code",
   "execution_count": null,
   "id": "6c025db8-1768-41c8-afdd-6d6415c9e316",
   "metadata": {},
   "outputs": [],
   "source": [
    "#solve with τ₁ = 365\n",
    "τ₁ = 365.0\n",
    "lags = [τ₁]\n",
    "prob_panel_d = DDEProblem(dde_system,u0,h,tspan,p;constant_lags=lags)\n",
    "sol_panel_d = solve(prob_panel_d,alg_DDE)"
   ]
  },
  {
   "cell_type": "markdown",
   "id": "6062dda8-306e-4186-897a-6c6e2fb9644a",
   "metadata": {},
   "source": [
    "## Plot"
   ]
  },
  {
   "cell_type": "code",
   "execution_count": null,
   "id": "168cbf83-de94-4810-a1d4-6291093af318",
   "metadata": {},
   "outputs": [],
   "source": [
    "#plot results\n",
    "l = @layout [a b; c d]\n",
    "logocolors = Colors.JULIA_LOGO_COLORS\n",
    "a = plot(sol_panel_a, lw = 4, yaxis=:log,size =(1600/2,600), font = \"Ariel\", ylims = (0.01,10^7.5), color = [logocolors.red \"goldenrod2\" logocolors.green logocolors.blue], alpha = [1 1 0.3 0.3], legend = false, xtickfontsize=25,ytickfontsize=25,xlabel=\"Time (days)\",xguidefontsize=25,ylabel=\"Number of cells\",yguidefontsize=25,title = \"τ₁ = 0\",titlefontsize=25)\n",
    "b = plot(sol_panel_b, lw = 4, yaxis=:log,size =(1600/2,600), font = \"Ariel\", ylims = (0.01,10^7.5), color = [logocolors.red \"goldenrod2\" logocolors.green logocolors.blue], alpha = [1 1 0.3 0.3], legend = false, xtickfontsize=25,ytickfontsize=25,xlabel=\"Time (days)\",xguidefontsize=25,ylabel=\"Number of cells\",yguidefontsize=25,title = \"τ₁ = 10\",titlefontsize=25)\n",
    "c = plot(sol_panel_c, lw = 4, yaxis=:log,size =(1600/2,600), font = \"Ariel\", ylims = (0.01,10^7.5), color = [logocolors.red \"goldenrod2\" logocolors.green logocolors.blue], alpha = [1 1 0.3 0.3], legend = false, xtickfontsize=25,ytickfontsize=25,xlabel=\"Time (days)\",xguidefontsize=25,ylabel=\"Number of cells\",yguidefontsize=25,title = \"τ₁ = 50\",titlefontsize=25)\n",
    "d = plot(sol_panel_d, lw = 4, yaxis=:log,size =(1600/2,600), font = \"Ariel\", ylims = (0.01,10^7.5), color = [logocolors.red \"goldenrod2\" logocolors.green logocolors.blue], alpha = [1 1 0.3 0.3], legend = false, xtickfontsize=25,ytickfontsize=25,xlabel=\"Time (days)\",xguidefontsize=25,ylabel=\"Number of cells\",yguidefontsize=25,title = \"τ₁ = 365\",titlefontsize=25)\n",
    "plot(a, b, c, d, layout = l,size =(1600,1200),xtickfont=font(25),ytickfont=font(25),guidefont=font(25),legendfont=font(25),plot_title=\"Effect of CTL delay τ₁\", font = \"Ariel\",titlefontsize=25)"
   ]
  },
  {
   "cell_type": "markdown",
   "id": "4f7db1e6-a9b6-4623-ada2-f506b1816b51",
   "metadata": {},
   "source": [
    "# Figure 3A-C"
   ]
  },
  {
   "cell_type": "code",
   "execution_count": null,
   "id": "3bdbc14b-0d97-4913-b279-ad4c29d14d50",
   "metadata": {},
   "outputs": [],
   "source": [
    "using DifferentialEquations\n",
    "using Plots"
   ]
  },
  {
   "cell_type": "code",
   "execution_count": null,
   "id": "5fb53d5a-2e4d-4463-90fb-894611696e0a",
   "metadata": {},
   "outputs": [],
   "source": [
    "#define model without delay\n",
    "function ode_system(du,u,p,t)\n",
    "    T,MDSC,NK,CTL = u\n",
    "    α₂,α₃,ζ₂,α₁,η,β₁,β₂,ζ₁,α₄,α₅,β₃,ζ₃,α₆,α₇,β₄,ζ₄ = p\n",
    "   \n",
    "# Cancer cells (tumor)\n",
    "    du[1] = dT = α₁*T*log(η/T) - β₁*T*NK - β₂*T*CTL - ζ₁*T\n",
    " # MDSCs \n",
    "    du[2] = dMDSC = α₂ + α₃*T/(γ₁+(T)) - ζ₂*MDSC \n",
    " # NK cells\n",
    "    du[3] = dNK = α₄ + α₅*(T^2)/(γ₂+(T^2)) - β₃*MDSC*NK - ζ₃*NK \n",
    " # CTL cells\n",
    "    du[4] = dCTL = α₆*T*NK + α₇*(T^2)/(γ₃+(T^2)) - β₄*MDSC*CTL - ζ₄*CTL\n",
    "end"
   ]
  },
  {
   "cell_type": "code",
   "execution_count": null,
   "id": "601d784a-612d-463b-beb6-b0fb4a80253c",
   "metadata": {},
   "outputs": [],
   "source": [
    "#set numerical solution algorithm\n",
    "alg_ODE = Tsit5()"
   ]
  },
  {
   "cell_type": "markdown",
   "id": "5fdf9699-1be3-4eab-b065-084068870453",
   "metadata": {},
   "source": [
    "## Panel A"
   ]
  },
  {
   "cell_type": "code",
   "execution_count": null,
   "id": "9cd4f185-7020-484a-8e65-30ed7f0ae670",
   "metadata": {},
   "outputs": [],
   "source": [
    "#set model parameters\n",
    "α₂ = 100.0 #MDSCs production rate\n",
    "α₃ = (10.0^8.0) #MDSCs expansion coefficient \n",
    "ζ₂ = 0.2 #MDSCs death rate\n",
    "\n",
    "α₁ = 10.0^(-1.0) #tumor growth rate\n",
    "η = 10.0^7.0 #tumor maximum size\n",
    "β₁ = 3.5*(10.0^(-6.0)) #tumor cells kill rate by NK cells\n",
    "β₂ = 1.1*(10.0^(-7.0)) #tumor cells kill rate by T cells\n",
    "ζ₁ = 0.0 #tumor cell death rate\n",
    "\n",
    "α₄ = 1.4*(10.0^4.0) #NK cells production rate\n",
    "α₅ = 2.5*(10.0^(-2.0)) #NK cells expansion coefficient\n",
    "β₃ = 4*(10.0^(-5.0)) #NK cells inactivation rate by MDSCs\n",
    "ζ₃ = 4.12*(10.0^(-2.0)) #NK cells death rate\n",
    "\n",
    "α₆ = 1.1*(10.0^(-7.0)) #CTL stimulation as a result of tumor-NK cell interaction\n",
    "α₇ = 10.0^(-1.0) #CTL expansion coefficient \n",
    "β₄ = (10.0^(-4.0)) #CTL inactivation rate by MDSCs\n",
    "ζ₄ = 2.0*(10.0^(-2.0)) #CTL death rate\n",
    "\n",
    "\n",
    "γ₁ = (10.0^(10.0)) #steepness coefficient of MDSC production curve\n",
    "γ₂ = 2.02*(10.0^(7.0)) #steepness coefficient of NK production curve\n",
    "γ₃ = 2.02*(10.0^(7.0)) #steepness coefficient of CTL production curve\n",
    "\n",
    "p = (α₂,α₃,ζ₂,α₁,η,β₁,β₂,ζ₁,α₄,α₅,β₃,ζ₃,α₆,α₇,β₄,ζ₄)\n",
    "tspan = (0.0,365.0)\n",
    "u0 = [1.0;α₂/ζ₂;ζ₂*α₄/(α₂*β₃+ζ₂*ζ₃);0.0]"
   ]
  },
  {
   "cell_type": "code",
   "execution_count": null,
   "id": "311d6203-9a0e-444e-b7b3-758a62b9d0ae",
   "metadata": {},
   "outputs": [],
   "source": [
    "#calculate growth condition G\n",
    "growthcondition = α₁*log(η)-β₁*(ζ₂*α₄/(α₂*β₃+ζ₂*ζ₃))-ζ₁"
   ]
  },
  {
   "cell_type": "code",
   "execution_count": null,
   "id": "8cabad9c-9e55-4b6f-9ae1-0e3491376aa3",
   "metadata": {},
   "outputs": [],
   "source": [
    "#solve with ζ₁ = 0\n",
    "prob_panel_a = ODEProblem(ode_system,u0,tspan,p)\n",
    "sol_panel_a = solve(prob_panel_a,alg_ODE)"
   ]
  },
  {
   "cell_type": "markdown",
   "id": "5a95b8d1-0d94-4c74-b7b4-dd3c56a34078",
   "metadata": {},
   "source": [
    "## Panel B"
   ]
  },
  {
   "cell_type": "code",
   "execution_count": null,
   "id": "b715add6-da4b-4bff-8bc3-cf2845f0ee7e",
   "metadata": {},
   "outputs": [],
   "source": [
    "#set model parameters\n",
    "α₂ = 100.0 #MDSCs production rate\n",
    "α₃ = (10.0^8.0) #MDSCs expansion coefficient \n",
    "ζ₂ = 0.2 #MDSCs death rate\n",
    "\n",
    "α₁ = 10.0^(-1.0) #tumor growth rate\n",
    "η = 10.0^7.0 #tumor maximum size\n",
    "β₁ = 3.5*(10.0^(-6.0)) #tumor cells kill rate by NK cells\n",
    "β₂ = 1.1*(10.0^(-7.0)) #tumor cells kill rate by T cells\n",
    "ζ₁ = 0.81 #tumor cell death rate\n",
    "\n",
    "α₄ = 1.4*(10.0^4.0) #NK cells production rate\n",
    "α₅ = 2.5*(10.0^(-2.0)) #NK cells expansion coefficient\n",
    "β₃ = 4*(10.0^(-5.0)) #NK cells inactivation rate by MDSCs\n",
    "ζ₃ = 4.12*(10.0^(-2.0)) #NK cells death rate\n",
    "\n",
    "α₆ = 1.1*(10.0^(-7.0)) #CTL stimulation as a result of tumor-NK cell interaction\n",
    "α₇ = 10.0^(-1.0) #CTL expansion coefficient \n",
    "β₄ = (10.0^(-4.0)) #CTL inactivation rate by MDSCs\n",
    "ζ₄ = 2.0*(10.0^(-2.0)) #CTL death rate\n",
    "\n",
    "\n",
    "γ₁ = (10.0^(10.0)) #steepness coefficient of MDSC production curve\n",
    "γ₂ = 2.02*(10.0^(7.0)) #steepness coefficient of NK production curve\n",
    "γ₃ = 2.02*(10.0^(7.0)) #steepness coefficient of CTL production curve\n",
    "\n",
    "p = (α₂,α₃,ζ₂,α₁,η,β₁,β₂,ζ₁,α₄,α₅,β₃,ζ₃,α₆,α₇,β₄,ζ₄)\n",
    "tspan = (0.0,365.0)\n",
    "u0 = [1.0;α₂/ζ₂;ζ₂*α₄/(α₂*β₃+ζ₂*ζ₃);0.0]"
   ]
  },
  {
   "cell_type": "code",
   "execution_count": null,
   "id": "3f448de6-9c31-4e66-b307-36f93920868f",
   "metadata": {},
   "outputs": [],
   "source": [
    "#calculate growth condition G\n",
    "growthcondition = α₁*log(η)-β₁*(ζ₂*α₄/(α₂*β₃+ζ₂*ζ₃))-ζ₁"
   ]
  },
  {
   "cell_type": "code",
   "execution_count": null,
   "id": "6ad0b52f-5517-4de3-bfaf-e6aec028851f",
   "metadata": {},
   "outputs": [],
   "source": [
    "#solve with ζ₁ = 0.81\n",
    "prob_panel_b = ODEProblem(ode_system,u0,tspan,p)\n",
    "sol_panel_b = solve(prob_panel_b,alg_ODE)"
   ]
  },
  {
   "cell_type": "markdown",
   "id": "8b4d8e89-b2e3-4fc4-855b-a67f5317ab25",
   "metadata": {},
   "source": [
    "## Panel C"
   ]
  },
  {
   "cell_type": "code",
   "execution_count": null,
   "id": "73669b1b-a692-44a6-8c25-32501fc3ef18",
   "metadata": {},
   "outputs": [],
   "source": [
    "#set model parameters\n",
    "α₂ = 100.0 #MDSCs production rate\n",
    "α₃ = (10.0^8.0) #MDSCs expansion coefficient \n",
    "ζ₂ = 0.2 #MDSCs death rate\n",
    "\n",
    "α₁ = 10.0^(-1.0) #tumor growth rate\n",
    "η = 10.0^7.0 #tumor maximum size\n",
    "β₁ = 3.5*(10.0^(-6.0)) #tumor cells kill rate by NK cells\n",
    "β₂ = 1.1*(10.0^(-7.0)) #tumor cells kill rate by T cells\n",
    "ζ₁ = 1.0 #tumor cell death rate\n",
    "\n",
    "α₄ = 1.4*(10.0^4.0) #NK cells production rate\n",
    "α₅ = 2.5*(10.0^(-2.0)) #NK cells expansion coefficient\n",
    "β₃ = 4*(10.0^(-5.0)) #NK cells inactivation rate by MDSCs\n",
    "ζ₃ = 4.12*(10.0^(-2.0)) #NK cells death rate\n",
    "\n",
    "α₆ = 1.1*(10.0^(-7.0)) #CTL stimulation as a result of tumor-NK cell interaction\n",
    "α₇ = 10.0^(-1.0) #CTL expansion coefficient \n",
    "β₄ = (10.0^(-4.0)) #CTL inactivation rate by MDSCs\n",
    "ζ₄ = 2.0*(10.0^(-2.0)) #CTL death rate\n",
    "\n",
    "\n",
    "γ₁ = (10.0^(10.0)) #steepness coefficient of MDSC production curve\n",
    "γ₂ = 2.02*(10.0^(7.0)) #steepness coefficient of NK production curve\n",
    "γ₃ = 2.02*(10.0^(7.0)) #steepness coefficient of CTL production curve\n",
    "\n",
    "p = (α₂,α₃,ζ₂,α₁,η,β₁,β₂,ζ₁,α₄,α₅,β₃,ζ₃,α₆,α₇,β₄,ζ₄)\n",
    "tspan = (0.0,365.0)\n",
    "u0 = [1.0;α₂/ζ₂;ζ₂*α₄/(α₂*β₃+ζ₂*ζ₃);0.0]"
   ]
  },
  {
   "cell_type": "code",
   "execution_count": null,
   "id": "24e5d958-bf11-4095-958f-1164f722f3ce",
   "metadata": {},
   "outputs": [],
   "source": [
    "#calculate growth condition G\n",
    "growthcondition = α₁*log(η)-β₁*(ζ₂*α₄/(α₂*β₃+ζ₂*ζ₃))-ζ₁"
   ]
  },
  {
   "cell_type": "code",
   "execution_count": null,
   "id": "badd4f61-4aa2-42f1-848d-4d4e10f040ab",
   "metadata": {},
   "outputs": [],
   "source": [
    "#solve with ζ₁ = 1.0\n",
    "prob_panel_c = ODEProblem(ode_system,u0,tspan,p)\n",
    "sol_panel_c = solve(prob_panel_c,alg_ODE)"
   ]
  },
  {
   "cell_type": "code",
   "execution_count": null,
   "id": "55fce8bd-9488-49ea-9ad4-d8d65c96528b",
   "metadata": {},
   "outputs": [],
   "source": [
    "#plot results\n",
    "l = @layout [a b c]\n",
    "logocolors = Colors.JULIA_LOGO_COLORS\n",
    "a = plot(sol_panel_a, lw = 4, yaxis=:log,size =(1600/3,600), font = \"Ariel\", ylims = (0.01,10^7.5), color = [logocolors.red \"goldenrod2\" logocolors.green logocolors.blue], alpha = [1 1 0.3 0.3], legend = false, xtickfontsize=25,ytickfontsize=25,xlabel=\"Time (days)\",xguidefontsize=25,ylabel=\"Number of cells\",yguidefontsize=25,title = \"G = 0.8\",titlefontsize=25)\n",
    "b = plot(sol_panel_b, lw = 4, yaxis=:log,size =(1600/3,600), font = \"Ariel\", ylims = (0.01,10^7.5), color = [logocolors.red \"goldenrod2\" logocolors.green logocolors.blue], alpha = [1 1 0.3 0.3], legend = false, xtickfontsize=25,ytickfontsize=25,xlabel=\"Time (days)\",xguidefontsize=25,ylabel=\"Number of cells\",yguidefontsize=25,title = \"G = 0\",titlefontsize=25)\n",
    "c = plot(sol_panel_c, lw = 4, yaxis=:log,size =(1600/3,600), font = \"Ariel\", ylims = (0.01,10^7.5), color = [logocolors.red \"goldenrod2\" logocolors.green logocolors.blue], alpha = [1 1 0.3 0.3], legend = false, xtickfontsize=25,ytickfontsize=25,xlabel=\"Time (days)\",xguidefontsize=25,ylabel=\"Number of cells\",yguidefontsize=25,title = \"G = -0.2\",titlefontsize=25)\n",
    "plot(a, b, c, layout = l,size =(1600,600),xtickfont=font(25),ytickfont=font(25),guidefont=font(25),legendfont=font(25),plot_title=\"Effect of tumor growth threshold G\", font = \"Ariel\",titlefontsize=25)"
   ]
  },
  {
   "cell_type": "markdown",
   "id": "7c5189bb-6a93-4c85-8db5-784b513b23fc",
   "metadata": {},
   "source": [
    "# Figure 3E-F"
   ]
  },
  {
   "cell_type": "code",
   "execution_count": null,
   "id": "242dcdf3-1232-48c8-860e-8650cd4b5528",
   "metadata": {},
   "outputs": [],
   "source": [
    "using DifferentialEquations\n",
    "using Plots"
   ]
  },
  {
   "cell_type": "code",
   "execution_count": null,
   "id": "817615ff-15a2-400d-b32f-d3c70a358b17",
   "metadata": {},
   "outputs": [],
   "source": [
    "#define model without delay\n",
    "function ode_system(du,u,p,t)\n",
    "    T,MDSC,NK,CTL = u\n",
    "    α₂,α₃,ζ₂,α₁,η,β₁,β₂,ζ₁,α₄,α₅,β₃,ζ₃,α₆,α₇,β₄,ζ₄ = p\n",
    "   \n",
    "# Cancer cells (tumor)\n",
    "    du[1] = dT = α₁*T*log(η/T) - β₁*T*NK - β₂*T*CTL - ζ₁*T\n",
    " # MDSCs \n",
    "    du[2] = dMDSC = α₂ + α₃*T/(γ₁+(T)) - ζ₂*MDSC \n",
    " # NK cells\n",
    "    du[3] = dNK = α₄ + α₅*(T^2)/(γ₂+(T^2)) - β₃*MDSC*NK - ζ₃*NK \n",
    " # CTL cells\n",
    "    du[4] = dCTL = α₆*T*NK + α₇*(T^2)/(γ₃+(T^2)) - β₄*MDSC*CTL - ζ₄*CTL\n",
    "end"
   ]
  },
  {
   "cell_type": "code",
   "execution_count": null,
   "id": "301b5c7f-583e-4471-8002-089ed75d296f",
   "metadata": {},
   "outputs": [],
   "source": [
    "#set numerical solution algorithm\n",
    "alg_ODE = Tsit5()"
   ]
  },
  {
   "cell_type": "markdown",
   "id": "54ecbf7c-bbc7-40ae-a502-28af8486c759",
   "metadata": {},
   "source": [
    "## Panel E"
   ]
  },
  {
   "cell_type": "code",
   "execution_count": null,
   "id": "2784a33a-a447-417b-a499-9e439824bd3c",
   "metadata": {},
   "outputs": [],
   "source": [
    "#set model parameters\n",
    "α₂ = 100.0 #MDSCs production rate\n",
    "α₃ = (10.0^8.0) #MDSCs expansion coefficient \n",
    "ζ₂ = 0.2 #MDSCs death rate\n",
    "\n",
    "α₁ = 10.0^(-1.0) #tumor growth rate\n",
    "η = 10.0^7.0 #tumor maximum size\n",
    "β₁ = 3.5*(10.0^(-6.0)) #tumor cells kill rate by NK cells\n",
    "β₂ = 1.1*(10.0^(-7.0)) #tumor cells kill rate by T cells\n",
    "ζ₁ = 0.0 #tumor cell death rate\n",
    "\n",
    "α₄ = 1.4*(10.0^4.0) #NK cells production rate\n",
    "α₅ = 2.5*(10.0^(-2.0)) #NK cells expansion coefficient\n",
    "β₃ = (10.0^(-5.0)) #NK cells inactivation rate by MDSCs\n",
    "ζ₃ = 4.12*(10.0^(-2.0)) #NK cells death rate\n",
    "\n",
    "α₆ = 1.1*(10.0^(-7.0)) #CTL stimulation as a result of tumor-NK cell interaction\n",
    "α₇ = 10.0^(-1.0) #CTL expansion coefficient \n",
    "β₄ = (10.0^(-4.0)) #CTL inactivation rate by MDSCs\n",
    "ζ₄ = 2.0*(10.0^(-2.0)) #CTL death rate\n",
    "\n",
    "\n",
    "γ₁ = (10.0^(10.0)) #steepness coefficient of MDSC production curve\n",
    "γ₂ = 2.02*(10.0^(7.0)) #steepness coefficient of NK production curve\n",
    "γ₃ = 2.02*(10.0^(7.0)) #steepness coefficient of CTL production curve\n",
    "\n",
    "p = (α₂,α₃,ζ₂,α₁,η,β₁,β₂,ζ₁,α₄,α₅,β₃,ζ₃,α₆,α₇,β₄,ζ₄)\n",
    "tspan = (0.0,365.0)\n",
    "u0 = [1.0;α₂/ζ₂;ζ₂*α₄/(α₂*β₃+ζ₂*ζ₃);0.0]"
   ]
  },
  {
   "cell_type": "code",
   "execution_count": null,
   "id": "d87ea63a-4b71-4ca1-a0be-9a1a1ac53128",
   "metadata": {},
   "outputs": [],
   "source": [
    "#calculate growth condition G\n",
    "growthcondition = α₁*log(η)-β₁*(ζ₂*α₄/(α₂*β₃+ζ₂*ζ₃))-ζ₁"
   ]
  },
  {
   "cell_type": "code",
   "execution_count": null,
   "id": "3b8f00e1-5fdc-446d-8cd7-eef77e720a98",
   "metadata": {},
   "outputs": [],
   "source": [
    "#solve with β₃ = 10⁻⁵\n",
    "prob_panel_e = ODEProblem(ode_system,u0,tspan,p)\n",
    "sol_panel_e = solve(prob_panel_e,alg_ODE)"
   ]
  },
  {
   "cell_type": "markdown",
   "id": "91d0cb41-42d0-41e2-a24a-1f89c2f05701",
   "metadata": {},
   "source": [
    "## Panel F"
   ]
  },
  {
   "cell_type": "code",
   "execution_count": null,
   "id": "eb29648d-61d1-466c-aa4a-e995fb3a3c94",
   "metadata": {},
   "outputs": [],
   "source": [
    "#set model parameters\n",
    "α₂ = 100.0 #MDSCs production rate\n",
    "α₃ = (10.0^8.0) #MDSCs expansion coefficient \n",
    "ζ₂ = 0.2 #MDSCs death rate\n",
    "\n",
    "α₁ = 10.0^(-1.0) #tumor growth rate\n",
    "η = 10.0^7.0 #tumor maximum size\n",
    "β₁ = 3.5*(10.0^(-6.0)) #tumor cells kill rate by NK cells\n",
    "β₂ = 1.1*(10.0^(-7.0)) #tumor cells kill rate by T cells\n",
    "ζ₁ = 0.0 #tumor cell death rate\n",
    "\n",
    "α₄ = 1.4*(10.0^4.0) #NK cells production rate\n",
    "α₅ = 2.5*(10.0^(-2.0)) #NK cells expansion coefficient\n",
    "β₃ = (10.0^(-4.0)) #NK cells inactivation rate by MDSCs\n",
    "ζ₃ = 4.12*(10.0^(-2.0)) #NK cells death rate\n",
    "\n",
    "α₆ = 1.1*(10.0^(-7.0)) #CTL stimulation as a result of tumor-NK cell interaction\n",
    "α₇ = 10.0^(-1.0) #CTL expansion coefficient \n",
    "β₄ = (10.0^(-4.0)) #CTL inactivation rate by MDSCs\n",
    "ζ₄ = 2.0*(10.0^(-2.0)) #CTL death rate\n",
    "\n",
    "\n",
    "γ₁ = (10.0^(10.0)) #steepness coefficient of MDSC production curve\n",
    "γ₂ = 2.02*(10.0^(7.0)) #steepness coefficient of NK production curve\n",
    "γ₃ = 2.02*(10.0^(7.0)) #steepness coefficient of CTL production curve\n",
    "\n",
    "p = (α₂,α₃,ζ₂,α₁,η,β₁,β₂,ζ₁,α₄,α₅,β₃,ζ₃,α₆,α₇,β₄,ζ₄)\n",
    "tspan = (0.0,365.0)\n",
    "u0 = [1.0;α₂/ζ₂;ζ₂*α₄/(α₂*β₃+ζ₂*ζ₃);0.0]"
   ]
  },
  {
   "cell_type": "code",
   "execution_count": null,
   "id": "1473f8e3-6557-4579-95f6-d3ebb8f21b56",
   "metadata": {},
   "outputs": [],
   "source": [
    "#calculate growth condition G\n",
    "growthcondition = α₁*log(η)-β₁*(ζ₂*α₄/(α₂*β₃+ζ₂*ζ₃))-ζ₁"
   ]
  },
  {
   "cell_type": "code",
   "execution_count": null,
   "id": "7800b55e-80a0-4fea-a641-906d36d2ffc3",
   "metadata": {},
   "outputs": [],
   "source": [
    "#solve with β₃ = 10⁻⁴\n",
    "prob_panel_f = ODEProblem(ode_system,u0,tspan,p)\n",
    "sol_panel_f = solve(prob_panel_f,alg_ODE)"
   ]
  },
  {
   "cell_type": "code",
   "execution_count": null,
   "id": "20beaca5-5aaa-483b-971c-adc40a394b42",
   "metadata": {},
   "outputs": [],
   "source": [
    "#plot results\n",
    "l = @layout [e f]\n",
    "logocolors = Colors.JULIA_LOGO_COLORS\n",
    "e = plot(sol_panel_e, lw = 4, yaxis=:log,size =(1600/2,600), font = \"Ariel\", ylims = (0.01,10^7.5), color = [logocolors.red \"goldenrod2\" logocolors.green logocolors.blue], alpha = [1 1 0.3 0.3], legend = false, xtickfontsize=25,ytickfontsize=25,xlabel=\"Time (days)\",xguidefontsize=25,ylabel=\"Number of cells\",yguidefontsize=25,title = \"β₃ = 10⁻⁵\",titlefontsize=25)\n",
    "f = plot(sol_panel_f, lw = 4, yaxis=:log,size =(1600/2,600), font = \"Ariel\", ylims = (0.01,10^7.5), color = [logocolors.red \"goldenrod2\" logocolors.green logocolors.blue], alpha = [1 1 0.3 0.3], legend = false, xtickfontsize=25,ytickfontsize=25,xlabel=\"Time (days)\",xguidefontsize=25,ylabel=\"Number of cells\",yguidefontsize=25,title = \"β₃ = 10⁻⁴\",titlefontsize=25)\n",
    "plot(e, f, layout = l,size =(1600,600),xtickfont=font(25),ytickfont=font(25),guidefont=font(25),legendfont=font(25),plot_title=\"Effect of NK cells inhibition rate by MDSCs β₃\", font = \"Ariel\",titlefontsize=25)"
   ]
  },
  {
   "cell_type": "markdown",
   "id": "70e611c9-f846-4269-9d2d-a0b1f578b001",
   "metadata": {},
   "source": [
    "# Figure 3D"
   ]
  },
  {
   "cell_type": "code",
   "execution_count": null,
   "id": "a495398d-5eee-4141-a4be-fca607281f41",
   "metadata": {},
   "outputs": [],
   "source": [
    "using DiffEqSensitivity\n",
    "using Statistics\n",
    "using DiffEqCallbacks\n",
    "using DifferentialEquations\n",
    "using Plots\n",
    "using GlobalSensitivity\n",
    "import Random"
   ]
  },
  {
   "cell_type": "code",
   "execution_count": null,
   "id": "b47cc579-8f52-4d91-8f0f-63062137f1bb",
   "metadata": {},
   "outputs": [],
   "source": [
    "#define condition for simulation to end\n",
    "function condition(u,t,integrator) \n",
    "  u[1] < 0.01 || u[2] < 0.0 || u[3] < 0.0 || u[4] < 0.0\n",
    "end\n",
    "floor_event = DiscreteCallback(condition, terminate!)"
   ]
  },
  {
   "cell_type": "code",
   "execution_count": null,
   "id": "636eb301-fb7e-4dde-a2d5-1464008e7146",
   "metadata": {},
   "outputs": [],
   "source": [
    "#define model without delay\n",
    "function model(du,u,p,t)\n",
    "    T,MDSC,NK,CTL = u\n",
    "    α₂,α₃,ζ₂,α₁,η,β₁,β₂,ζ₁,α₄,α₅,β₃,ζ₃,α₆,α₇,β₄,ζ₄,γ₁,γ₂,γ₃ = p\n",
    "   \n",
    "# Cancer cells (tumor)\n",
    "    du[1] = dT = α₁*T*log(max(η/T,1)) - β₁*T*NK - β₂*T*CTL - ζ₁*T \n",
    " # MDSCs \n",
    "    du[2] = dMDSC = α₂ + α₃*T/(γ₁+(T)) - ζ₂*MDSC \n",
    " # NK cells\n",
    "    du[3] = dNK = α₄ + α₅*(T^2)/(γ₂+(T^2)) - β₃*MDSC*NK - ζ₃*NK \n",
    " # CTL cells\n",
    "    du[4] = dCTL = α₆*T*NK + α₇*(T^2)/(γ₃+(T^2)) - β₄*MDSC*CTL - ζ₄*CTL\n",
    "end\n",
    "\n",
    "α₂ = 10.0*(10.0^1.0) #MDSCs production rate \n",
    "α₃ = (10.0^8.0) #MDSCs expansion coefficient \n",
    "ζ₂ = 0.2 #MDSCs death rate\n",
    "\n",
    "α₁ = 10.0^(-1.0) #tumor growth rate\n",
    "η = 10.0^7.0 #tumor maximum size\n",
    "β₁ = 3.5*(10.0^(-6.0)) #tumor cells kill rate by NK cells\n",
    "β₂ = 1.1*(10.0^(-7.0)) #tumor cells kill rate by T cells\n",
    "ζ₁ = 0.0 #tumor cell death rate\n",
    "\n",
    "α₄ = 1.4*(10.0^4.0) #NK cells production rate\n",
    "α₅ = 2.5*(10.0^(-2.0)) #NK cells expansion coefficient\n",
    "β₃ = 4*(10.0^(-5.0)) #NK cells inactivation rate by MDSCs\n",
    "ζ₃ = 4.12*(10.0^(-2.0)) #NK cells death rate\n",
    "\n",
    "α₆ = 1.1*(10.0^(-7.0)) #CTL stimulation as a result of tumor-NK cell interaction\n",
    "α₇ = 10.0^(-1.0) #CTL expansion coefficient \n",
    "β₄ = (10.0^(-4.0)) #CTL inactivation rate by MDSCs\n",
    "ζ₄ = 2.0*(10.0^(-2.0)) #CTL death rate\n",
    "\n",
    "γ₁ = (10.0^(10.0)) #steepness coefficient of MDSC production curve\n",
    "γ₂ = 2.02*(10.0^(7.0)) #steepness coefficient of NK production curve\n",
    "γ₃ = 2.02*(10.0^(7.0)) #steepness coefficient of CTL production curve\n",
    "\n",
    "p = (α₂,α₃,ζ₂,α₁,η,β₁,β₂,ζ₁,α₄,α₅,β₃,ζ₃,α₆,α₇,β₄,ζ₄,γ₁,γ₂,γ₃)\n",
    "tspan = (0.0,1000.0)\n",
    "u0 = [1.0;α₂/ζ₂;ζ₂*α₄/(α₂*β₃+ζ₂*ζ₃);0.0]\n",
    "prob = ODEProblem(model,u0,tspan,p)\n",
    "prob_SS = SteadyStateProblem(prob)"
   ]
  },
  {
   "cell_type": "code",
   "execution_count": null,
   "id": "6f8e168a-9dcb-48a3-8ff4-ccc00c81d9df",
   "metadata": {},
   "outputs": [],
   "source": [
    "#set up function for sensitivity analysis\n",
    "f = function (p)\n",
    "  prob_func(prob,i,repeat) = remake(prob;p=p[:,i])\n",
    "  ensemble_prob = EnsembleProblem(prob,prob_func=prob_func)\n",
    "    sol = solve(ensemble_prob,Tsit5(),maxiters=10^8,callback=floor_event,reltol=1e-6,isoutofdomain=(u,p,t)->any(x->x<0,u),EnsembleThreads(),trajectories=size(p,2))\n",
    "  out = zeros(2,size(p,2))\n",
    "  for i in 1:size(p,2)\n",
    "    out[1,i] = last(sol[i][1,:])\n",
    "    out[2,i] = maximum(sol[i][1,:]) \n",
    "  end\n",
    "  out\n",
    "end"
   ]
  },
  {
   "cell_type": "code",
   "execution_count": null,
   "id": "a1451dcd-6532-48ce-adee-89717e599274",
   "metadata": {},
   "outputs": [],
   "source": [
    "#perform sensitivity analysis (with set random seed for reproducibility)\n",
    "Random.seed!(1200)\n",
    "m = gsa(f,Morris(total_num_trajectory=200,num_trajectory=20),[[0.0,10.0^(3.0)],[10.0^(7.0),10.0^(9.0)],[0.0,1.0],[10.0^(-2.0),5*10.0^(-1.0)],[10.0^(6.0),10.0^(8.0)],[10.0^(-7.0),10.0^(-6.0)],[10.0^(-7.0),10.0^(-6.0)],[0.0,0.1],[10.0^(3.0),10.0^(5.0)],[10.0^(-2.0),10.0^(-1.0)],[10.0^(-5.0),10.0^(-4.0)],[10.0^(-2.0),10.0^(-1.0)],[10.0^(-7.0),10.0^(-6.0)],[5*10.0^(-2.0),10.0^(-1.0)],[5*10.0^(-5.0),5*10.0^(-4.0)],[10.0^(-2.0),10.0^(-1.0)],[10.0^(9.0),10.0^(11.0)],[10.0^(6.0),10.0^(8.0)],[10.0^(6.0),10.0^(8.0)]],batch=true)"
   ]
  },
  {
   "cell_type": "code",
   "execution_count": null,
   "id": "42659af3-2bf2-401d-b62d-22a0e221e9c5",
   "metadata": {},
   "outputs": [],
   "source": [
    "#sensitivity analysis values\n",
    "m.means"
   ]
  },
  {
   "cell_type": "code",
   "execution_count": null,
   "id": "3024360a-22c1-4c3d-a35d-448c3ce484c1",
   "metadata": {},
   "outputs": [],
   "source": [
    "#sensitivity analysis values\n",
    "means1 = m.means[1,:]"
   ]
  },
  {
   "cell_type": "code",
   "execution_count": null,
   "id": "3d62ff0e-9eb4-4694-8143-30ba1c63580c",
   "metadata": {},
   "outputs": [],
   "source": [
    "#sensitivity analysis values\n",
    "means2 = m.means[2,:]"
   ]
  },
  {
   "cell_type": "code",
   "execution_count": null,
   "id": "9b31f4aa-c778-4212-9bb7-718d724eaaca",
   "metadata": {},
   "outputs": [],
   "source": [
    "#sensitivity analysis values\n",
    "m.variances"
   ]
  },
  {
   "cell_type": "code",
   "execution_count": null,
   "id": "639c2c6b-cd34-4a95-8d6c-99e192ff5ba1",
   "metadata": {},
   "outputs": [],
   "source": [
    "#use absolute value for plotting\n",
    "for i = 1:length(means1)\n",
    "   means1[i] = abs(means1[i]) \n",
    "   means2[i] = abs(means2[i]) \n",
    "end"
   ]
  },
  {
   "cell_type": "code",
   "execution_count": null,
   "id": "e5c10ac1-1265-4cee-96d7-96a34bbb01af",
   "metadata": {},
   "outputs": [],
   "source": [
    "#sensitivity analysis values\n",
    "means1"
   ]
  },
  {
   "cell_type": "code",
   "execution_count": null,
   "id": "2f51ef7e-507a-46d7-8ab4-1d801ab9185e",
   "metadata": {},
   "outputs": [],
   "source": [
    "#sensitivity analysis values\n",
    "means2"
   ]
  },
  {
   "cell_type": "code",
   "execution_count": null,
   "id": "c4ece41b-adea-494c-930b-9e611e2b363c",
   "metadata": {},
   "outputs": [],
   "source": [
    "#plot results\n",
    "l = @layout [a b]\n",
    "plot1 = scatter(means1, m.variances[1,:],series_annotations=[:α₂,:α₃,:ζ₂,:α₁,:η,:β₁,:β₂,:ζ₁,:α₄,:α₅,:β₃,:ζ₃,:α₆,:α₇,:β₄,:ζ₄,:γ₁,:γ₂,:γ₃],seriescolor=[:yellow :red :green],xscale=:log10,yscale=:log10,markersize=20,legend=false, title = \"Steady state of tumor population\", xlabel = \"Mean\", ylabel = \"Variance\")\n",
    "plot2 = scatter(means2, m.variances[2,:],series_annotations=[:α₂,:α₃,:ζ₂,:α₁,:η,:β₁,:β₂,:ζ₁,:α₄,:α₅,:β₃,:ζ₃,:α₆,:α₇,:β₄,:ζ₄,:γ₁,:γ₂,:γ₃],color=:yellow,xscale=:log10,yscale=:log10,markersize=20,legend=false, title = \"Maximum of tumor population\", xlabel = \"Mean\", ylabel = \"Variance\")\n",
    "plot(plot1, plot2, layout = l,size =(1600,600),xtickfont=font(18),ytickfont=font(18),guidefont=font(25),legendfont=font(25),titlefont=font(25))"
   ]
  },
  {
   "cell_type": "code",
   "execution_count": null,
   "id": "ae945f81-fdb8-4eda-9166-8260f906b394",
   "metadata": {},
   "outputs": [],
   "source": [
    "#plot results\n",
    "plot_justmean = scatter([\"α₂\",\"α₃\",\"ζ₂\",\"α₁\",\"η\",\"β₁\",\"β₂\",\"ζ₁\",\"α₄\",\"α₅\",\"β₃\",\"ζ₃\",\"α₆\",\"α₇\",\"β₄\",\"ζ₄\",\"γ₁\",\"γ₂\",\"γ₃\"],means1,color=[:lightgreen, :lightgreen, :red, :lightgreen, :lightgreen, :red, :red, :red, :red, :red, :lightgreen, :lightgreen, :red, :red, :lightgreen, :lightgreen, :red, :lightgreen, :lightgreen],yscale=:log10,markersize=20,legend=false, title = \"\", xlabel = \"Parameter\", ylabel = \"Morris mean\") #mean of tumor population\n",
    "plot(plot_justmean,size =(1600,600),xtickfont=font(18),ytickfont=font(18),guidefont=font(25),legendfont=font(25),titlefont=font(25), xticks = :all)"
   ]
  },
  {
   "cell_type": "code",
   "execution_count": null,
   "id": "ee7d1cce-0e4f-463b-93ff-779c51d966a2",
   "metadata": {},
   "outputs": [],
   "source": [
    "#plot results\n",
    "vector_1 = [\"α₆\", \"β₁\", \"β₂\", \"β₃\", \"β₄\", \"ζ₁\", \"α₁\", \"ζ₃\", \"ζ₂\", \"ζ₄\", \"α₂\", \"α₅\", \"α₄\", \"α₇\", \"η\", \"α₃\", \"γ₁\", \"γ₃\", \"γ₂\"]\n",
    "vector_2 = [6.60E+11,3.83E+11,2.51E+11,1.55E+10,6.60E+08,1.95E+08,6.98E+07,1.02E+07,2.78E+06,26002.62771,103.8344697,11.91689027,11.61676075,4.113746122,0.629535045,0.082723438,9.69E-06,3.86E-12,3.44E-12]\n",
    "\n",
    "non_MDSC_size = 30\n",
    "MDSC_size = 40\n",
    "\n",
    "non_MDSC_alpha = 0.6\n",
    "MDSC_alpha = 1\n",
    "\n",
    "non_MDSC_strokewidth = 1\n",
    "MDSC_strokewidth = 2\n",
    "\n",
    "color_positive = [95,177,42]\n",
    "color_negative = [226,58,52]\n",
    "\n",
    "logocolors = Colors.JULIA_LOGO_COLORS\n",
    "\n",
    "vector_size = [non_MDSC_size,non_MDSC_size,non_MDSC_size,MDSC_size,MDSC_size,non_MDSC_size,non_MDSC_size,non_MDSC_size,MDSC_size,non_MDSC_size,MDSC_size,non_MDSC_size,non_MDSC_size,non_MDSC_size,non_MDSC_size,MDSC_size,MDSC_size,non_MDSC_size,non_MDSC_size]\n",
    "vector_alpha = [non_MDSC_alpha,non_MDSC_alpha,non_MDSC_alpha,MDSC_alpha,MDSC_alpha,non_MDSC_alpha,non_MDSC_alpha,non_MDSC_alpha,MDSC_alpha,non_MDSC_alpha,MDSC_alpha,non_MDSC_alpha,non_MDSC_alpha,non_MDSC_alpha,non_MDSC_alpha,MDSC_alpha,MDSC_alpha,non_MDSC_alpha,non_MDSC_alpha]\n",
    "vector_color = [logocolors.red, logocolors.red, logocolors.red, logocolors.green, logocolors.green, logocolors.red, logocolors.green, logocolors.green, logocolors.red, logocolors.green, logocolors.green, logocolors.red, logocolors.red, logocolors.red, logocolors.green, logocolors.green, logocolors.red, logocolors.green, logocolors.green]\n",
    "vector_strokewidth = [non_MDSC_strokewidth,non_MDSC_strokewidth,non_MDSC_strokewidth,MDSC_strokewidth,MDSC_strokewidth,non_MDSC_strokewidth,non_MDSC_strokewidth,non_MDSC_strokewidth,MDSC_strokewidth,non_MDSC_strokewidth,MDSC_strokewidth,non_MDSC_strokewidth,non_MDSC_strokewidth,non_MDSC_strokewidth,non_MDSC_strokewidth,MDSC_strokewidth,MDSC_strokewidth,non_MDSC_strokewidth,non_MDSC_strokewidth]\n",
    "vector_shape = [:circle, :circle, :circle, :hexagon, :hexagon, :circle, :circle, :circle, :hexagon, :circle, :hexagon, :circle, :circle, :circle, :circle, :hexagon, :hexagon, :circle, :circle]\n",
    "\n",
    "plot_justmean = scatter(vector_1,vector_2,color=vector_color,yscale=:log10,markersize=vector_size, alpha = vector_alpha, markerstrokewidth = vector_strokewidth, markershape = vector_shape, legend=false, title = \"\", xlabel = \"Parameter\", ylabel = \"Mean\", ylims = [10^(-12), 10^13])\n",
    "plot(plot_justmean,size =(1600,600),font = \"Ariel\",xtickfont=font(25),ytickfont=font(25),guidefont=font(25),legendfont=font(25),titlefont=font(25),xticks = :all,plot_title=\"Morris global parameter sensitivity analysis\",titlefontsize=25)"
   ]
  },
  {
   "cell_type": "markdown",
   "id": "d2e189dc-9e1d-4bc2-a55f-95b39c318a8d",
   "metadata": {},
   "source": [
    "# Figures 4A,C and S2"
   ]
  },
  {
   "cell_type": "code",
   "execution_count": null,
   "id": "0689d9c5-a9b4-40e3-9273-2bab4c83a9b1",
   "metadata": {},
   "outputs": [],
   "source": [
    "using DifferentialEquations\n",
    "using Plots\n",
    "using StochasticDelayDiffEq\n",
    "using DiffEqCallbacks\n",
    "using Statistics\n",
    "import Random"
   ]
  },
  {
   "cell_type": "code",
   "execution_count": null,
   "id": "d19ed08d-1a91-4cf5-a323-ea0d1aa11de2",
   "metadata": {},
   "outputs": [],
   "source": [
    "#define model with delay\n",
    "function dde_system(du,u,h,p,t)\n",
    "    T,MDSC,NK,CTL = u\n",
    "    α₂,α₃,ζ₂,α₁,η,β₁,β₂,ζ₁,α₄,α₅,β₃,ζ₃,α₆,α₇,β₄,ζ₄ = p\n",
    "    histC_MDSC = h(p, t-τ; idxs=1)\n",
    "   \n",
    "# Cancer cells (tumor)\n",
    "    du[1] = dT = α₁*T*log(η/T) - β₁*T*NK - β₂*T*CTL - ζ₁*T\n",
    " # MDSCs \n",
    "    du[2] = dMDSC = α₂ + α₃*histC_MDSC/(γ₁+(histC_MDSC)) - ζ₂*MDSC \n",
    " # NK cells\n",
    "    du[3] = dNK = α₄ + α₅*(T^2)/(γ₂+(T^2)) - β₃*MDSC*NK - ζ₃*NK \n",
    " # CTL cells\n",
    "    du[4] = dCTL = α₆*T*NK + α₇*(T^2)/(γ₃+(T^2)) - β₄*MDSC*CTL - ζ₄*CTL\n",
    "end"
   ]
  },
  {
   "cell_type": "code",
   "execution_count": null,
   "id": "20a1cf99-0384-405f-a0c7-6e4ec6ad70e2",
   "metadata": {},
   "outputs": [],
   "source": [
    "#define model without delay\n",
    "function ode_system(du,u,p,t)\n",
    "    T,MDSC,NK,CTL = u\n",
    "    α₂,α₃,ζ₂,α₁,η,β₁,β₂,ζ₁,α₄,α₅,β₃,ζ₃,α₆,α₇,β₄,ζ₄ = p\n",
    "   \n",
    "# Cancer cells (tumor)\n",
    "    du[1] = dT = α₁*T*log(η/T) - β₁*T*NK - β₂*T*CTL - ζ₁*T\n",
    " # MDSCs \n",
    "    du[2] = dMDSC = α₂ + α₃*T/(γ₁+(T)) - ζ₂*MDSC \n",
    " # NK cells\n",
    "    du[3] = dNK = α₄ + α₅*(T^2)/(γ₂+(T^2)) - β₃*MDSC*NK - ζ₃*NK \n",
    " # CTL cells\n",
    "    du[4] = dCTL = α₆*T*NK + α₇*(T^2)/(γ₃+(T^2)) - β₄*MDSC*CTL - ζ₄*CTL\n",
    "end"
   ]
  },
  {
   "cell_type": "code",
   "execution_count": null,
   "id": "60683eaf-8466-4a4b-a892-45c0343accf0",
   "metadata": {},
   "outputs": [],
   "source": [
    "#define initial number of tumor cells for delay model\n",
    "h(p, t; idxs=nothing) = typeof(idxs) <: Number ? 2.0 : ones(4).+ 1\n",
    "h(1,0)"
   ]
  },
  {
   "cell_type": "code",
   "execution_count": null,
   "id": "a3334e5e-bf49-412d-92f4-61ce073e788c",
   "metadata": {},
   "outputs": [],
   "source": [
    "#set model parameters\n",
    "α₂ = 10.0*(10.0^1.0) #MDSCs production\n",
    "α₃ = (10.0^8.0) #MDSCs expansion coefficient \n",
    "ζ₂ = 0.2 #MDSCs death rate\n",
    "\n",
    "α₁ = 10.0^(-1.0) #tumor growth rate\n",
    "η = 10.0^7.0 #tumor maximum size\n",
    "β₁ = 3.5*(10.0^(-6.0)) #tumor cells kill rate by NK cells\n",
    "β₂ = 1.1*(10.0^(-7.0)) #tumor cells kill rate by T cells\n",
    "ζ₁ = 0.0 #tumor cell death rate\n",
    "\n",
    "α₄ = 1.4*(10.0^4.0) #NK cells production rate\n",
    "α₅ = 2.5*(10.0^(-2.0)) #NK cells expansion coefficient\n",
    "β₃ = 4*(10.0^(-5.0)) #NK cells inactivation rate by MDSCs\n",
    "ζ₃ = 4.12*(10.0^(-2.0)) #NK cells death rate\n",
    "\n",
    "α₆ = 1.1*(10.0^(-7.0)) #CTL stimulation as a result of tumor-NK cell interaction\n",
    "α₇ = 10.0^(-1.0) #CTL expansion coefficient \n",
    "β₄ = (10.0^(-4.0)) #CTL inactivation rate by MDSCs\n",
    "ζ₄ = 2.0*(10.0^(-2.0)) #CTL death rate\n",
    "\n",
    "γ₁ = (10.0^(10.0)) #steepness coefficient of MDSC production curve\n",
    "γ₂ = 2.02*(10.0^(7.0)) #steepness coefficient of NK production curve\n",
    "γ₃ = 2.02*(10.0^(7.0)) #steepness coefficient of CTL production curve\n",
    "\n",
    "p = (α₂,α₃,ζ₂,α₁,η,β₁,β₂,ζ₁,α₄,α₅,β₃,ζ₃,α₆,α₇,β₄,ζ₄)\n",
    "tspan = (0.0,365.0)\n",
    "u0 = [2.0;α₂/ζ₂;ζ₂*α₄/(α₂*β₃+ζ₂*ζ₃);0.0]"
   ]
  },
  {
   "cell_type": "code",
   "execution_count": null,
   "id": "d0953813-ce89-44e7-a489-00c9216b51e1",
   "metadata": {},
   "outputs": [],
   "source": [
    "#define stochastic noise\n",
    "W = WienerProcess(0.0,0.0,0.0)\n",
    "\n",
    "function σfunction(du,u,h,p,t)\n",
    "  du[1] = u[1]\n",
    "  du[2] = u[2]\n",
    "  du[3] = u[3]\n",
    "  du[4] = u[4]\n",
    "end\n",
    "\n",
    "function σfunction_nodelay(du,u,p,t)\n",
    "  du[1] = u[1]\n",
    "  du[2] = u[2]\n",
    "  du[3] = u[3]\n",
    "  du[4] = u[4]\n",
    "end"
   ]
  },
  {
   "cell_type": "code",
   "execution_count": null,
   "id": "b96a5e38-3197-4124-9594-327f796eb8f9",
   "metadata": {},
   "outputs": [],
   "source": [
    "#define conditions for simulation to end\n",
    "function condition(u,t,integrator) \n",
    "  u[1] < 1.0\n",
    "end\n",
    "\n",
    "function floor_aff!(integrator)\n",
    "    integrator.u[1]=1.0\n",
    "end\n",
    "\n",
    "function terminate_affect!(integrator)\n",
    "    terminate!(integrator)\n",
    "end\n",
    "\n",
    "floor_event = DiscreteCallback(condition, terminate!)\n",
    "floor_event2 = DiscreteCallback(condition, floor_aff!)"
   ]
  },
  {
   "cell_type": "markdown",
   "id": "1e4d022f-548d-48e7-ad9f-51a1ab53e89a",
   "metadata": {},
   "source": [
    "## Panel A"
   ]
  },
  {
   "cell_type": "code",
   "execution_count": null,
   "id": "be953961-37cc-4a6e-944b-faf4996a3294",
   "metadata": {},
   "outputs": [],
   "source": [
    "#solve with τ = 0 (with set random seed for reproducibility)\n",
    "runs = 1.0\n",
    "tumorsuccess = 0.0\n",
    "threshold = 1.0\n",
    "\n",
    "Random.seed!(1240)\n",
    "\n",
    "meanofsuccessfulltumors = 0.0;\n",
    "\n",
    "logocolors = Colors.JULIA_LOGO_COLORS\n",
    "\n",
    "prob_nodelay = SDEProblem(ode_system,σfunction_nodelay,u0,tspan,p,noise=W)\n",
    "sol = solve(prob_nodelay,SOSRI(),callback=floor_event)\n",
    "\n",
    "A = minimum(sol[1,:])    \n",
    "\n",
    "if A ≥ threshold\n",
    "    tumorsuccess = tumorsuccess + 1\n",
    "    meanofsuccessfulltumors = meanofsuccessfulltumors + mean(sol[1,:])\n",
    "    a = plot(sol, lw = 4, yaxis=:log, size =(800,600), font = \"Ariel\", ylims = (0.01,10^7.5), color = [logocolors.red \"goldenrod2\" logocolors.green logocolors.blue], alpha = [1 1 0.2 0.2], legend = false, xtickfontsize=25,ytickfontsize=25,xlabel=\"Time (days)\",xguidefontsize=25,ylabel=\"Number of cells\",yguidefontsize=25,title = \"τ = 0\",titlefontsize=25) \n",
    "\n",
    "    display(a)\n",
    "else\n",
    "    for j in 1:length(sol[1,:])\n",
    "        global BB = j\n",
    "        if sol[1,j] < threshold\n",
    "            break\n",
    "        end\n",
    "    end\n",
    "    plot1 = plot(sol, lw = 4, yaxis=:log,size =(800,600), font = \"Ariel\", xlims = (0,sol.t[BB]), ylims = (0.01,10^7.5), color = [logocolors.red \"goldenrod2\" logocolors.green logocolors.blue], alpha = [1 1 0.2 0.2], legend = false, xtickfontsize=25,ytickfontsize=25,xlabel=\"Time (days)\",xguidefontsize=25,ylabel=\"Number of cells\",yguidefontsize=25,title = \"τ = 0\",titlefontsize=25)\n",
    "    display(plot1)\n",
    "end\n",
    "    \n",
    "print(100*tumorsuccess/runs, \"\\n\")\n",
    "\n",
    "print(meanofsuccessfulltumors/tumorsuccess)"
   ]
  },
  {
   "cell_type": "markdown",
   "id": "22c76eac-f0d8-499b-b0eb-dd04b5264d70",
   "metadata": {},
   "source": [
    "## Panel B"
   ]
  },
  {
   "cell_type": "code",
   "execution_count": null,
   "id": "e3a81276-2f6c-4c44-957e-0ba51acdf351",
   "metadata": {},
   "outputs": [],
   "source": [
    "#solve with τ = 10 (with set random seed for reproducibility)\n",
    "τ = 10.0\n",
    "lags = [τ]\n",
    "\n",
    "print(τ, \"\\n\")\n",
    "\n",
    "runs = 1.0\n",
    "tumorsuccess = 0.0\n",
    "threshold = 1.0\n",
    "\n",
    "Random.seed!(1240)\n",
    "\n",
    "meanofsuccessfulltumors = 0.0;\n",
    "\n",
    "logocolors = Colors.JULIA_LOGO_COLORS\n",
    "    \n",
    "prob1 = SDDEProblem(dde_system,σfunction,u0,h,tspan,p; constant_lags=lags,noise=W)\n",
    "sol = solve(prob1,SOSRI(),maxiters=10^8,callback=floor_event2)\n",
    "\n",
    "A = minimum(sol[1,:])    \n",
    "\n",
    "if A ≥ threshold\n",
    "    tumorsuccess = tumorsuccess + 1\n",
    "    meanofsuccessfulltumors = meanofsuccessfulltumors + mean(sol[1,:])\n",
    "    b = plot(sol, lw = 4, yaxis=:log, size =(800,600), font = \"Ariel\", ylims = (0.01,10^7.5), color = [logocolors.red \"goldenrod2\" logocolors.green logocolors.blue], alpha = [1 1 0.2 0.2], legend = false, xtickfontsize=25,ytickfontsize=25,xlabel=\"Time (days)\",xguidefontsize=25,ylabel=\"Number of cells\",yguidefontsize=25,title = \"τ = 10\",titlefontsize=25) \n",
    "\n",
    "    display(b)\n",
    "else\n",
    "    for j in 1:length(sol[1,:])\n",
    "        global BB = j\n",
    "        if sol[1,j] < threshold\n",
    "            break\n",
    "        end\n",
    "    end\n",
    "    plot1 = plot(sol, lw = 4, yaxis=:log,size =(800,600), font = \"Ariel\", xlims = (0,sol.t[BB]), ylims = (0.01,10^7.5), color = [logocolors.red \"goldenrod2\" logocolors.green logocolors.blue], alpha = [1 1 0.2 0.2], legend = false, xtickfontsize=25,ytickfontsize=25,xlabel=\"Time (days)\",xguidefontsize=25,ylabel=\"Number of cells\",yguidefontsize=25,title = \"τ = 10\",titlefontsize=25)\n",
    "    display(plot1)\n",
    "end\n",
    "\n",
    "print(100*tumorsuccess/runs, \"\\n\")\n",
    "\n",
    "print(meanofsuccessfulltumors/tumorsuccess)"
   ]
  },
  {
   "cell_type": "markdown",
   "id": "e5a6364f-7493-4df9-bebe-161853980786",
   "metadata": {},
   "source": [
    "## Panel C"
   ]
  },
  {
   "cell_type": "code",
   "execution_count": null,
   "id": "4b3be222-ff75-4f8c-ba4e-696d6648ea7b",
   "metadata": {},
   "outputs": [],
   "source": [
    "#solve with τ = 50 (with set random seed for reproducibility)\n",
    "τ = 50.0\n",
    "lags = [τ]\n",
    "\n",
    "print(τ, \"\\n\")\n",
    "\n",
    "runs = 1.0\n",
    "tumorsuccess = 0.0\n",
    "threshold = 1.0\n",
    "\n",
    "Random.seed!(1240)\n",
    "\n",
    "meanofsuccessfulltumors = 0.0;\n",
    "\n",
    "logocolors = Colors.JULIA_LOGO_COLORS\n",
    "\n",
    "prob1 = SDDEProblem(dde_system,σfunction,u0,h,tspan,p; constant_lags=lags,noise=W)\n",
    "sol = solve(prob1,SOSRI(),maxiters=10^8,callback=floor_event2)\n",
    "\n",
    "A = minimum(sol[1,:])    \n",
    "\n",
    "if A ≥ threshold\n",
    "    tumorsuccess = tumorsuccess + 1\n",
    "    meanofsuccessfulltumors = meanofsuccessfulltumors + mean(sol[1,:])\n",
    "    c = plot(sol, lw = 4, yaxis=:log, size =(800,600), font = \"Ariel\", ylims = (0.01,10^7.5), color = [logocolors.red \"goldenrod2\" logocolors.green logocolors.blue], alpha = [1 1 0.2 0.2], legend = false, xtickfontsize=25,ytickfontsize=25,xlabel=\"Time (days)\",xguidefontsize=25,ylabel=\"Number of cells\",yguidefontsize=25,title = \"τ = 50\",titlefontsize=25) \n",
    "\n",
    "    display(c)\n",
    "else\n",
    "    for j in 1:length(sol[1,:])\n",
    "        global BB = j\n",
    "        if sol[1,j] < threshold\n",
    "            break\n",
    "        end\n",
    "    end\n",
    "    plot1 = plot(sol, lw = 4, yaxis=:log,size =(800,600), font = \"Ariel\", xlims = (0,sol.t[BB]), ylims = (0.01,10^7.5), color = [logocolors.red \"goldenrod2\" logocolors.green logocolors.blue], alpha = [1 1 0.2 0.2], legend = false, xtickfontsize=25,ytickfontsize=25,xlabel=\"Time (days)\",xguidefontsize=25,ylabel=\"Number of cells\",yguidefontsize=25,title = \"τ = 50\",titlefontsize=25)\n",
    "    display(plot1)\n",
    "end\n",
    "\n",
    "print(100*tumorsuccess/runs, \"\\n\")\n",
    "\n",
    "print(meanofsuccessfulltumors/tumorsuccess)"
   ]
  },
  {
   "cell_type": "markdown",
   "id": "24b4465b-b3cc-4d9d-9f98-c188fd65f68e",
   "metadata": {},
   "source": [
    "## Panel D"
   ]
  },
  {
   "cell_type": "code",
   "execution_count": null,
   "id": "2131d058-aebe-4d48-9036-b810e13f8941",
   "metadata": {},
   "outputs": [],
   "source": [
    "#solve with τ = 365 (with set random seed for reproducibility)\n",
    "τ = 365.0\n",
    "lags = [τ]\n",
    "\n",
    "print(τ, \"\\n\")\n",
    "\n",
    "runs = 1.0\n",
    "tumorsuccess = 0.0\n",
    "threshold = 1.0\n",
    "\n",
    "Random.seed!(1256)\n",
    "\n",
    "meanofsuccessfulltumors = 0.0;\n",
    "\n",
    "logocolors = Colors.JULIA_LOGO_COLORS\n",
    " \n",
    "prob1 = SDDEProblem(dde_system,σfunction,u0,h,tspan,p; constant_lags=lags,noise=W)\n",
    "sol = solve(prob1,SOSRI(),maxiters=10^8,callback=floor_event2)\n",
    "\n",
    "A = minimum(sol[1,:])    \n",
    "\n",
    "if A ≥ threshold\n",
    "    tumorsuccess = tumorsuccess + 1\n",
    "    meanofsuccessfulltumors = meanofsuccessfulltumors + mean(sol[1,:])\n",
    "    d = plot(sol, lw = 4, yaxis=:log, size =(800,600), font = \"Ariel\", ylims = (0.01,10^7.5), color = [logocolors.red \"goldenrod2\" logocolors.green logocolors.blue], alpha = [1 1 0.2 0.2], legend = false, xtickfontsize=25,ytickfontsize=25,xlabel=\"Time (days)\",xguidefontsize=25,ylabel=\"Number of cells\",yguidefontsize=25,title = \"τ = 365\",titlefontsize=25) \n",
    "\n",
    "    display(d)\n",
    "else\n",
    "    for j in 1:length(sol[1,:])\n",
    "        global BB = j\n",
    "        if sol[1,j] < threshold\n",
    "            break\n",
    "        end\n",
    "    end\n",
    "    plot1 = plot(sol, lw = 4, yaxis=:log,size =(800,600), font = \"Ariel\", xlims = (0,sol.t[BB]), ylims = (0.01,10^7.5), color = [logocolors.red \"goldenrod2\" logocolors.green logocolors.blue], alpha = [1 1 0.2 0.2], legend = false, xtickfontsize=25,ytickfontsize=25,xlabel=\"Time (days)\",xguidefontsize=25,ylabel=\"Number of cells\",yguidefontsize=25,title = \"τ = 365\",titlefontsize=25)\n",
    "    display(plot1)\n",
    "end\n",
    "\n",
    "\n",
    "print(100*tumorsuccess/runs, \"\\n\")\n",
    "\n",
    "print(meanofsuccessfulltumors/tumorsuccess)"
   ]
  },
  {
   "cell_type": "markdown",
   "id": "7a5fd956-5c0b-466a-a09c-ea3b822089b4",
   "metadata": {},
   "source": [
    "## Plot"
   ]
  },
  {
   "cell_type": "code",
   "execution_count": null,
   "id": "c242c4d4-8625-42a4-8c7d-222236c98388",
   "metadata": {},
   "outputs": [],
   "source": [
    "#plot results\n",
    "l = @layout [a b; c d]\n",
    "logocolors = Colors.JULIA_LOGO_COLORS\n",
    "plot(a, b, c, d, layout = l,size =(1600,1200),xtickfont=font(25),ytickfont=font(25),guidefont=font(25),legendfont=font(25),plot_title=\"Successful tumors\", font = \"Ariel\",titlefontsize=25)"
   ]
  },
  {
   "cell_type": "markdown",
   "id": "a83567f3-08ff-46ad-9d15-fbcf9c6cf586",
   "metadata": {},
   "source": [
    "# Figures 4B,D and S3"
   ]
  },
  {
   "cell_type": "code",
   "execution_count": null,
   "id": "12a6d36e-f25a-47c3-8f93-3768abfa884e",
   "metadata": {},
   "outputs": [],
   "source": [
    "using DifferentialEquations\n",
    "using Plots\n",
    "using StochasticDelayDiffEq\n",
    "using DiffEqCallbacks\n",
    "using Statistics \n",
    "import Random"
   ]
  },
  {
   "cell_type": "code",
   "execution_count": null,
   "id": "ea106526-7908-4a87-b623-8aa417819efb",
   "metadata": {},
   "outputs": [],
   "source": [
    "#define model with delay\n",
    "function dde_system(du,u,h,p,t)\n",
    "    T,MDSC,NK,CTL = u\n",
    "    α₂,α₃,ζ₂,α₁,η,β₁,β₂,ζ₁,α₄,α₅,β₃,ζ₃,α₆,α₇,β₄,ζ₄ = p\n",
    "    histC_MDSC = h(p, t-τ; idxs=1)\n",
    "   \n",
    "# Cancer cells (tumor)\n",
    "    du[1] = dT = α₁*T*log(η/T) - β₁*T*NK - β₂*T*CTL - ζ₁*T\n",
    " # MDSCs \n",
    "    du[2] = dMDSC = α₂ + α₃*histC_MDSC/(γ₁+(histC_MDSC)) - ζ₂*MDSC \n",
    " # NK cells\n",
    "    du[3] = dNK = α₄ + α₅*(T^2)/(γ₂+(T^2)) - β₃*MDSC*NK - ζ₃*NK \n",
    " # CTL cells\n",
    "    du[4] = dCTL = α₆*T*NK + α₇*(T^2)/(γ₃+(T^2)) - β₄*MDSC*CTL - ζ₄*CTL\n",
    "end"
   ]
  },
  {
   "cell_type": "code",
   "execution_count": null,
   "id": "719826cb-50cb-4b32-bc8e-cdd2b549060a",
   "metadata": {},
   "outputs": [],
   "source": [
    "#define model without delay\n",
    "function ode_system(du,u,p,t)\n",
    "    T,MDSC,NK,CTL = u\n",
    "    α₂,α₃,ζ₂,α₁,η,β₁,β₂,ζ₁,α₄,α₅,β₃,ζ₃,α₆,α₇,β₄,ζ₄ = p\n",
    "   \n",
    "# Cancer cells (tumor)\n",
    "    du[1] = dT = α₁*T*log(η/T) - β₁*T*NK - β₂*T*CTL - ζ₁*T\n",
    " # MDSCs \n",
    "    du[2] = dMDSC = α₂ + α₃*T/(γ₁+(T)) - ζ₂*MDSC \n",
    " # NK cells\n",
    "    du[3] = dNK = α₄ + α₅*(T^2)/(γ₂+(T^2)) - β₃*MDSC*NK - ζ₃*NK \n",
    " # CTL cells\n",
    "    du[4] = dCTL = α₆*T*NK + α₇*(T^2)/(γ₃+(T^2)) - β₄*MDSC*CTL - ζ₄*CTL\n",
    "end"
   ]
  },
  {
   "cell_type": "code",
   "execution_count": null,
   "id": "95b8b636-f7d8-472e-8c1a-ea16d27a7f7b",
   "metadata": {},
   "outputs": [],
   "source": [
    "#define initial number of tumor cells for delay model\n",
    "h(p, t; idxs=nothing) = typeof(idxs) <: Number ? 2.0 : ones(4).+ 1\n",
    "h(1,0)"
   ]
  },
  {
   "cell_type": "code",
   "execution_count": null,
   "id": "760e931d-a5f6-4395-9cbf-6a7524963238",
   "metadata": {},
   "outputs": [],
   "source": [
    "#set model parameters\n",
    "α₂ = 10.0*(10.0^1.0) #MDSCs production\n",
    "α₃ = (10.0^8.0) #MDSCs expansion coefficient \n",
    "ζ₂ = 0.2 #MDSCs death rate\n",
    "\n",
    "α₁ = 10.0^(-1.0) #tumor growth rate\n",
    "η = 10.0^7.0 #tumor maximum size\n",
    "β₁ = 3.5*(10.0^(-6.0)) #tumor cells kill rate by NK cells\n",
    "β₂ = 1.1*(10.0^(-7.0)) #tumor cells kill rate by T cells\n",
    "ζ₁ = 0.0 #tumor cell death rate\n",
    "\n",
    "α₄ = 1.4*(10.0^4.0) #NK cells production rate\n",
    "α₅ = 2.5*(10.0^(-2.0)) #NK cells expansion coefficient\n",
    "β₃ = 4*(10.0^(-5.0)) #NK cells inactivation rate by MDSCs\n",
    "ζ₃ = 4.12*(10.0^(-2.0)) #NK cells death rate\n",
    "\n",
    "α₆ = 1.1*(10.0^(-7.0)) #CTL stimulation as a result of tumor-NK cell interaction\n",
    "α₇ = 10.0^(-1.0) #CTL expansion coefficient \n",
    "β₄ = (10.0^(-4.0)) #CTL inactivation rate by MDSCs\n",
    "ζ₄ = 2.0*(10.0^(-2.0)) #CTL death rate\n",
    "\n",
    "γ₁ = (10.0^(10.0)) #steepness coefficient of MDSC production curve\n",
    "γ₂ = 2.02*(10.0^(7.0)) #steepness coefficient of NK production curve\n",
    "γ₃ = 2.02*(10.0^(7.0)) #steepness coefficient of CTL production curve\n",
    "\n",
    "p = (α₂,α₃,ζ₂,α₁,η,β₁,β₂,ζ₁,α₄,α₅,β₃,ζ₃,α₆,α₇,β₄,ζ₄)\n",
    "tspan = (0.0,365.0)\n",
    "u0 = [2.0;α₂/ζ₂;ζ₂*α₄/(α₂*β₃+ζ₂*ζ₃);0.0]"
   ]
  },
  {
   "cell_type": "code",
   "execution_count": null,
   "id": "7d721a32-a6e9-4294-99dd-1b8093fce82f",
   "metadata": {},
   "outputs": [],
   "source": [
    "#define stochastic noise\n",
    "W = WienerProcess(0.0,0.0,0.0)\n",
    "\n",
    "function σfunction(du,u,h,p,t)\n",
    "  du[1] = u[1]\n",
    "  du[2] = u[2]\n",
    "  du[3] = u[3]\n",
    "  du[4] = u[4]\n",
    "end\n",
    "\n",
    "function σfunction_nodelay(du,u,p,t)\n",
    "  du[1] = u[1]\n",
    "  du[2] = u[2]\n",
    "  du[3] = u[3]\n",
    "  du[4] = u[4]\n",
    "end"
   ]
  },
  {
   "cell_type": "code",
   "execution_count": null,
   "id": "5fde3c2b-387e-4c08-8728-eca8958ca543",
   "metadata": {},
   "outputs": [],
   "source": [
    "#define conditions for simulation to end\n",
    "function condition(u,t,integrator) \n",
    "  u[1] < 1.0\n",
    "end\n",
    "\n",
    "function floor_aff!(integrator)\n",
    "    integrator.u[1]=1.0\n",
    "end\n",
    "\n",
    "function terminate_affect!(integrator)\n",
    "    terminate!(integrator)\n",
    "end\n",
    "\n",
    "floor_event = DiscreteCallback(condition, terminate!)\n",
    "floor_event2 = DiscreteCallback(condition, floor_aff!)"
   ]
  },
  {
   "cell_type": "markdown",
   "id": "f882337b-a2b7-4b50-b915-5432ea9e3cd9",
   "metadata": {},
   "source": [
    "## Panel A"
   ]
  },
  {
   "cell_type": "code",
   "execution_count": null,
   "id": "3ec3f89e-4c47-4cea-8b72-aac718ce6edf",
   "metadata": {},
   "outputs": [],
   "source": [
    "#solve with τ = 0 (with set random seed for reproducibility)\n",
    "runs = 1.0\n",
    "tumorsuccess = 0.0\n",
    "threshold = 1.0\n",
    "\n",
    "Random.seed!(1234)\n",
    "\n",
    "meanofsuccessfulltumors = 0.0;\n",
    "\n",
    "logocolors = Colors.JULIA_LOGO_COLORS\n",
    "\n",
    "prob_nodelay = SDEProblem(ode_system,σfunction_nodelay,u0,tspan,p,noise=W)\n",
    "sol = solve(prob_nodelay,SOSRI(),callback=floor_event)\n",
    "\n",
    "A = minimum(sol[1,:])    \n",
    "\n",
    "if A ≥ threshold\n",
    "    tumorsuccess = tumorsuccess + 1\n",
    "    meanofsuccessfulltumors = meanofsuccessfulltumors + mean(sol[1,:])\n",
    "    plot1 = plot(sol, lw = 4, yaxis=:log, size =(800,600), font = \"Ariel\", ylims = (0.01,10^7.5), color = [logocolors.red \"goldenrod2\" logocolors.green logocolors.blue], alpha = [1 1 0.2 0.2], legend = false, xtickfontsize=25,ytickfontsize=25,xlabel=\"Time (days)\",xguidefontsize=25,ylabel=\"Number of cells\",yguidefontsize=25,title = \"τ = 0\",titlefontsize=25) \n",
    "\n",
    "    display(plot1)\n",
    "else\n",
    "    for j in 1:length(sol[1,:])\n",
    "        global BB = j\n",
    "        if sol[1,j] < threshold\n",
    "            break\n",
    "        end\n",
    "    end\n",
    "\n",
    "    for i in sol.t[BB]:0.1:10.0\n",
    "        push!(sol.t,i)\n",
    "        push!(sol,sol[:,BB])\n",
    "    end\n",
    "\n",
    "    a = plot(sol, lw = 4, yaxis=:log,size =(800,600), font = \"Ariel\", xlims = (0,sol.t[BB]), ylims = (0.01,10^7.5), color = [logocolors.red \"goldenrod2\" logocolors.green logocolors.blue], alpha = [1 1 0.2 0.2], legend = false, xtickfontsize=25,ytickfontsize=25,xlabel=\"Time (days)\",xguidefontsize=25,ylabel=\"Number of cells\",yguidefontsize=25,title = \"τ = 0\",titlefontsize=25)\n",
    "    a_extended = plot(sol, lw = 4, yaxis=:log,size =(800,600), font = \"Ariel\", xlims = (0,10.0), ylims = (0.01,10^7.5), color = [logocolors.red \"goldenrod2\" logocolors.green logocolors.blue], alpha = [1 1 0.2 0.2], legend = false, xtickfontsize=25,ytickfontsize=25,xlabel=\"Time (days)\",xguidefontsize=25,ylabel=\"Number of cells\",yguidefontsize=25,title = \"τ = 0\",titlefontsize=25)\n",
    "    display(a)\n",
    "    display(a_extended)\n",
    "end\n",
    "    \n",
    "print(100*tumorsuccess/runs, \"\\n\")\n",
    "\n",
    "print(meanofsuccessfulltumors/tumorsuccess)"
   ]
  },
  {
   "cell_type": "markdown",
   "id": "2b1def3d-0d97-40c9-a88e-90a75b987e5d",
   "metadata": {},
   "source": [
    "## Panel B"
   ]
  },
  {
   "cell_type": "code",
   "execution_count": null,
   "id": "7319bb07-eeac-4f76-89f2-e936c0d6dd59",
   "metadata": {},
   "outputs": [],
   "source": [
    "#solve with τ = 10 (with set random seed for reproducibility)\n",
    "τ = 10.0\n",
    "lags = [τ]\n",
    "\n",
    "print(τ, \"\\n\")\n",
    "\n",
    "runs = 1.0\n",
    "tumorsuccess = 0.0\n",
    "threshold = 1.0\n",
    "\n",
    "Random.seed!(1230)\n",
    "\n",
    "meanofsuccessfulltumors = 0.0;\n",
    "\n",
    "logocolors = Colors.JULIA_LOGO_COLORS\n",
    "\n",
    "prob1 = SDDEProblem(dde_system,σfunction,u0,h,tspan,p; constant_lags=lags,noise=W)\n",
    "sol = solve(prob1,SOSRI(),maxiters=10^8,callback=floor_event2)\n",
    "\n",
    "A = minimum(sol[1,:])    \n",
    "\n",
    "if A ≥ threshold\n",
    "    tumorsuccess = tumorsuccess + 1\n",
    "    meanofsuccessfulltumors = meanofsuccessfulltumors + mean(sol[1,:])\n",
    "    plot1 = plot(sol, lw = 4, yaxis=:log, size =(800,600), font = \"Ariel\", ylims = (0.01,10^7.5), color = [logocolors.red \"goldenrod2\" logocolors.green logocolors.blue], alpha = [1 1 0.2 0.2], legend = false, xtickfontsize=25,ytickfontsize=25,xlabel=\"Time (days)\",xguidefontsize=25,ylabel=\"Number of cells\",yguidefontsize=25,title = \"τ = 10\",titlefontsize=25) \n",
    "\n",
    "    display(plot1)\n",
    "else\n",
    "    for j in 1:length(sol[1,:])\n",
    "        global BB = j\n",
    "        if sol[1,j] < threshold\n",
    "            break\n",
    "        end\n",
    "    end\n",
    "\n",
    "    time_vector = sol.t[1:BB]   \n",
    "    sol1 = sol[:,1:BB]\n",
    "    for i in sol.t[BB]:0.1:10.0\n",
    "        push!(time_vector,i)\n",
    "        sol1 = [sol1 sol[:,BB]]\n",
    "    end\n",
    "\n",
    "    b = plot(sol, lw = 4, yaxis=:log,size =(800,600), font = \"Ariel\", xlims = (0,sol.t[BB]), ylims = (0.01,10^7.5), color = [logocolors.red \"goldenrod2\" logocolors.green logocolors.blue], alpha = [1 1 0.2 0.2], legend = false, xtickfontsize=25,ytickfontsize=25,xlabel=\"Time (days)\",xguidefontsize=25,ylabel=\"Number of cells\",yguidefontsize=25,title = \"τ = 10\",titlefontsize=25)\n",
    "    b_extended = plot(time_vector, transpose(sol1), lw = 4, yaxis=:log,size =(800,600), font = \"Ariel\", xlims = (0,10.0), ylims = (0.01,10^7.5), color = [logocolors.red \"goldenrod2\" logocolors.green logocolors.blue], alpha = [1 1 0.2 0.2], legend = false, xtickfontsize=25,ytickfontsize=25,xlabel=\"Time (days)\",xguidefontsize=25,ylabel=\"Number of cells\",yguidefontsize=25,title = \"τ = 10\",titlefontsize=25)\n",
    "\n",
    "    display(b)\n",
    "    display(b_extended)\n",
    "end\n",
    "\n",
    "print(100*tumorsuccess/runs, \"\\n\")\n",
    "\n",
    "print(meanofsuccessfulltumors/tumorsuccess)"
   ]
  },
  {
   "cell_type": "markdown",
   "id": "363e5757-1a2d-4c2d-b5d1-43c5482131d4",
   "metadata": {},
   "source": [
    "## Panel C"
   ]
  },
  {
   "cell_type": "code",
   "execution_count": null,
   "id": "10d96205-7979-4542-9465-26e5eda87562",
   "metadata": {},
   "outputs": [],
   "source": [
    "#solve with τ = 50 (with set random seed for reproducibility)\n",
    "τ = 50.0\n",
    "lags = [τ]\n",
    "\n",
    "print(τ, \"\\n\")\n",
    "\n",
    "runs = 1.0\n",
    "tumorsuccess = 0.0\n",
    "threshold = 1.0\n",
    "\n",
    "Random.seed!(1260)\n",
    "\n",
    "meanofsuccessfulltumors = 0.0;\n",
    "\n",
    "logocolors = Colors.JULIA_LOGO_COLORS\n",
    "  \n",
    "prob1 = SDDEProblem(dde_system,σfunction,u0,h,tspan,p; constant_lags=lags,noise=W)\n",
    "sol = solve(prob1,SOSRI(),maxiters=10^8,callback=floor_event2)\n",
    "\n",
    "A = minimum(sol[1,:])    \n",
    "\n",
    "if A ≥ threshold\n",
    "    tumorsuccess = tumorsuccess + 1\n",
    "    meanofsuccessfulltumors = meanofsuccessfulltumors + mean(sol[1,:])\n",
    "    plot1 = plot(sol, lw = 4, yaxis=:log, size =(800,600), font = \"Ariel\", ylims = (0.01,10^7.5), color = [logocolors.red \"goldenrod2\" logocolors.green logocolors.blue], alpha = [1 1 0.2 0.2], legend = false, xtickfontsize=25,ytickfontsize=25,xlabel=\"Time (days)\",xguidefontsize=25,ylabel=\"Number of cells\",yguidefontsize=25,title = \"τ = 50\",titlefontsize=25) \n",
    "\n",
    "    display(plot1)\n",
    "else\n",
    "    for j in 1:length(sol[1,:])\n",
    "        global BB = j\n",
    "        if sol[1,j] < threshold\n",
    "            break\n",
    "        end\n",
    "    end\n",
    "\n",
    "    time_vector = sol.t[1:BB]   \n",
    "    sol1 = sol[:,1:BB]\n",
    "    for i in sol.t[BB]:0.1:10.0\n",
    "        push!(time_vector,i)\n",
    "        sol1 = [sol1 sol[:,BB]]\n",
    "    end\n",
    "\n",
    "    c = plot(sol, lw = 4, yaxis=:log,size =(800,600), font = \"Ariel\", xlims = (0,sol.t[BB]), ylims = (0.01,10^7.5), color = [logocolors.red \"goldenrod2\" logocolors.green logocolors.blue], alpha = [1 1 0.2 0.2], legend = false, xtickfontsize=25,ytickfontsize=25,xlabel=\"Time (days)\",xguidefontsize=25,ylabel=\"Number of cells\",yguidefontsize=25,title = \"τ = 50\",titlefontsize=25)\n",
    "    c_extended = plot(time_vector, transpose(sol1), lw = 4, yaxis=:log,size =(800,600), font = \"Ariel\", xlims = (0,10.0), ylims = (0.01,10^7.5), color = [logocolors.red \"goldenrod2\" logocolors.green logocolors.blue], alpha = [1 1 0.2 0.2], legend = false, xtickfontsize=25,ytickfontsize=25,xlabel=\"Time (days)\",xguidefontsize=25,ylabel=\"Number of cells\",yguidefontsize=25,title = \"τ = 50\",titlefontsize=25)\n",
    "\n",
    "    display(c)\n",
    "    display(c_extended)\n",
    "end\n",
    "\n",
    "print(100*tumorsuccess/runs, \"\\n\")\n",
    "\n",
    "print(meanofsuccessfulltumors/tumorsuccess)"
   ]
  },
  {
   "cell_type": "markdown",
   "id": "fb513c38-2006-4804-a20d-bd60e23c8d6e",
   "metadata": {},
   "source": [
    "## Panel D"
   ]
  },
  {
   "cell_type": "code",
   "execution_count": null,
   "id": "d453b072-de9c-4309-a02a-67247762c4bd",
   "metadata": {},
   "outputs": [],
   "source": [
    "#solve with τ = 365 (with set random seed for reproducibility)\n",
    "τ = 365.0\n",
    "lags = [τ]\n",
    "\n",
    "print(τ, \"\\n\")\n",
    "\n",
    "runs = 1.0\n",
    "tumorsuccess = 0.0\n",
    "threshold = 1.0\n",
    "\n",
    "Random.seed!(1240)\n",
    "\n",
    "meanofsuccessfulltumors = 0.0;\n",
    "\n",
    "logocolors = Colors.JULIA_LOGO_COLORS\n",
    "\n",
    "prob1 = SDDEProblem(dde_system,σfunction,u0,h,tspan,p; constant_lags=lags,noise=W)\n",
    "sol = solve(prob1,SOSRI(),maxiters=10^8,callback=floor_event2)\n",
    "\n",
    "A = minimum(sol[1,:])    \n",
    "\n",
    "if A ≥ threshold\n",
    "    tumorsuccess = tumorsuccess + 1\n",
    "    meanofsuccessfulltumors = meanofsuccessfulltumors + mean(sol[1,:])\n",
    "    plot1 = plot(sol, lw = 4, yaxis=:log, size =(800,600), font = \"Ariel\", ylims = (0.01,10^7.5), color = [logocolors.red \"goldenrod2\" logocolors.green logocolors.blue], alpha = [1 1 0.2 0.2], legend = false, xtickfontsize=25,ytickfontsize=25,xlabel=\"Time (days)\",xguidefontsize=25,ylabel=\"Number of cells\",yguidefontsize=25,title = \"τ = 365\",titlefontsize=25) \n",
    "\n",
    "    display(plot1)\n",
    "else\n",
    "    for j in 1:length(sol[1,:])\n",
    "        global BB = j\n",
    "        if sol[1,j] < threshold\n",
    "            break\n",
    "        end\n",
    "    end\n",
    "\n",
    "     time_vector = sol.t[1:BB]   \n",
    "    sol1 = sol[:,1:BB]\n",
    "    for i in sol.t[BB]:0.1:365.0\n",
    "        push!(time_vector,i)\n",
    "        sol1 = [sol1 sol[:,BB]]\n",
    "    end\n",
    "\n",
    "    d = plot(sol, lw = 4, yaxis=:log,size =(800,600), font = \"Ariel\", xlims = (0,sol.t[BB]), ylims = (0.01,10^7.5), color = [logocolors.red \"goldenrod2\" logocolors.green logocolors.blue], alpha = [1 1 0.2 0.2], legend = false, xtickfontsize=25,ytickfontsize=25,xlabel=\"Time (days)\",xguidefontsize=25,ylabel=\"Number of cells\",yguidefontsize=25,title = \"τ = 365\",titlefontsize=25)\n",
    "    d_extended = plot(time_vector, transpose(sol1), lw = 4, yaxis=:log,size =(800,600), font = \"Ariel\", xlims = (0,365.0), ylims = (0.01,10^7.5), color = [logocolors.red \"goldenrod2\" logocolors.green logocolors.blue], alpha = [1 1 0.2 0.2], legend = false, xtickfontsize=25,ytickfontsize=25,xlabel=\"Time (days)\",xguidefontsize=25,ylabel=\"Number of cells\",yguidefontsize=25,title = \"τ = 365\",titlefontsize=25)\n",
    "\n",
    "    display(d)\n",
    "    display(d_extended)\n",
    "end\n",
    "\n",
    "print(100*tumorsuccess/runs, \"\\n\")\n",
    "\n",
    "print(meanofsuccessfulltumors/tumorsuccess)"
   ]
  },
  {
   "cell_type": "markdown",
   "id": "0432e2f7-a131-46b4-824e-db3792191750",
   "metadata": {},
   "source": [
    "## Plot"
   ]
  },
  {
   "cell_type": "code",
   "execution_count": null,
   "id": "97f67cb5-6097-4052-bcea-e68385c5a41f",
   "metadata": {},
   "outputs": [],
   "source": [
    "#plot results\n",
    "l = @layout [a b; c d]\n",
    "logocolors = Colors.JULIA_LOGO_COLORS\n",
    "plot(a, b, c, d, layout = l,size =(1600,1200),xtickfont=font(25),ytickfont=font(25),guidefont=font(25),legendfont=font(25),plot_title=\"Unsuccessful tumors\", font = \"Ariel\",titlefontsize=25)"
   ]
  },
  {
   "cell_type": "code",
   "execution_count": null,
   "id": "02dd4785-3d82-4c7c-9f29-f0a6002b3a75",
   "metadata": {},
   "outputs": [],
   "source": [
    "#plot results\n",
    "l = @layout [a b; c d]\n",
    "logocolors = Colors.JULIA_LOGO_COLORS\n",
    "plot(a_extended, b_extended, c_extended, d_extended, layout = l,size =(1600,1200),xtickfont=font(25),ytickfont=font(25),guidefont=font(25),legendfont=font(25),plot_title=\"Unsuccessful tumors\", font = \"Ariel\",titlefontsize=25)"
   ]
  },
  {
   "cell_type": "markdown",
   "id": "627ba44a-b74a-465a-846a-8a7e83020c80",
   "metadata": {},
   "source": [
    "# Figures 5, S7, and S8"
   ]
  },
  {
   "cell_type": "code",
   "execution_count": null,
   "id": "9d1af762-d853-48bd-a144-53275c34fbb8",
   "metadata": {},
   "outputs": [],
   "source": [
    "using Plots"
   ]
  },
  {
   "cell_type": "code",
   "execution_count": null,
   "id": "b79bfa51-48da-4596-aece-490ea7e91ce0",
   "metadata": {},
   "outputs": [],
   "source": [
    "#plot for α₂\n",
    "l = @layout [a b; c d; e f]\n",
    "delays = [0,0.5,1,2,10,50,100,365]\n",
    "\n",
    "prob_success200 = [0.52067,0.51936,0.51802,0.51573,0.51987,0.51813,0.51899,0.5206]\n",
    "prob_sigma200 = [0.499575,0.499628,0.499678,0.499755,0.499608,0.499674,0.499642,0.499578]\n",
    "mean200 = [390917,325657,311041,314798,179711,90063.8,52208,13398.2]\n",
    "mean_sigma200 = [6.57092*10^6,4.59642*10^6,3.87981*10^6,4.90952*10^6,2.29257*10^6,3.62887*10^6,1.01787*10^6,276487]\n",
    "number_of_sims200 = [sqrt(100000),sqrt(100000),sqrt(100000),sqrt(100000),sqrt(100000),sqrt(100000),sqrt(100000),sqrt(100000)]\n",
    "time200 = [1.8359,1.79055,1.87445,1.8974,1.93117,1.88062,1.96586,2.14636]\n",
    "time_sigma200 =[7.96526,7.4512,8.39377,8.61256,9.12563,8.11352,9.15333,11.7485]\n",
    "\n",
    "prob_success150 = [0.440281,0.442417,0.440206,0.441288,0.435629,0.428312,0.419405,0.379864]\n",
    "prob_sigma150 = [0.496423,0.496676,0.496414,0.496543,0.495841,0.494836,0.493464,0.485355]\n",
    "mean150 = [297352,254711,249961,238555,135733,57244.9,39425.7,11631.9]\n",
    "mean_sigma150 = [5.20893*10^6,4.16001*10^6,3.57743*10^6,5.68132*10^6,1.59068*10^6,1.02464*10^6,1.32366*10^6,190806]\n",
    "number_of_sims150 = [sqrt(120230),sqrt(104311),sqrt(105696),sqrt(104816),sqrt(105459),sqrt(108540),sqrt(110218),sqrt(126453)]\n",
    "time150 = [2.43575,2.47981,2.51275,2.72231,3.409,3.92847,5.68224,22.4496]\n",
    "time_sigma150 =[12.7222,13.0423,12.9583,15.0331,18.4065,18.3952,22.9263,67.3271]\n",
    "\n",
    "prob_success100 = [0.321711,0.317475,0.3125,0.30843,0.294564,0.275741,0.250585,0.172958]\n",
    "prob_sigma100 = [0.467133,0.465496,0.463514,0.461847,0.455848,0.446889,0.433351,0.378212]\n",
    "mean100 = [198535.,197124.,179085.,177517.,104698.,35567.,31121.6,9651.81]\n",
    "mean_sigma100 = [3.93484*10^6,6.08296*10^6,3.69632*10^6,6.68483*10^6,3.79012*10^6,351135.,1.0642*10^6,2443.94]\n",
    "number_of_sims100 = [sqrt(634443),sqrt(150188),sqrt(147523),sqrt(140800),sqrt(148501),sqrt(152400),sqrt(156390),sqrt(173221)]\n",
    "time100 = [8.4226,9.49264,10.4432,11.5911,13.5737,14.048,17.1391,38.1711]\n",
    "time_sigma100 =[38.7737,41.7508,44.3292,46.8041,50.5953,48.1733,50.771,83.0854]\n",
    "\n",
    "prob_success50 = [0.179698,0.17358,0.170547,0.164953,0.154619,0.142073,0.126716,0.0820594]\n",
    "prob_sigma50 = [0.383937,0.37875,0.376114,0.37114,0.361543,0.349127,0.332656,0.274456]\n",
    "mean50 = [143826.,127601.,112551.,118862.,73341.7,33654.7,17877.6,9187.57]\n",
    "mean_sigma50 = [2.15731*10^6,2.31411*10^6,1.63087*10^6,2.63169*10^6,1.08651*10^6,659450.,176773.,2301.57]\n",
    "number_of_sims50 = [sqrt(134175),sqrt(100029),sqrt(103086),sqrt(103381),sqrt(102730),sqrt(105664),sqrt(108487),sqrt(121473)]\n",
    "time50 = [12.9067,13.7628,14.2784,15.0591,16.3064,16.512,17.8204,28.2929]\n",
    "time_sigma50 =[49.884,51.9084,52.5574,54.2098,55.9658,54.2856,54.3863,71.7908]\n",
    "\n",
    "prob_success0 = [0.0609653,0.0580386,0.0579275,0.0555649,0.0505348,0.0465496,0.0416369,0.0262047]\n",
    "prob_sigma0 = [0.239267,0.233818,0.233607,0.22908,0.219047,0.210673,0.199759,0.159744]\n",
    "mean0 = [124420.,104145.,94199.3,102888.,57298.3,20862.6,19442.7,9534.08]\n",
    "mean_sigma0 = [3.38188*10^6,2.07578*10^6,1.06524*10^6,1.47331*10^6,1.12906*10^6,149171.,352002.,2386.96]\n",
    "number_of_sims0 = [sqrt(1342140),sqrt(104999),sqrt(152501),sqrt(148007),sqrt(105175),sqrt(134244),sqrt(137114),sqrt(104981)]\n",
    "time0 = [8.35639,8.78197,9.04973,9.23944,9.65523,9.46847,9.74487,13.3427]\n",
    "time_sigma0 =[39.5505,40.7133,41.3733,41.7399,42.4668,40.7554,40.3345,49.0281]\n",
    "\n",
    "\n",
    "prob_success = [prob_success200 prob_success150 prob_success100 prob_success50 prob_success0]\n",
    "prob_sigma = [prob_sigma200/number_of_sims200 prob_sigma150/number_of_sims150 prob_sigma100/number_of_sims100 prob_sigma50/number_of_sims50 prob_sigma0/number_of_sims0]\n",
    "\n",
    "mean = [mean200 mean150 mean100 mean50 mean0]\n",
    "mean_sigma = [mean_sigma200/number_of_sims200 mean_sigma150/number_of_sims150 mean_sigma100/number_of_sims100 mean_sigma50/number_of_sims50 mean_sigma0/number_of_sims0]\n",
    "\n",
    "time = [time200 time150 time100 time50 time0]\n",
    "time_sigma = [time_sigma200/number_of_sims200 time_sigma150/number_of_sims150 time_sigma100/number_of_sims100 time_sigma50/number_of_sims50 time_sigma0/number_of_sims0]\n",
    "\n",
    "plot()\n",
    "plot!(delays,prob_success,yerror=prob_sigma,ribbon=prob_sigma,fillalpha= 0.2,grid=true,palette=:tab10,align=\"center\",alpha=0.7,label = \"\",xlabel = \"Delay τ (days)\",ylabel = \"Probability of establishment\", seriestype =:scatter,xlims = (-2,102),markersize = 12,font = \"Ariel\")\n",
    "p1 = plot!(delays,prob_success,grid=true,color = \"Black\",alpha=0.7,align=\"center\",label = \"\",xlabel = \"Delay τ (days)\",ylabel = \"Probability of establishment\", seriestype =:line,xlims = (-2,102),font = \"Ariel\") \n",
    "\n",
    "plot()\n",
    "plot!(delays,mean,yerror=mean_sigma,grid=true,ribbon=mean_sigma,fillalpha= 0.2,yaxis=:log,palette=:tab10,align=\"center\",alpha=0.7,label = \"\",xlabel = \"Delay τ (days)\",ylabel = \"Mean size\", seriestype =:scatter,xlims = (-2,102),markersize = 12,font = \"Ariel\")\n",
    "p3 = plot!(delays,mean,grid=true,color = \"Black\",alpha=0.7,yaxis=:log,align=\"center\",label = \"\",xlabel = \"Delay τ (days)\",ylabel = \"Mean size\", seriestype =:line,xlims = (-2,102),font = \"Ariel\")\n",
    "\n",
    "plot()\n",
    "plot!(delays,prob_success,yerror=prob_sigma,grid=true,ribbon=prob_sigma,fillalpha= 0.2,xaxis=:log,palette=:tab10,align=\"center\",alpha=0.7,label = \"\",xlabel = \"Delay τ (days)\",ylabel = \"Probability of establishment\", seriestype =:scatter,xlims = (0.4,420),markersize = 12,font = \"Ariel\")\n",
    "p2 = plot!(delays,prob_success,grid=true,color = \"Black\",alpha=0.7,xaxis=:log,align=\"center\",label = \"\",xlabel = \"Delay τ (days)\",ylabel = \"Probability of establishment\", seriestype =:line,xlims = (0.4,420),font = \"Ariel\")\n",
    "\n",
    "plot()\n",
    "plot(delays,mean,yerror=mean_sigma,grid=true,ribbon=mean_sigma,fillalpha= 0.2,yaxis=:log,xaxis=:log,palette=:tab10,align=\"center\",alpha=0.7,label = \"\",xlabel = \"Delay τ (days)\",ylabel = \"Mean size\", seriestype =:scatter,xlims = (0.4,420),markersize = 12,font = \"Ariel\")\n",
    "p4 = plot!(delays,mean,color = \"Black\",alpha=0.7,grid=true,yaxis=:log,xaxis=:log,align=\"center\",label = \"\",xlabel = \"Delay τ (days)\",ylabel = \"Mean size\", seriestype =:line,xlims = (0.4,420),font = \"Ariel\")\n",
    "\n",
    "plot()\n",
    "plot(delays,time,yerror=time_sigma,grid=true,ribbon=time_sigma,fillalpha= 0.2,palette=:tab10,align=\"center\",alpha=0.7,label = \"\",xlabel = \"Delay τ (days)\",ylabel = \"Mean time to extinction\", seriestype =:scatter,xlims = (-2,102),markersize = 12,font = \"Ariel\")\n",
    "p5 = plot!(delays,time,color = \"Black\",alpha=0.7,grid=true,align=\"center\",label = \"\",xlabel = \"Delay τ (days)\",ylabel = \"Mean time to extinction\", seriestype =:line,xlims = (-2,102),font = \"Ariel\")\n",
    "\n",
    "plot()\n",
    "plot!(delays,time,yerror=time_sigma,grid=true,ribbon=time_sigma,fillalpha= 0.2,xaxis=:log,palette=:tab10,align=\"center\",alpha=0.7,label = \"\",xlabel = \"Delay τ (days)\",ylabel = \"Mean time to extinction\", seriestype =:scatter,xlims = (0.4,420),markersize = 12,font = \"Ariel\")\n",
    "p6 = plot!(delays,time,color = \"Black\",alpha=0.7,grid=true,xaxis=:log,align=\"center\",label = \"\",xlabel = \"Delay τ (days)\",ylabel = \"Mean time to extinction\", seriestype =:line,xlims = (0.4,420),font = \"Ariel\")\n",
    "\n",
    "plot()\n",
    "plot(p1, p2, p3, p4, p5, p6, layout = l,size =(1600,1800),xtickfont=font(25),ytickfont=font(25),guidefont=font(25),legendfont=font(25))"
   ]
  },
  {
   "cell_type": "code",
   "execution_count": null,
   "id": "10e203a3-7d35-4505-a6e3-817529b1b933",
   "metadata": {},
   "outputs": [],
   "source": [
    "#plot for β₃\n",
    "l = @layout [a b; c d; e f]\n",
    "delays = [0,0.5,1,2,10,50,100,365]\n",
    "\n",
    "prob_success10n4 = [0.580016,0.576499,0.578837,0.578279,0.580816,0.576478,0.579891,0.577501]\n",
    "prob_sigma10n4 = [0.493557,0.494116,0.493748,0.493837,0.493428,0.494119,0.493578,0.493959]\n",
    "mean10n4 = [1.53191*10^6,1.34259*10^6,1.38166*10^6,1.28288*10^6,759544,340114,217968,20408.3]\n",
    "mean_sigma10n4 = [1.13528*10^7,7.40251*10^6,1.08067*10^7,9.9858*10^6,4.75756*10^6,4.85713*10^6,3.0557*10^6,527350]\n",
    "number_of_sims10n4 = [sqrt(256731),sqrt(106538),sqrt(105705),sqrt(105501),sqrt(105617),sqrt(114105),sqrt(121666),sqrt(143418)]\n",
    "time10n4 = [1.64546,1.67286,1.62925,1.68716,1.68003,1.61089,1.71913,1.86218]\n",
    "time_sigma10n4 =[7.9846,8.53064,8.04551,8.79182,8.63927,7.44698,8.66009,10.9508]\n",
    "\n",
    "prob_success4t10n5 = [0.321711,0.317475,0.3125,0.30843,0.294564,0.275741,0.250585,0.172958]\n",
    "prob_sigma4t10n5 = [0.467133,0.465496,0.463514,0.461847,0.455848,0.446889,0.433351,0.378212]\n",
    "mean4t10n5 = [198535.,197124.,179085.,177517.,104698.,35567.,31121.6,9651.81]\n",
    "mean_sigma4t10n5 = [3.93484*10^6,6.08296*10^6,3.69632*10^6,6.68483*10^6,3.79012*10^6,351135.,1.0642*10^6,2443.94]\n",
    "number_of_sims4t10n5 = [sqrt(634443),sqrt(150188),sqrt(147523),sqrt(140800),sqrt(148501),sqrt(152400),sqrt(156390),sqrt(173221)]\n",
    "time4t10n5 = [8.4226,9.49264,10.4432,11.5911,13.5737,14.048,17.1391,38.1711]\n",
    "time_sigma4t10n5 =[38.7737,41.7508,44.3292,46.8041,50.5953,48.1733,50.771,83.0854]\n",
    "\n",
    "prob_success10n5 = [0.0626245,0.0630946,0.0618317,0.0630908,0.0603281,0.0597871,0.0571256,0.0498191]\n",
    "prob_sigma10n5 = [0.242287,0.243134,0.240851,0.243127,0.238095,0.237093,0.232084,0.217572]\n",
    "mean10n5 = [9489.89,9626.14,9471.38,9471.57,9255.95,9130.65,9068.35,8862.56]\n",
    "mean_sigma10n5 = [4057.02,5268.35,2538.75,4847.29,2827.06,2398.44,2381.86,2249.34]\n",
    "number_of_sims10n5 = [sqrt(127490),sqrt(100595),sqrt(100434),sqrt(101140),sqrt(102357),sqrt(104454),sqrt(106257),sqrt(119934)]\n",
    "time10n5 = [19.3006,19.2903,19.2524,19.4266,19.2971,19.2389,19.1301,21.0142]\n",
    "time_sigma10n5 =[60.0717,60.0054,60.2217,60.0074,59.8518,59.5921,58.7898,61.7948]\n",
    "\n",
    "\n",
    "prob_success = [prob_success10n4 prob_success4t10n5 prob_success10n5]\n",
    "prob_sigma = [prob_sigma10n4/number_of_sims10n4 prob_sigma4t10n5/number_of_sims4t10n5 prob_sigma10n5/number_of_sims10n5]\n",
    "\n",
    "mean = [mean10n4 mean4t10n5 mean10n5]\n",
    "mean_sigma = [mean_sigma10n4/number_of_sims10n4 mean_sigma4t10n5/number_of_sims4t10n5 mean_sigma10n5/number_of_sims10n5]\n",
    "\n",
    "time = [time10n4 time4t10n5 time10n5]\n",
    "time_sigma = [time_sigma10n4/number_of_sims10n4 time_sigma4t10n5/number_of_sims4t10n5 time_sigma10n5/number_of_sims10n5]\n",
    "\n",
    "plot()\n",
    "plot!(delays,prob_success,yerror=prob_sigma,ribbon=prob_sigma,fillalpha= 0.2,grid=true,palette=:tab10,align=\"center\",alpha=0.7,label = \"\",xlabel = \"Delay τ (days)\",ylabel = \"Probability of establishment\", seriestype =:scatter,xlims = (-2,102),markersize = 12,font = \"Ariel\") \n",
    "p1 = plot!(delays,prob_success,color = \"Black\",alpha=0.7,grid=true,align=\"center\",label = \"\",xlabel = \"Delay τ (days)\",ylabel = \"Probability of establishment\", seriestype =:line,xlims = (-2,102),font = \"Ariel\") \n",
    "\n",
    "plot()\n",
    "plot!(delays,mean,yerror=mean_sigma,grid=true,ribbon=mean_sigma,fillalpha= 0.2,yaxis=:log,palette=:tab10,align=\"center\",alpha=0.7,label = \"\",xlabel = \"Delay τ (days)\",ylabel = \"Mean size\", seriestype =:scatter,xlims = (-2,102),markersize = 12,font = \"Ariel\")\n",
    "p3 = plot!(delays,mean,color = \"Black\",alpha=0.7,grid=true,yaxis=:log,align=\"center\",label = \"\",xlabel = \"Delay τ (days)\",ylabel = \"Mean size\", seriestype =:line,xlims = (-2,102),font = \"Ariel\")\n",
    "\n",
    "plot()\n",
    "plot!(delays,prob_success,yerror=prob_sigma,grid=true,ribbon=prob_sigma,fillalpha= 0.2,xaxis=:log,palette=:tab10,align=\"center\",alpha=0.7,label = \"\",xlabel = \"Delay τ (days)\",ylabel = \"Probability of establishment\", seriestype =:scatter,xlims = (0.4,420),markersize = 12,font = \"Ariel\")\n",
    "p2 = plot!(delays,prob_success,color = \"Black\",alpha=0.7,grid=true,xaxis=:log,align=\"center\",label = \"\",xlabel = \"Delay τ (days)\",ylabel = \"Probability of establishment\", seriestype =:line,xlims = (0.4,420),font = \"Ariel\")\n",
    "\n",
    "plot()\n",
    "plot!(delays,mean,yerror=mean_sigma,grid=true,ribbon=mean_sigma,fillalpha= 0.2,yaxis=:log,xaxis=:log,palette=:tab10,align=\"center\",alpha=0.7,label = \"\",xlabel = \"Delay τ (days)\",ylabel = \"Mean size\", seriestype =:scatter,xlims = (0.4,420),markersize = 12,font = \"Ariel\")\n",
    "p4 = plot!(delays,mean,color = \"Black\",alpha=0.7,grid=true,yaxis=:log,xaxis=:log,align=\"center\",label = \"\",xlabel = \"Delay τ (days)\",ylabel = \"Mean size\", seriestype =:line,xlims = (0.4,420),font = \"Ariel\")\n",
    "\n",
    "plot()\n",
    "plot!(delays,time,yerror=time_sigma,grid=true,ribbon=time_sigma,fillalpha= 0.2,palette=:tab10,align=\"center\",alpha=0.7,label = \"\",xlabel = \"Delay τ (days)\",ylabel = \"Mean time to extinction\", seriestype =:scatter,xlims = (-2,102),markersize = 12,font = \"Ariel\")\n",
    "p5 = plot!(delays,time,color = \"Black\",alpha=0.7,grid=true,align=\"center\",label = \"\",xlabel = \"Delay τ (days)\",ylabel = \"Mean time to extinction\", seriestype =:line,xlims = (-2,102),font = \"Ariel\")\n",
    "\n",
    "plot()\n",
    "plot!(delays,time,yerror=time_sigma,grid=true,ribbon=time_sigma,fillalpha= 0.2,xaxis=:log,palette=:tab10,align=\"center\",alpha=0.7,label = \"\",xlabel = \"Delay τ (days)\",ylabel = \"Mean time to extinction\", seriestype =:scatter,xlims = (0.4,420),markersize = 12,font = \"Ariel\")\n",
    "p6 = plot!(delays,time,color = \"Black\",alpha=0.7,grid=true,xaxis=:log,align=\"center\",label = \"\",xlabel = \"Delay τ (days)\",ylabel = \"Mean time to extinction\", seriestype =:line,xlims = (0.4,420),font = \"Ariel\")\n",
    "\n",
    "plot()\n",
    "plot(p1, p2, p3, p4, p5, p6, layout = l,size =(1600,1800),xtickfont=font(25),ytickfont=font(25),guidefont=font(25),legendfont=font(25))"
   ]
  },
  {
   "cell_type": "code",
   "execution_count": null,
   "id": "dded1994-17c6-44e1-8829-4f8c434cdbbc",
   "metadata": {},
   "outputs": [],
   "source": [
    "#plot for β₄\n",
    "l = @layout [a b; c d; e f]\n",
    "delays = [0,0.5,1,2,10,50,100,365]\n",
    "\n",
    "prob_success5t10n4 = [0.321253,0.318637,0.313757,0.307416,0.295281,0.278051,0.254158,0.172117]\n",
    "prob_sigma5t10n4 = [0.466959,0.46595,0.464021,0.461425,0.456171,0.448041,0.435389,0.377483]\n",
    "mean5t10n4 = [172414,204083,170563,167353,107548,34361.6,28335.5,9377.94]\n",
    "mean_sigma5t10n4 = [3.2732*10^6,6.77102*10^6,2.42371*10^6,2.44056*10^6,2.74728*10^6,323682,609004,2387.1]\n",
    "number_of_sims5t10n4 = [sqrt(217738),sqrt(124518),sqrt(125441),sqrt(124395),sqrt(125589),sqrt(127980),sqrt(129805),sqrt(146017)]\n",
    "time5t10n4 = [8.46267,9.37942,10.072,11.3366,13.8726,14.1926,17.2497,38.5379]\n",
    "time_sigma5t10n4 =[39.0201,41.382,43.2191,46.4694,51.5219,48.7865,50.8526,83.7162]\n",
    "\n",
    "prob_success10n4 = [0.321711,0.317475,0.3125,0.30843,0.294564,0.275741,0.250585,0.172958]\n",
    "prob_sigma10n4 = [0.467133,0.465496,0.463514,0.461847,0.455848,0.446889,0.433351,0.378212]\n",
    "mean10n4 = [198535.,197124.,179085.,177517.,104698.,35567.,31121.6,9651.81]\n",
    "mean_sigma10n4 = [3.93484*10^6,6.08296*10^6,3.69632*10^6,6.68483*10^6,3.79012*10^6,351135.,1.0642*10^6,2443.94]\n",
    "number_of_sims10n4 = [sqrt(634443),sqrt(150188),sqrt(147523),sqrt(140800),sqrt(148501),sqrt(152400),sqrt(156390),sqrt(173221)]\n",
    "time10n4 = [8.4226,9.49264,10.4432,11.5911,13.5737,14.048,17.1391,38.1711]\n",
    "time_sigma10n4 =[38.7737,41.7508,44.3292,46.8041,50.5953,48.1733,50.771,83.0854]\n",
    "\n",
    "prob_success5t10n5 = [0.320807,0.317287,0.314393,0.309786,0.294581,0.276185,0.249058,0.171064]\n",
    "prob_sigma5t10n5 = [0.466787,0.465423,0.464276,0.462408,0.455856,0.447112,0.43247,0.376566]\n",
    "mean5t10n5 = [214865,176308,189249,152551,133333,37374.8,21412,9684.41]\n",
    "mean_sigma5t10n5 = [5.89724*10^6,2.21887*10^6,3.03558*10^6,1.87603*10^6,3.96456*10^6,548492,194234,2452.99]\n",
    "number_of_sims5t10n5 = [sqrt(431599),sqrt(102144),sqrt(101599),sqrt(100876),sqrt(101439),sqrt(102663),sqrt(106449),sqrt(118903)]\n",
    "time5t10n5 = [8.42075,9.23028,10.2403,11.52,13.9203,14.1769,17.0167,38.684]\n",
    "time_sigma5t10n5 =[38.8021,40.6315,43.6771,46.7931,51.5811,48.3473,49.916,84.0469]\n",
    "\n",
    "\n",
    "prob_success = [prob_success5t10n4 prob_success10n4 prob_success5t10n5]\n",
    "prob_sigma = [prob_sigma5t10n4/number_of_sims5t10n4 prob_sigma10n4/number_of_sims10n4 prob_sigma5t10n5/number_of_sims5t10n5]\n",
    "\n",
    "mean = [mean5t10n4 mean10n4 mean5t10n5]\n",
    "mean_sigma = [mean_sigma5t10n4/number_of_sims5t10n4 mean_sigma10n4/number_of_sims10n4 mean_sigma5t10n5/number_of_sims5t10n5]\n",
    "\n",
    "time = [time5t10n4 time10n4 time5t10n5]\n",
    "time_sigma = [time_sigma5t10n4/number_of_sims5t10n4 time_sigma10n4/number_of_sims10n4 time_sigma5t10n5/number_of_sims5t10n5]\n",
    "\n",
    "plot()\n",
    "plot!(delays,prob_success,yerror=prob_sigma,ribbon=prob_sigma,fillalpha= 0.2,grid=true,palette=:tab10,align=\"center\",alpha=0.7,label = \"\",xlabel = \"Delay τ (days)\",ylabel = \"Probability of establishment\", seriestype =:scatter,xlims = (-2,102),markersize = 12,font = \"Ariel\")\n",
    "p1 = plot!(delays,prob_success,color = \"Black\",alpha=0.7,grid=true,align=\"center\",label = \"\",xlabel = \"Delay τ (days)\",ylabel = \"Probability of establishment\", seriestype =:line,xlims = (-2,102),font = \"Ariel\")\n",
    "\n",
    "plot()\n",
    "plot!(delays,mean,yerror=mean_sigma,grid=true,ribbon=mean_sigma,fillalpha= 0.2,yaxis=:log,palette=:tab10,align=\"center\",alpha=0.7,label = \"\",xlabel = \"Delay τ (days)\",ylabel = \"Mean size\", seriestype =:scatter,xlims = (-2,102),markersize = 12,font = \"Ariel\")\n",
    "p3 = plot!(delays,mean,color = \"Black\",alpha=0.7,grid=true,yaxis=:log,align=\"center\",label = \"\",xlabel = \"Delay τ (days)\",ylabel = \"Mean size\", seriestype =:line,xlims = (-2,102),font = \"Ariel\")\n",
    "\n",
    "plot()\n",
    "plot!(delays,prob_success,yerror=prob_sigma,grid=true,ribbon=prob_sigma,fillalpha= 0.2,xaxis=:log,palette=:tab10,align=\"center\",alpha=0.7,label = \"\",xlabel = \"Delay τ (days)\",ylabel = \"Probability of establishment\", seriestype =:scatter,xlims = (0.4,420),markersize = 12,font = \"Ariel\")\n",
    "p2 = plot!(delays,prob_success,color = \"Black\",alpha=0.7,grid=true,xaxis=:log,align=\"center\",label = \"\",xlabel = \"Delay τ (days)\",ylabel = \"Probability of establishment\", seriestype =:line,xlims = (0.4,420),font = \"Ariel\")\n",
    "\n",
    "plot()\n",
    "plot!(delays,mean,yerror=mean_sigma,grid=true,ribbon=mean_sigma,fillalpha= 0.2,yaxis=:log,xaxis=:log,palette=:tab10,align=\"center\",alpha=0.7,label = \"\",xlabel = \"Delay τ (days)\",ylabel = \"Mean size\", seriestype =:scatter,xlims = (0.4,420),markersize = 12,font = \"Ariel\")\n",
    "p4 = plot!(delays,mean,color = \"Black\",alpha=0.7,grid=true,yaxis=:log,xaxis=:log,align=\"center\",label = \"\",xlabel = \"Delay τ (days)\",ylabel = \"Mean size\", seriestype =:line,xlims = (0.4,420),font = \"Ariel\")\n",
    "\n",
    "plot()\n",
    "plot!(delays,time,yerror=time_sigma,grid=true,ribbon=time_sigma,fillalpha= 0.2,palette=:tab10,align=\"center\",alpha=0.7,label = \"\",xlabel = \"Delay τ (days)\",ylabel = \"Mean time to extinction\", seriestype =:scatter,xlims = (-2,102),markersize = 12,font = \"Ariel\")\n",
    "p5 = plot!(delays,time,color = \"Black\",alpha=0.7,grid=true,align=\"center\",label = \"\",xlabel = \"Delay τ (days)\",ylabel = \"Mean time to extinction\", seriestype =:line,xlims = (-2,102),font = \"Ariel\")\n",
    "\n",
    "plot()\n",
    "plot!(delays,time,yerror=time_sigma,grid=true,ribbon=time_sigma,fillalpha= 0.2,xaxis=:log,palette=:tab10,align=\"center\",alpha=0.7,label = \"\",xlabel = \"Delay τ (days)\",ylabel = \"Mean time to extinction\", seriestype =:scatter,xlims = (0.4,420),markersize = 12,font = \"Ariel\")\n",
    "p6 = plot!(delays,time,color = \"Black\",alpha=0.7,grid=true,xaxis=:log,align=\"center\",label = \"\",xlabel = \"Delay τ (days)\",ylabel = \"Mean time to extinction\", seriestype =:line,xlims = (0.4,420),font = \"Ariel\")\n",
    "\n",
    "plot()\n",
    "plot(p1, p2, p3, p4, p5, p6, layout = l,size =(1600,1800),xtickfont=font(25),ytickfont=font(25),guidefont=font(25),legendfont=font(25))"
   ]
  },
  {
   "cell_type": "markdown",
   "id": "5ebdd245-d6fd-4f62-b042-58d296fe1883",
   "metadata": {},
   "source": [
    "# Figure S5"
   ]
  },
  {
   "cell_type": "code",
   "execution_count": null,
   "id": "1f91b027-c141-4e0f-83ae-b07de5e722aa",
   "metadata": {},
   "outputs": [],
   "source": [
    "using Plots"
   ]
  },
  {
   "cell_type": "code",
   "execution_count": null,
   "id": "b40764fb-6a3f-4afe-b2da-e77708f114f4",
   "metadata": {},
   "outputs": [],
   "source": [
    "#time to extinction plot\n",
    "l = @layout [a b]\n",
    "delays = [0,0.5,1,2,10,50,100,365]\n",
    "alpha1 = [0,50,100,150,200]\n",
    "times0 = [8.35639,12.9067,8.4226,2.43575,1.8359]\n",
    "times365 = [13.3427,28.2929,38.1711,22.4496,2.14636]\n",
    "\n",
    "logocolors = Colors.JULIA_LOGO_COLORS\n",
    "\n",
    "p1 = plot(alpha1,times0,grid=true,color=logocolors.purple,align=\"center\",title = \"τ = 0\",xlabel = \"MDSCs circulating rate α₂\",ylabel = \"Mean time (days)\",legend = false,seriestype =:scatter,markersize = 25,font = \"Ariel\",xlims = (-10,210),ylims = (0,45))\n",
    "p2 = plot(alpha1,times365,grid=true,color=logocolors.purple,align=\"center\",title = \"τ = 365\",xlabel = \"MDSCs circulating rate α₂\",ylabel = \"Mean time (days)\",legend = false,seriestype =:scatter,markersize = 25,font = \"Ariel\",xlims = (-10,210),ylims = (0,45))\n",
    "plot(p1,p2,layout = l,size =(1600,600),xtickfont=font(25),ytickfont=font(25),guidefont=font(25),legendfont=font(25),titlefont=font(25))"
   ]
  },
  {
   "cell_type": "markdown",
   "id": "6edfc11d-0298-45dd-9f1a-7aa694807747",
   "metadata": {},
   "source": [
    "# Figure S9"
   ]
  },
  {
   "cell_type": "code",
   "execution_count": null,
   "id": "6d3bf619-2939-4a22-a439-1206f4c5354e",
   "metadata": {},
   "outputs": [],
   "source": [
    "using Catalyst\n",
    "using DifferentialEquations\n",
    "using ModelingToolkit\n",
    "using Plots\n",
    "using Statistics\n",
    "using ParameterizedFunctions\n",
    "using DelimitedFiles\n",
    "using CSV\n",
    "using DataFrames\n",
    "import Random\n",
    "logocolors = Colors.JULIA_LOGO_COLORS"
   ]
  },
  {
   "cell_type": "code",
   "execution_count": null,
   "id": "4ac33e2d-ffde-4e78-8ecb-6d9cb9e28656",
   "metadata": {},
   "outputs": [],
   "source": [
    "# model definition \n",
    "system = @reaction_network begin\n",
    "  α₁*T*log(η/T),  0 --> T\n",
    "  α₂, 0 --> MDSC\n",
    "  β₁*NK, T --> 0\n",
    "  β₂*CTL, T --> 0\n",
    "  ζ₁, T --> 0\n",
    "  α₃*T/(γ₁+(T)), 0 --> MDSC\n",
    "  ζ₂, MDSC --> 0\n",
    "  α₄, 0 --> NK\n",
    "  α₅*(T^2)/(γ₂+(T^2)), 0 --> NK\n",
    "  β₃*MDSC, NK --> 0\n",
    "  ζ₃, NK --> 0\n",
    "  α₆*T*NK, 0 --> CTL\n",
    "  α₇*(T^2)/(γ₃+(T^2)), 0 --> CTL\n",
    "  β₄*MDSC, CTL --> 0\n",
    "  ζ₄, CTL --> 0\n",
    "end α₂ α₃ ζ₂ α₁ η β₁ β₂ ζ₁ α₄ α₅ β₃ ζ₃ α₆ α₇ β₄ ζ₄ γ₁ γ₂ γ₃"
   ]
  },
  {
   "cell_type": "code",
   "execution_count": null,
   "id": "4fd979fc-267b-4f49-84fd-05a54531d483",
   "metadata": {},
   "outputs": [],
   "source": [
    "fullsystem = convert(ODESystem, system)"
   ]
  },
  {
   "cell_type": "code",
   "execution_count": null,
   "id": "37925eb3-c969-4f4a-8061-3fa4e75a93a2",
   "metadata": {},
   "outputs": [],
   "source": [
    "#set model parameters\n",
    "α₂ = 10.0*(10.0^1.0) #MDSCs production rate\n",
    "α₃ = (10.0^8.0) #MDSCs expansion coefficient \n",
    "ζ₂ = 0.2 #MDSCs death rate\n",
    "\n",
    "α₁ = 10.0^(-1.0) #tumor growth rate\n",
    "η = 10.0^7.0 #tumor maximum size\n",
    "β₁ = 3.5*(10.0^(-6.0)) #tumor cells kill rate by NK cells\n",
    "β₂ = 1.1*(10.0^(-7.0)) #tumor cells kill rate by T cells\n",
    "ζ₁ = 0.0 #tumor cell death rate\n",
    "\n",
    "α₄ = 1.4*(10.0^4.0) #NK cells production rate\n",
    "α₅ = 2.5*(10.0^(-2.0)) #NK cells expansion coefficient\n",
    "β₃ = 4*(10.0^(-5.0)) #NK cells inactivation rate by MDSCs\n",
    "ζ₃ = 4.12*(10.0^(-2.0)) #NK cells death rate\n",
    "\n",
    "α₆ = 1.1*(10.0^(-7.0)) #CTL stimulation as a result of tumor-NK cell interaction\n",
    "α₇ = 10.0^(-1.0) #CTL expansion coefficient \n",
    "β₄ = (10.0^(-4.0)) #CTL inactivation rate by MDSCs\n",
    "ζ₄ = 2.0*(10.0^(-2.0)) #CTL death rate\n",
    "\n",
    "γ₁ = (10.0^(10.0)) #steepness coefficient of MDSC production curve\n",
    "γ₂ = 2.02*(10.0^(7.0)) #steepness coefficient of NK production curve\n",
    "γ₃ = 2.02*(10.0^(7.0)) #steepness coefficient of CTL production curve\n",
    "\n",
    "p = (α₂,α₃,ζ₂,α₁,η,β₁,β₂,ζ₁,α₄,α₅,β₃,ζ₃,α₆,α₇,β₄,ζ₄,γ₁,γ₂,γ₃)\n",
    "tspan = (0.0,365.0)\n",
    "u0 = [1.0;α₂/ζ₂;ζ₂*α₄/(α₂*β₃+ζ₂*ζ₃);0.0]"
   ]
  },
  {
   "cell_type": "code",
   "execution_count": null,
   "id": "a425be65-e807-4470-a726-5ff484224188",
   "metadata": {},
   "outputs": [],
   "source": [
    "# deterministic simulation of system\n",
    "op    = ODEProblem(system, u0, tspan, p)\n",
    "sol   = solve(op, Tsit5()) \n",
    "plot2 = plot(sol, lw = 4, yaxis=:log,size =(1600/2,600), font = \"Ariel\", ylims = (0.01,10^7.5), color = [logocolors.red \"goldenrod2\" logocolors.green logocolors.blue], alpha = [1 1 0.3 0.3], legend = false, xtickfontsize=25,ytickfontsize=25,xlabel=\"Time (days)\",xguidefontsize=25,ylabel=\"Number of cells\",yguidefontsize=25,title = \"\",titlefontsize=25)\n",
    "\n",
    "display(plot2)\n",
    "sol"
   ]
  },
  {
   "cell_type": "code",
   "execution_count": null,
   "id": "ec0fde48-491e-49b0-975c-99b3c28bae4c",
   "metadata": {},
   "outputs": [],
   "source": [
    "#define conditions for simulation to end\n",
    "function condition(u,t,integrator) \n",
    "  u[1] <= 0 \n",
    "end\n",
    "floor_event = DiscreteCallback(condition, terminate!)"
   ]
  },
  {
   "cell_type": "markdown",
   "id": "2143b932-6d6c-45df-baf8-ed3f784fe9a2",
   "metadata": {},
   "source": [
    "## Panel A"
   ]
  },
  {
   "cell_type": "code",
   "execution_count": null,
   "id": "c5f564a6-45b1-41ba-b44c-61924e1aea61",
   "metadata": {},
   "outputs": [],
   "source": [
    "# stochastic simulation of system - successful tumor\n",
    "Random.seed!(1240)\n",
    "\n",
    "dprob = DiscreteProblem(system, u0, tspan, p)\n",
    "jprob = JumpProblem(system, dprob, Direct(), save_positions=(false,false)) \n",
    "jsol = solve(jprob, SSAStepper(), saveat=1.0, callback=floor_event)\n",
    "plot1 = plot(jsol, lw = 4, yaxis=:log,size =(1600/2,600), font = \"Ariel\", ylims = (0.01,10^7.5), color = [logocolors.red \"goldenrod2\" logocolors.green logocolors.blue], alpha = [1 1 0.3 0.3], legend = false, xtickfontsize=25,ytickfontsize=25,xlabel=\"Time (days)\",xguidefontsize=25,ylabel=\"Number of cells\",yguidefontsize=25,title = \"\",titlefontsize=25)\n",
    "\n",
    "display(plot1)\n",
    "\n",
    "jsol"
   ]
  },
  {
   "cell_type": "markdown",
   "id": "13e0f157-96dc-4bea-8677-9451c9bcdfcf",
   "metadata": {},
   "source": [
    "## Panel B"
   ]
  },
  {
   "cell_type": "code",
   "execution_count": null,
   "id": "783cf014-8f90-4c2d-b73e-fd18058b08d7",
   "metadata": {},
   "outputs": [],
   "source": [
    "# stochastic simulation of system - unsuccessful tumor\n",
    "\n",
    "Random.seed!(1259)\n",
    "\n",
    "dprob = DiscreteProblem(system, u0, tspan, p)\n",
    "jprob = JumpProblem(system, dprob, Direct(), save_positions=(false,false)) \n",
    "jsol = solve(jprob, SSAStepper(), saveat=1.0, callback=floor_event)\n",
    "plot1 = plot(jsol, lw = 4, yaxis=:log,size =(1600/2,600), font = \"Ariel\", xlims = (0.0,10.0), ylims = (0.01,10^7.5), color = [logocolors.red \"goldenrod2\" logocolors.green logocolors.blue], alpha = [1 1 0.3 0.3], legend = false, xtickfontsize=25,ytickfontsize=25,xlabel=\"Time (days)\",xguidefontsize=25,ylabel=\"Number of cells\",yguidefontsize=25,title = \"\",titlefontsize=25)\n",
    "\n",
    "display(plot1)\n",
    "\n",
    "jsol"
   ]
  },
  {
   "cell_type": "code",
   "execution_count": null,
   "id": "9ba54c7c-78f3-495a-912e-eddb0a87376d",
   "metadata": {},
   "outputs": [],
   "source": [
    "#parameters\n",
    "α₁ = 10.0^(-1.0) #tumor growth rate\n",
    "η = 10.0^7.0 #tumor maximum size\n",
    "β₁ = 3.5*(10.0^(-6.0)) #tumor cells kill rate by NK cells\n",
    "\n",
    "1 / (α₁*1.0*log(η/1.0) / (β₁*228758.1699346405))"
   ]
  },
  {
   "cell_type": "code",
   "execution_count": null,
   "id": "6a99df5d-f124-4aa8-8e13-e22ea2f39c25",
   "metadata": {},
   "outputs": [],
   "source": [
    "df = DataFrame(CSV.File(\"gillespie.csv\"))\n",
    "list = Matrix(df)\n",
    "list2 = zeros(length(list))\n",
    "for i = 1:length(list)\n",
    "    list2[i] = mean(list[1:i])\n",
    "end\n",
    "vector = LinRange(1, length(list2), length(list2))"
   ]
  },
  {
   "cell_type": "markdown",
   "id": "bf5ef7ff-b29c-4ce4-8294-401698b45a5f",
   "metadata": {},
   "source": [
    "## Panel C"
   ]
  },
  {
   "cell_type": "code",
   "execution_count": null,
   "id": "207b03ff-0494-423a-ac1e-8e358d780b10",
   "metadata": {},
   "outputs": [],
   "source": [
    "#plot\n",
    "plot()\n",
    "\n",
    "success = 1 - (1 / (α₁*log(η) / (β₁*(ζ₂*α₄/(α₂*β₃+ζ₂*ζ₃))-ζ₁)))\n",
    "success_vector = zeros(length(vector)) .+ success\n",
    "\n",
    "plot!(vector, list2, xlims = (8, 25000), ylims = (0.2,0.8), xaxis = :log, lw = 4, size =(1600,600), font = \"Ariel\", color = logocolors.purple, legend = false, xtickfontsize=25,ytickfontsize=25,xlabel=\"Number of simulations\",xguidefontsize=25,ylabel=\"Rolling mean\",yguidefontsize=25,title = \"Probability of establishment\",titlefontsize=25)\n",
    "plot!(vector, success_vector, lw = 2, linestyle = :dash, size =(1600,600), font = \"Ariel\", color = \"Black\", legend = false, xtickfontsize=25,ytickfontsize=25,xlabel=\"Number of simulations\",xguidefontsize=25,ylabel=\"Rolling mean\",yguidefontsize=25,title = \"Probability of establishment\",titlefontsize=25)\n"
   ]
  },
  {
   "cell_type": "markdown",
   "id": "86b21157-8425-4d87-9f25-79d5cf93de56",
   "metadata": {},
   "source": [
    "# Figures 6, S10, and S11"
   ]
  },
  {
   "cell_type": "code",
   "execution_count": null,
   "id": "125f23d1-763a-4a4b-8ea9-d8f8695c2e55",
   "metadata": {},
   "outputs": [],
   "source": [
    "using Turing, Distributions, DifferentialEquations\n",
    "using MCMCChains, Plots, StatsPlots\n",
    "\n",
    "import Random\n",
    "Random.seed!(14);\n",
    "\n",
    "logocolors = Colors.JULIA_LOGO_COLORS"
   ]
  },
  {
   "cell_type": "code",
   "execution_count": null,
   "id": "d3f7b11b-9ef0-4e69-bb00-e2bd48ee6533",
   "metadata": {},
   "outputs": [],
   "source": [
    "color1 = RGBA(113/255,46/255,103/255,1)\n",
    "color2 = RGBA(38/255,117/255,146/255,1)\n",
    "color3 = RGBA(95/255,177/255,42/255,1)\n",
    "color4 = RGBA(199/255,200/255,0/255,1)\n",
    "color5 = RGBA(255/255,121/255,23/255,1)\n",
    "color6 = RGBA(226/255,58/255,52/255,1)"
   ]
  },
  {
   "cell_type": "markdown",
   "id": "ce46e1ec-dce5-4c73-949f-829f2bff6e96",
   "metadata": {},
   "source": [
    "## Data"
   ]
  },
  {
   "cell_type": "code",
   "execution_count": null,
   "id": "0eb3e95f-890e-4d7d-87b5-6955e7b522b8",
   "metadata": {},
   "outputs": [],
   "source": [
    "#tumor data\n",
    "time_1 = [0.0,39.0,82.0,124.0,165.0,249.0,277.0,292.0,334.0]\n",
    "\n",
    "tumor_1 = [24565000000.0,29160000000.0,20480000000.0,3645000000.0,2560000000.0,3645000000.0,1715000000.0,1715000000.0,1715000000.0]\n",
    "for i = 2:convert(Int64, length(tumor_1))\n",
    "    tumor_1[i] = (tumor_1[i]-tumor_1[1])./tumor_1[1]\n",
    "end\n",
    "tumor_1[1] = 0.0\n",
    "\n",
    "\n",
    "time_2 = [0.0,43.0,84.0,127.0,169.0,211.0,253.0,295.0,344.0]\n",
    "\n",
    "tumor_2 = [5.5296E+11,1.9652E+11,1.9652E+11,1.9652E+11,1.0976E+11,78125000000.0,78125000000.0,87880000000.0,1.0976E+11]\n",
    "for i = 2:convert(Int64, length(tumor_2))\n",
    "    tumor_2[i] = (tumor_2[i]-tumor_2[1])./tumor_2[1]\n",
    "end\n",
    "tumor_2[1] = 0.0\n",
    "\n",
    "\n",
    "time_3 = [0.0,41.0,83.0,125.0,167.0,210.0,251.0,293.0,334.0,442.0,377.0]\n",
    "\n",
    "tumor_3 = [1.37313E+12,1.37313E+12,4.8668E+11,4.8668E+11,3.2E+11,3.44605E+11,2.7436E+11,2.7436E+11,3.97535E+11,4.55625E+11,4.2592E+11]\n",
    "for i = 2:convert(Int64, length(tumor_3))\n",
    "    tumor_3[i] = (tumor_3[i]-tumor_3[1])./tumor_3[1]\n",
    "end\n",
    "tumor_3[1] = 0.0\n",
    "\n",
    "time_4 = [0.0,42.0,84.0,127.0,169.0,211.0,253.0]\n",
    "\n",
    "tumor_4 = [3.2E+11,2.96595E+11,2.14375E+11,2.14375E+11,3.2E+11,3.2E+11,3.44605E+11]\n",
    "for i = 2:convert(Int64, length(tumor_4))\n",
    "    tumor_4[i] = (tumor_4[i]-tumor_4[1])./tumor_4[1]\n",
    "end\n",
    "tumor_4[1] = 0.0\n",
    "\n",
    "time_5 = [0.0,41.0,83.0,125.0,167.0,210.0,251.0,293.0,335.0,393.0,461.0]\n",
    "\n",
    "tumor_5 = [1.0976E+11,1.0976E+11,1.35E+11,1.79685E+11,1.79685E+11,2.7436E+11,3.44605E+11,3.7044E+11,4.8668E+11,5.5296E+11,5.5296E+11]\n",
    "for i = 2:convert(Int64, length(tumor_5))\n",
    "    tumor_5[i] = (tumor_5[i]-tumor_5[1])./tumor_5[1]\n",
    "end\n",
    "tumor_5[1] = 0.0\n",
    "\n",
    "time_6 = [0.0,55.0,90.0,118.0,167.0]\n",
    "\n",
    "tumor_6 = [3.97535E+11,5.19115E+11,6.25E+11,6.25E+11,1.37313E+12]\n",
    "for i = 2:convert(Int64, length(tumor_6))\n",
    "    tumor_6[i] = (tumor_6[i]-tumor_6[1])./tumor_6[1]\n",
    "end\n",
    "tumor_6[1] = 0.0"
   ]
  },
  {
   "cell_type": "code",
   "execution_count": null,
   "id": "e33de4c3-1782-41a3-be9a-1f0bfcb4d8b9",
   "metadata": {},
   "outputs": [],
   "source": [
    "#plot tumor data relative change\n",
    "scatter()\n",
    "scatter!(time_1, tumor_1, markersize = 10, size =(1600,600), font = \"Ariel\", color_palette = palette([color1, color1],2), legend = false, xtickfontsize=25,ytickfontsize=25,xlabel=\"Time (days)\",xguidefontsize=25,ylabel=\"Relative change\",yguidefontsize=25,title = \"\",titlefontsize=25)\n",
    "plot!(time_1, tumor_1, size =(1600,600), font = \"Ariel\", color = color1, legend = false, xtickfontsize=25,ytickfontsize=25,xlabel=\"Time (days)\",xguidefontsize=25,ylabel=\"Relative change\",yguidefontsize=25,title = \"\",titlefontsize=25)\n",
    "\n",
    "scatter!(time_2, tumor_2, markersize = 10, size =(1600,600), font = \"Ariel\", color_palette = palette([color2, color2],2), legend = false, xtickfontsize=25,ytickfontsize=25,xlabel=\"Time (days)\",xguidefontsize=25,ylabel=\"Relative change\",yguidefontsize=25,title = \"\",titlefontsize=25)\n",
    "plot!(time_2, tumor_2, size =(1600,600), font = \"Ariel\", color = color2, legend = false, xtickfontsize=25,ytickfontsize=25,xlabel=\"Time (days)\",xguidefontsize=25,ylabel=\"Relative change\",yguidefontsize=25,title = \"\",titlefontsize=25)\n",
    "\n",
    "scatter!(time_3, tumor_3, markersize = 10, size =(1600,600), font = \"Ariel\", color_palette = palette([color3, color3],2), legend = false, xtickfontsize=25,ytickfontsize=25,xlabel=\"Time (days)\",xguidefontsize=25,ylabel=\"Relative change\",yguidefontsize=25,title = \"\",titlefontsize=25)\n",
    "plot!(time_3, tumor_3, size =(1600,600), font = \"Ariel\", color = color3, legend = false, xtickfontsize=25,ytickfontsize=25,xlabel=\"Time (days)\",xguidefontsize=25,ylabel=\"Relative change\",yguidefontsize=25,title = \"\",titlefontsize=25)\n",
    "\n",
    "scatter!(time_4, tumor_4, markersize = 10, size =(1600,600), font = \"Ariel\", color_palette = palette([color4, color4],2), legend = false, xtickfontsize=25,ytickfontsize=25,xlabel=\"Time (days)\",xguidefontsize=25,ylabel=\"Relative change\",yguidefontsize=25,title = \"\",titlefontsize=25)\n",
    "plot!(time_4, tumor_4, size =(1600,600), font = \"Ariel\", color = color4, legend = false, xtickfontsize=25,ytickfontsize=25,xlabel=\"Time (days)\",xguidefontsize=25,ylabel=\"Relative change\",yguidefontsize=25,title = \"\",titlefontsize=25)\n",
    "\n",
    "scatter!(time_5, tumor_5, markersize = 10, size =(1600,600), font = \"Ariel\", color_palette = palette([color5, color5],2), legend = false, xtickfontsize=25,ytickfontsize=25,xlabel=\"Time (days)\",xguidefontsize=25,ylabel=\"Relative change\",yguidefontsize=25,title = \"\",titlefontsize=25)\n",
    "plot!(time_5, tumor_5, size =(1600,600), font = \"Ariel\", color = color5, legend = false, xtickfontsize=25,ytickfontsize=25,xlabel=\"Time (days)\",xguidefontsize=25,ylabel=\"Relative change\",yguidefontsize=25,title = \"\",titlefontsize=25)\n",
    "\n",
    "scatter!(time_6, tumor_6, markersize = 10, size =(1600,600), font = \"Ariel\", color_palette = palette([color6, color6],2), legend = false, xtickfontsize=25,ytickfontsize=25,xlabel=\"Time (days)\",xguidefontsize=25,ylabel=\"Relative change\",yguidefontsize=25,title = \"\",titlefontsize=25)\n",
    "plot!(time_6, tumor_6, size =(1600,600), font = \"Ariel\", color = color6, legend = false, xtickfontsize=25,ytickfontsize=25,xlabel=\"Time (days)\",xguidefontsize=25,ylabel=\"Relative change\",yguidefontsize=25,title = \"\",titlefontsize=25)"
   ]
  },
  {
   "cell_type": "code",
   "execution_count": null,
   "id": "0dcbf2cb-2dc6-46ee-97f6-bfd37aedeb69",
   "metadata": {},
   "outputs": [],
   "source": [
    "#remove first data point from each tumor (baseline)\n",
    "popfirst!(tumor_1)\n",
    "popfirst!(time_1)\n",
    "popfirst!(tumor_2)\n",
    "popfirst!(time_2)\n",
    "popfirst!(tumor_3)\n",
    "popfirst!(time_3)\n",
    "popfirst!(tumor_4)\n",
    "popfirst!(time_4)\n",
    "popfirst!(tumor_5)\n",
    "popfirst!(time_5)\n",
    "popfirst!(tumor_6)\n",
    "popfirst!(time_6)"
   ]
  },
  {
   "cell_type": "code",
   "execution_count": null,
   "id": "a6c53210-d913-4abd-a021-b4269c339808",
   "metadata": {},
   "outputs": [],
   "source": [
    "tumor_1"
   ]
  },
  {
   "cell_type": "code",
   "execution_count": null,
   "id": "e66ebf25-9d1c-465b-a9e9-3d1b843a1cd5",
   "metadata": {},
   "outputs": [],
   "source": [
    "tumor_2"
   ]
  },
  {
   "cell_type": "code",
   "execution_count": null,
   "id": "a31f0d51-e3d7-4945-aa80-4a6617c3a27f",
   "metadata": {},
   "outputs": [],
   "source": [
    "tumor_3"
   ]
  },
  {
   "cell_type": "code",
   "execution_count": null,
   "id": "f72bccc2-c69d-4b4c-a84d-4a9ab1be9484",
   "metadata": {},
   "outputs": [],
   "source": [
    "tumor_4"
   ]
  },
  {
   "cell_type": "code",
   "execution_count": null,
   "id": "dbbf926a-adeb-4b19-8dcf-16cda0d2beb6",
   "metadata": {},
   "outputs": [],
   "source": [
    "tumor_5"
   ]
  },
  {
   "cell_type": "code",
   "execution_count": null,
   "id": "ae49c595-f458-4077-82ae-fa09eb1ce829",
   "metadata": {},
   "outputs": [],
   "source": [
    "tumor_6"
   ]
  },
  {
   "cell_type": "markdown",
   "id": "ee150e4b-4d52-40ab-8e31-9a6f0789e88b",
   "metadata": {},
   "source": [
    "## Model"
   ]
  },
  {
   "cell_type": "code",
   "execution_count": null,
   "id": "23c57a28-6a29-4ba2-93fa-c599f486adf4",
   "metadata": {},
   "outputs": [],
   "source": [
    "#define model without delay\n",
    "function ode_system(du,u,p,t)\n",
    "    T,MDSC,NK,CTL = u\n",
    "    β₃, α₆, α₁ = p \n",
    "   \n",
    "# Cancer cells (tumor)\n",
    "    du[1] = dT = α₁*T*log(max(η/T,1)) - β₁*T*NK - β₂*T*CTL - ζ₁*T\n",
    " # MDSCs \n",
    "    du[2] = dMDSC = α₂ + α₃*T/(γ₁+(T)) - ζ₂*MDSC \n",
    " # NK cells\n",
    "    du[3] = dNK = α₄ + α₅*(T^2)/(γ₂+(T^2)) - β₃*MDSC*NK - ζ₃*NK \n",
    " # CTL cells\n",
    "    du[4] = dCTL = α₆*T*NK + α₇*(T^2)/(γ₃+(T^2)) - β₄*MDSC*CTL - ζ₄*CTL\n",
    "end"
   ]
  },
  {
   "cell_type": "code",
   "execution_count": null,
   "id": "1d96111f-1630-4e0e-a464-8d678513c154",
   "metadata": {},
   "outputs": [],
   "source": [
    "#set numerical solution algorithm\n",
    "alg = Tsit5()"
   ]
  },
  {
   "cell_type": "code",
   "execution_count": null,
   "id": "50980b5a-7a39-4c8f-a476-46db066bb10e",
   "metadata": {},
   "outputs": [],
   "source": [
    "#define condition for simulation to end\n",
    "function condition(u,t,integrator) \n",
    "  u[1] < 0.0 || u[2] < 0.0 || u[3] < 0.0 || u[4] < 0.0\n",
    "end\n",
    "\n",
    "floor_event = DiscreteCallback(condition, terminate!)"
   ]
  },
  {
   "cell_type": "code",
   "execution_count": null,
   "id": "1c88b5b5-cd3c-4848-8d9a-6a2e8d8da1d3",
   "metadata": {},
   "outputs": [],
   "source": [
    "#set model parameters\n",
    "α₂ = 10.0*(10.0^1.0) #MDSCs production rate\n",
    "α₃ = (10.0^8.0) #MDSCs expansion coefficient \n",
    "ζ₂ = 0.2 #MDSCs death rate\n",
    "\n",
    "α₁ = 10.0^(-1.0) #tumor growth rate\n",
    "η = 10.0^7.0 #tumor maximum size \n",
    "β₁ = 3.5*(10.0^(-6.0)) #tumor cells kill rate by NK cells\n",
    "β₂ = 1.1*(10.0^(-7.0)) #tumor cells kill rate by T cells\n",
    "ζ₁ = 0.0 #tumor cell death rate\n",
    "\n",
    "α₄ = 1.4*(10.0^4.0) #NK cells production rate\n",
    "α₅ = 2.5*(10.0^(-2.0)) #NK cells expansion coefficient\n",
    "β₃ = 4*(10.0^(-5.0)) #NK cells inactivation rate by MDSCs\n",
    "ζ₃ = 4.12*(10.0^(-2.0)) #NK cells death rate\n",
    "\n",
    "α₆ = 1.1*(10.0^(-7.0)) #CTL stimulation as a result of tumor-NK cell interaction\n",
    "α₇ = 10.0^(-1.0) #CTL expansion coefficient \n",
    "β₄ = (10.0^(-4.0)) #(10.0^(-4.0)) #CTL inactivation rate by MDSCs\n",
    "ζ₄ = 2.0*(10.0^(-2.0)) #CTL death rate\n",
    "\n",
    "γ₁ = (10.0^(10.0)) #steepness coefficient of MDSC production curve\n",
    "γ₂ = 2.02*(10.0^(7.0)) #steepness coefficient of NK production curve\n",
    "γ₃ = 2.02*(10.0^(7.0)) #steepness coefficient of CTL production curve\n",
    "\n",
    "p = (β₃, α₆, α₁) \n",
    "\n",
    "tspan = (0.0,600.0)\n",
    "u0 = [8395.368084462818, 804.0710624094437, 197565.74910954377, 1654.4182572290226] \n",
    "\n",
    "prob1 = ODEProblem(ode_system,u0,tspan,p)\n",
    "sol = solve(prob1,alg,saveat=0.1,callback=floor_event)\n",
    "plot(sol, lw = 4, yaxis=:log,size =(1600/2,600), font = \"Ariel\", ylims = (0.01,10^7.5), color = [logocolors.red \"goldenrod2\" logocolors.green logocolors.blue], alpha = [1 1 0.3 0.3], legend = false, xtickfontsize=25,ytickfontsize=25,xlabel=\"Time (days)\",xguidefontsize=25,ylabel=\"Number of cells\",yguidefontsize=25,title = \"\",titlefontsize=25)"
   ]
  },
  {
   "cell_type": "code",
   "execution_count": null,
   "id": "6f82cb2b-2e6e-4faa-b879-f4f1cbcf0188",
   "metadata": {},
   "outputs": [],
   "source": [
    "sol"
   ]
  },
  {
   "cell_type": "markdown",
   "id": "d21dfb51-a207-43b5-ac87-47edc18cc760",
   "metadata": {},
   "source": [
    "## Fitting"
   ]
  },
  {
   "cell_type": "code",
   "execution_count": null,
   "id": "99a305a5-f721-4f53-ad54-3a530e2ae4c5",
   "metadata": {},
   "outputs": [],
   "source": [
    "Threads.nthreads()"
   ]
  },
  {
   "cell_type": "code",
   "execution_count": null,
   "id": "2b5858e3-63af-4295-9e60-730955a99360",
   "metadata": {},
   "outputs": [],
   "source": [
    "#set model parameters\n",
    "η = 10.0^(5.0)\n",
    "η"
   ]
  },
  {
   "cell_type": "code",
   "execution_count": null,
   "id": "62da24f2-63d1-4db7-9e2e-89d5b2947d27",
   "metadata": {},
   "outputs": [],
   "source": [
    "time_to_fit1 = time_1\n",
    "tumor_to_fit1 = tumor_1\n",
    "tumor_curve_fit1 = zeros(length(tumor_to_fit1))\n",
    "for i = 1:convert(Int64, length(tumor_to_fit1))\n",
    "    tumor_curve_fit1[i] = tumor_to_fit1[i].*u0[1]+u0[1]\n",
    "end"
   ]
  },
  {
   "cell_type": "code",
   "execution_count": null,
   "id": "0978d5e7-8402-4f33-9616-f62bc4dca39b",
   "metadata": {},
   "outputs": [],
   "source": [
    "#fit tumor 1\n",
    "Turing.setadbackend(:forwarddiff)\n",
    "\n",
    "@model function fitlv(data, prob1)\n",
    "    \n",
    "    β₃ ~ truncated(Normal(4.0*10.0^(-5.0),10.0^(-4.0)),0.0,10.0^(-2.0))\n",
    "    α₆ ~ truncated(Normal(1.1*(10.0^(-7.0)),(10.0^(-6.0))),0.0,10.0^(-2.0))\n",
    "    α₁ ~ truncated(Normal(10.0^(-1.0),3.0*10.0^(-1.0)),0.0,1.0)\n",
    "    σ ~ InverseGamma(2, 3) \n",
    "\n",
    "\n",
    "    p = [β₃, α₆, α₁] \n",
    "    prob = remake(prob1, p=p)\n",
    "    predicted = solve(prob,Tsit5(),saveat=time_to_fit1,callback=floor_event,reltol=1e-6,isoutofdomain=(u,p,t)->any(x->x<0,u)) \n",
    "    \n",
    "\n",
    "    for i = 1:min(length(predicted),length(tumor_curve_fit1))\n",
    "        data[i] ~ Normal(log.(predicted[i][1].+1), σ) \n",
    "    end\n",
    "\n",
    "end\n",
    "\n",
    "model = fitlv(log.(tumor_curve_fit1.+1), prob1) \n",
    "\n",
    "@time chain1 = sample(model, NUTS(0.65), MCMCThreads(), 2000, 4, progress=true)"
   ]
  },
  {
   "cell_type": "code",
   "execution_count": null,
   "id": "29e42e7e-dbc3-4c0b-91d9-36b5862ca4c8",
   "metadata": {},
   "outputs": [],
   "source": [
    "time_to_fit2 = time_2\n",
    "tumor_to_fit2 = tumor_2\n",
    "tumor_curve_fit2 = zeros(length(tumor_to_fit2))\n",
    "for i = 1:convert(Int64, length(tumor_to_fit2))\n",
    "    tumor_curve_fit2[i] = tumor_to_fit2[i].*u0[1]+u0[1]\n",
    "end"
   ]
  },
  {
   "cell_type": "code",
   "execution_count": null,
   "id": "70a63800-5927-4f60-be6e-13ab28105cac",
   "metadata": {},
   "outputs": [],
   "source": [
    "#fit tumor 2\n",
    "Turing.setadbackend(:forwarddiff)\n",
    "\n",
    "@model function fitlv(data, prob1)\n",
    "    \n",
    "    β₃ ~ truncated(Normal(4.0*10.0^(-5.0),10.0^(-4.0)),0.0,10.0^(-2.0))\n",
    "    α₆ ~ truncated(Normal(1.1*(10.0^(-7.0)),(10.0^(-6.0))),0.0,10.0^(-2.0))\n",
    "    α₁ ~ truncated(Normal(10.0^(-1.0),3.0*10.0^(-1.0)),0.0,1.0)\n",
    "    σ ~ InverseGamma(2, 3) \n",
    "\n",
    "\n",
    "    p = [β₃, α₆, α₁] \n",
    "    prob = remake(prob1, p=p)\n",
    "    predicted = solve(prob,Tsit5(),saveat=time_to_fit2,callback=floor_event,reltol=1e-6,isoutofdomain=(u,p,t)->any(x->x<0,u)) \n",
    "    \n",
    "\n",
    "    for i = 1:min(length(predicted),length(tumor_curve_fit2)) \n",
    "        data[i] ~ Normal(log.(predicted[i][1].+1), σ)\n",
    "    end\n",
    "\n",
    "end\n",
    "\n",
    "model = fitlv(log.(tumor_curve_fit2.+1), prob1) \n",
    "\n",
    "@time chain2 = sample(model, NUTS(0.65), MCMCThreads(), 2000, 4, progress=true)"
   ]
  },
  {
   "cell_type": "code",
   "execution_count": null,
   "id": "8d269c81-a07e-46e3-bb5e-5021a168285b",
   "metadata": {},
   "outputs": [],
   "source": [
    "time_to_fit3 = time_3\n",
    "tumor_to_fit3 = tumor_3\n",
    "tumor_curve_fit3 = zeros(length(tumor_to_fit3))\n",
    "for i = 1:convert(Int64, length(tumor_to_fit3))\n",
    "    tumor_curve_fit3[i] = tumor_to_fit3[i].*u0[1]+u0[1]\n",
    "end"
   ]
  },
  {
   "cell_type": "code",
   "execution_count": null,
   "id": "369223cd-5504-484a-980f-1be527f5f824",
   "metadata": {},
   "outputs": [],
   "source": [
    "#fit tumor 3\n",
    "Turing.setadbackend(:forwarddiff)\n",
    "\n",
    "@model function fitlv(data, prob1)\n",
    "    \n",
    "    β₃ ~ truncated(Normal(4.0*10.0^(-5.0),10.0^(-4.0)),0.0,10.0^(-2.0))\n",
    "    α₆ ~ truncated(Normal(1.1*(10.0^(-7.0)),(10.0^(-6.0))),0.0,10.0^(-2.0))\n",
    "    α₁ ~ truncated(Normal(10.0^(-1.0),3.0*10.0^(-1.0)),0.0,1.0)\n",
    "    σ ~ InverseGamma(2, 3) \n",
    "\n",
    "\n",
    "    p = [β₃, α₆, α₁] \n",
    "    prob = remake(prob1, p=p)\n",
    "    predicted = solve(prob,Tsit5(),saveat=time_to_fit3,callback=floor_event,reltol=1e-6,isoutofdomain=(u,p,t)->any(x->x<0,u))\n",
    "    \n",
    "\n",
    "    for i = 1:min(length(predicted),length(tumor_curve_fit3))\n",
    "        data[i] ~ Normal(log.(predicted[i][1].+1), σ)\n",
    "    end\n",
    "\n",
    "end\n",
    "\n",
    "model = fitlv(log.(tumor_curve_fit3.+1), prob1) \n",
    "\n",
    "@time chain3 = sample(model, NUTS(0.65), MCMCThreads(), 2000, 4, progress=true)"
   ]
  },
  {
   "cell_type": "code",
   "execution_count": null,
   "id": "7166bd03-a069-4d7e-87db-bad2d628cc67",
   "metadata": {},
   "outputs": [],
   "source": [
    "time_to_fit4 = time_4\n",
    "tumor_to_fit4 = tumor_4\n",
    "tumor_curve_fit4 = zeros(length(tumor_to_fit4))\n",
    "for i = 1:convert(Int64, length(tumor_to_fit4))\n",
    "    tumor_curve_fit4[i] = tumor_to_fit4[i].*u0[1]+u0[1]\n",
    "end"
   ]
  },
  {
   "cell_type": "code",
   "execution_count": null,
   "id": "cd42d25b-1dbc-405d-b21d-de4c89836921",
   "metadata": {},
   "outputs": [],
   "source": [
    "#fit tumor 4\n",
    "Turing.setadbackend(:forwarddiff)\n",
    "\n",
    "@model function fitlv(data, prob1)\n",
    "    \n",
    "    β₃ ~ truncated(Normal(4.0*10.0^(-5.0),10.0^(-4.0)),0.0,10.0^(-2.0))\n",
    "    α₆ ~ truncated(Normal(1.1*(10.0^(-7.0)),(10.0^(-6.0))),0.0,10.0^(-2.0))\n",
    "    α₁ ~ truncated(Normal(10.0^(-1.0),3.0*10.0^(-1.0)),0.0,1.0)\n",
    "    σ ~ InverseGamma(2, 3) \n",
    "\n",
    "\n",
    "    p = [β₃, α₆, α₁] \n",
    "    prob = remake(prob1, p=p)\n",
    "    predicted = solve(prob,Tsit5(),saveat=time_to_fit4,callback=floor_event,reltol=1e-6,isoutofdomain=(u,p,t)->any(x->x<0,u))\n",
    "    \n",
    "\n",
    "    for i = 1:min(length(predicted),length(tumor_curve_fit4))\n",
    "        data[i] ~ Normal(log.(predicted[i][1].+1), σ) \n",
    "    end\n",
    "\n",
    "end\n",
    "\n",
    "model = fitlv(log.(tumor_curve_fit4.+1), prob1) \n",
    "\n",
    "@time chain4 = sample(model, NUTS(0.65), MCMCThreads(), 2000, 4, progress=true)"
   ]
  },
  {
   "cell_type": "code",
   "execution_count": null,
   "id": "c410def0-b2df-4d98-824e-728edaf0e073",
   "metadata": {},
   "outputs": [],
   "source": [
    "time_to_fit5 = time_5\n",
    "tumor_to_fit5 = tumor_5\n",
    "tumor_curve_fit5 = zeros(length(tumor_to_fit5))\n",
    "for i = 1:convert(Int64, length(tumor_to_fit5))\n",
    "    tumor_curve_fit5[i] = tumor_to_fit5[i].*u0[1]+u0[1]\n",
    "end\n"
   ]
  },
  {
   "cell_type": "code",
   "execution_count": null,
   "id": "0fd06c23-355e-4c98-9cb7-a061c47dcc2e",
   "metadata": {},
   "outputs": [],
   "source": [
    "#fit tumor 5\n",
    "Turing.setadbackend(:forwarddiff)\n",
    "\n",
    "@model function fitlv(data, prob1)\n",
    "    \n",
    "    β₃ ~ truncated(Normal(4.0*10.0^(-5.0),10.0^(-4.0)),0.0,10.0^(-2.0))\n",
    "    α₆ ~ truncated(Normal(1.1*(10.0^(-7.0)),(10.0^(-6.0))),0.0,10.0^(-2.0))\n",
    "    α₁ ~ truncated(Normal(10.0^(-1.0),3.0*10.0^(-1.0)),0.0,1.0)\n",
    "    σ ~ InverseGamma(2, 3) \n",
    "\n",
    "\n",
    "    p = [β₃, α₆, α₁] \n",
    "    prob = remake(prob1, p=p)\n",
    "    predicted = solve(prob,Tsit5(),saveat=time_to_fit5,callback=floor_event,reltol=1e-6,isoutofdomain=(u,p,t)->any(x->x<0,u)) \n",
    "    \n",
    "\n",
    "    for i = 1:min(length(predicted),length(tumor_curve_fit5)) \n",
    "        data[i] ~ Normal(log.(predicted[i][1].+1), σ) \n",
    "    end\n",
    "\n",
    "end\n",
    "\n",
    "model = fitlv(log.(tumor_curve_fit5.+1), prob1) \n",
    "\n",
    "@time chain5 = sample(model, NUTS(0.65), MCMCThreads(), 2000, 4, progress=true)"
   ]
  },
  {
   "cell_type": "code",
   "execution_count": null,
   "id": "39d48554-0c10-468f-b798-1288483bcc21",
   "metadata": {},
   "outputs": [],
   "source": [
    "time_to_fit6 = time_6\n",
    "tumor_to_fit6 = tumor_6\n",
    "tumor_curve_fit6 = zeros(length(tumor_to_fit6))\n",
    "for i = 1:convert(Int64, length(tumor_to_fit6))\n",
    "    tumor_curve_fit6[i] = tumor_to_fit6[i].*u0[1]+u0[1]\n",
    "end"
   ]
  },
  {
   "cell_type": "code",
   "execution_count": null,
   "id": "d1721d22-cff3-488f-b752-8d813760d2c3",
   "metadata": {},
   "outputs": [],
   "source": [
    "#fit tumor 6\n",
    "Turing.setadbackend(:forwarddiff)\n",
    "\n",
    "@model function fitlv(data, prob1)\n",
    "    \n",
    "    β₃ ~ truncated(Normal(4.0*10.0^(-5.0),10.0^(-4.0)),0.0,10.0^(-2.0))\n",
    "    α₆ ~ truncated(Normal(1.1*(10.0^(-7.0)),(10.0^(-6.0))),0.0,10.0^(-2.0))\n",
    "    α₁ ~ truncated(Normal(10.0^(-1.0),3.0*10.0^(-1.0)),0.0,1.0)\n",
    "    σ ~ InverseGamma(2, 3) \n",
    "\n",
    "\n",
    "    p = [β₃, α₆, α₁] \n",
    "    prob = remake(prob1, p=p)\n",
    "    predicted = solve(prob,Tsit5(),saveat=time_to_fit6,callback=floor_event,reltol=1e-6,isoutofdomain=(u,p,t)->any(x->x<0,u)) \n",
    "    \n",
    "\n",
    "    for i = 1:min(length(predicted),length(tumor_curve_fit6)) \n",
    "        data[i] ~ Normal(log.(predicted[i][1].+1), σ) \n",
    "    end\n",
    "\n",
    "end\n",
    "\n",
    "model = fitlv(log.(tumor_curve_fit6.+1), prob1) \n",
    "\n",
    "@time chain6 = sample(model, NUTS(0.65), MCMCThreads(), 2000, 4, progress=true)"
   ]
  },
  {
   "cell_type": "code",
   "execution_count": null,
   "id": "70d4dc28-a17d-4eda-a017-6957031f6afd",
   "metadata": {},
   "outputs": [],
   "source": [
    "chain_array1 = Array(chain1)"
   ]
  },
  {
   "cell_type": "code",
   "execution_count": null,
   "id": "2a94ce5b-979b-489e-bc3a-7bb33bf8d94d",
   "metadata": {},
   "outputs": [],
   "source": [
    "chain_array2 = Array(chain2)"
   ]
  },
  {
   "cell_type": "code",
   "execution_count": null,
   "id": "304ea62a-e6cf-4f44-a04c-150a52a6bec0",
   "metadata": {},
   "outputs": [],
   "source": [
    "chain_array3 = Array(chain3)"
   ]
  },
  {
   "cell_type": "code",
   "execution_count": null,
   "id": "5ad06529-00af-4c28-8583-fe01f8005741",
   "metadata": {},
   "outputs": [],
   "source": [
    "chain_array4 = Array(chain4)"
   ]
  },
  {
   "cell_type": "code",
   "execution_count": null,
   "id": "6ebfa598-f20b-4087-869f-b7a170f256a2",
   "metadata": {},
   "outputs": [],
   "source": [
    "chain_array5 = Array(chain5)"
   ]
  },
  {
   "cell_type": "code",
   "execution_count": null,
   "id": "2c57ef46-0b04-4dd9-b78f-5832b10a26d7",
   "metadata": {},
   "outputs": [],
   "source": [
    "chain_array6 = Array(chain6)"
   ]
  },
  {
   "cell_type": "code",
   "execution_count": null,
   "id": "82f3a13f-e047-4840-97ca-104b1c7d22e9",
   "metadata": {},
   "outputs": [],
   "source": [
    "#plot joint posterior\n",
    "scatter()\n",
    "scatter!(chain_array1[:,1], chain_array1[:,3], markercolor = palette([color1, color1],2), markerstrokewidth = 0, markeralpha = 0.05, xlims = (0, 0.0005), ylims = (0,1), xlab = \"β₃\", ylab = \"α₁\", legend = :false, size = (1600/3,600), font = \"Ariel\", xtickfontsize=12,ytickfontsize=12,xguidefontsize=25,yguidefontsize=25,titlefontsize=25)\n",
    "scatter!(chain_array2[:,1], chain_array2[:,3], markercolor = palette([color2, color2],2), markerstrokewidth = 0, markeralpha = 0.05, xlims = (0, 0.0005), ylims = (0,1), xlab = \"β₃\", ylab = \"α₁\", legend = :false, size = (1600/3,600), font = \"Ariel\", xtickfontsize=12,ytickfontsize=12,xguidefontsize=25,yguidefontsize=25,titlefontsize=25)\n",
    "scatter!(chain_array3[:,1], chain_array3[:,3], markercolor = palette([color3, color3],2), markerstrokewidth = 0, markeralpha = 0.05, xlims = (0, 0.0005), ylims = (0,1), xlab = \"β₃\", ylab = \"α₁\", legend = :false, size = (1600/3,600), font = \"Ariel\", xtickfontsize=12,ytickfontsize=12,xguidefontsize=25,yguidefontsize=25,titlefontsize=25)\n",
    "scatter!(chain_array4[:,1], chain_array4[:,3], markercolor = palette([color4, color4],2), markerstrokewidth = 0, markeralpha = 0.05, xlims = (0, 0.0005), ylims = (0,1), xlab = \"β₃\", ylab = \"α₁\", legend = :false, size = (1600/3,600), font = \"Ariel\", xtickfontsize=12,ytickfontsize=12,xguidefontsize=25,yguidefontsize=25,titlefontsize=25)\n",
    "scatter!(chain_array5[:,1], chain_array5[:,3], markercolor = palette([color5, color5],2), markerstrokewidth = 0, markeralpha = 0.05, xlims = (0, 0.0005), ylims = (0,1), xlab = \"β₃\", ylab = \"α₁\", legend = :false, size = (1600/3,600), font = \"Ariel\", xtickfontsize=12,ytickfontsize=12,xguidefontsize=25,yguidefontsize=25,titlefontsize=25)\n",
    "scatter!(chain_array6[:,1], chain_array6[:,3], markercolor = palette([color6, color6],2), markerstrokewidth = 0, markeralpha = 0.05, xlims = (0, 0.0005), ylims = (0,1), xlab = \"β₃\", ylab = \"α₁\", legend = :false, size = (1600/3,600), font = \"Ariel\", xtickfontsize=12,ytickfontsize=12,xguidefontsize=25,yguidefontsize=25,titlefontsize=25)"
   ]
  },
  {
   "cell_type": "code",
   "execution_count": null,
   "id": "4994e8bd-877c-4f9d-90de-b6e8cc68f952",
   "metadata": {},
   "outputs": [],
   "source": [
    "#plot joint posterior\n",
    "scatter()\n",
    "scatter!(chain_array1[:,1], chain_array1[:,2], markercolor = palette([color1, color1],2), markerstrokewidth = 0, markeralpha = 0.05, xlims = (0, 0.0005), ylims = (0,5*10^(-6)), xlab = \"β₃\", ylab = \"α₆\", legend = :false, size = (1600/3,600), font = \"Ariel\", xtickfontsize=12,ytickfontsize=12,xguidefontsize=25,yguidefontsize=25,titlefontsize=25)\n",
    "scatter!(chain_array2[:,1], chain_array2[:,2], markercolor = palette([color2, color2],2), markerstrokewidth = 0, markeralpha = 0.05, xlims = (0, 0.0005), ylims = (0,5*10^(-6)), xlab = \"β₃\", ylab = \"α₆\", legend = :false, size = (1600/3,600), font = \"Ariel\", xtickfontsize=12,ytickfontsize=12,xguidefontsize=25,yguidefontsize=25,titlefontsize=25)\n",
    "scatter!(chain_array3[:,1], chain_array3[:,2], markercolor = palette([color3, color3],2), markerstrokewidth = 0, markeralpha = 0.05, xlims = (0, 0.0005), ylims = (0,5*10^(-6)), xlab = \"β₃\", ylab = \"α₆\", legend = :false, size = (1600/3,600), font = \"Ariel\", xtickfontsize=12,ytickfontsize=12,xguidefontsize=25,yguidefontsize=25,titlefontsize=25)\n",
    "scatter!(chain_array4[:,1], chain_array4[:,2], markercolor = palette([color4, color4],2), markerstrokewidth = 0, markeralpha = 0.05, xlims = (0, 0.0005), ylims = (0,5*10^(-6)), xlab = \"β₃\", ylab = \"α₆\", legend = :false, size = (1600/3,600), font = \"Ariel\", xtickfontsize=12,ytickfontsize=12,xguidefontsize=25,yguidefontsize=25,titlefontsize=25)\n",
    "scatter!(chain_array5[:,1], chain_array5[:,2], markercolor = palette([color5, color5],2), markerstrokewidth = 0, markeralpha = 0.05, xlims = (0, 0.0005), ylims = (0,5*10^(-6)), xlab = \"β₃\", ylab = \"α₆\", legend = :false, size = (1600/3,600), font = \"Ariel\", xtickfontsize=12,ytickfontsize=12,xguidefontsize=25,yguidefontsize=25,titlefontsize=25)\n",
    "scatter!(chain_array6[:,1], chain_array6[:,2], markercolor = palette([color6, color6],2), markerstrokewidth = 0, markeralpha = 0.05, xlims = (0, 0.0005), ylims = (0,5*10^(-6)), xlab = \"β₃\", ylab = \"α₆\", legend = :false, size = (1600/3,600), font = \"Ariel\", xtickfontsize=12,ytickfontsize=12,xguidefontsize=25,yguidefontsize=25,titlefontsize=25)"
   ]
  },
  {
   "cell_type": "code",
   "execution_count": null,
   "id": "8172022e-db5c-467f-9c3a-45c5f22aac52",
   "metadata": {},
   "outputs": [],
   "source": [
    "#plot joint posterior\n",
    "scatter()\n",
    "scatter!(chain_array1[:,2], chain_array1[:,3], markercolor = palette([color1, color1],2), markerstrokewidth = 0, markeralpha = 0.05, xlims = (0,5*10^(-6)), ylims = (0,1), xlab = \"α₆\", ylab = \"α₁\", legend = :false, size = (1600/3,600), font = \"Ariel\", xtickfontsize=12,ytickfontsize=12,xguidefontsize=25,yguidefontsize=25,titlefontsize=25)\n",
    "scatter!(chain_array2[:,2], chain_array2[:,3], markercolor = palette([color2, color2],2), markerstrokewidth = 0, markeralpha = 0.05, xlims = (0,5*10^(-6)), ylims = (0,1), xlab = \"α₆\", ylab = \"α₁\", legend = :false, size = (1600/3,600), font = \"Ariel\", xtickfontsize=12,ytickfontsize=12,xguidefontsize=25,yguidefontsize=25,titlefontsize=25)\n",
    "scatter!(chain_array3[:,2], chain_array3[:,3], markercolor = palette([color3, color3],2), markerstrokewidth = 0, markeralpha = 0.05, xlims = (0,5*10^(-6)), ylims = (0,1), xlab = \"α₆\", ylab = \"α₁\", legend = :false, size = (1600/3,600), font = \"Ariel\", xtickfontsize=12,ytickfontsize=12,xguidefontsize=25,yguidefontsize=25,titlefontsize=25)\n",
    "scatter!(chain_array4[:,2], chain_array4[:,3], markercolor = palette([color4, color4],2), markerstrokewidth = 0, markeralpha = 0.05, xlims = (0,5*10^(-6)), ylims = (0,1), xlab = \"α₆\", ylab = \"α₁\", legend = :false, size = (1600/3,600), font = \"Ariel\", xtickfontsize=12,ytickfontsize=12,xguidefontsize=25,yguidefontsize=25,titlefontsize=25)\n",
    "scatter!(chain_array5[:,2], chain_array5[:,3], markercolor = palette([color5, color5],2), markerstrokewidth = 0, markeralpha = 0.05, xlims = (0,5*10^(-6)), ylims = (0,1), xlab = \"α₆\", ylab = \"α₁\", legend = :false, size = (1600/3,600), font = \"Ariel\", xtickfontsize=12,ytickfontsize=12,xguidefontsize=25,yguidefontsize=25,titlefontsize=25)\n",
    "scatter!(chain_array6[:,2], chain_array6[:,3], markercolor = palette([color6, color6],2), markerstrokewidth = 0, markeralpha = 0.05, xlims = (0,5*10^(-6)), ylims = (0,1), xlab = \"α₆\", ylab = \"α₁\", legend = :false, size = (1600/3,600), font = \"Ariel\", xtickfontsize=12,ytickfontsize=12,xguidefontsize=25,yguidefontsize=25,titlefontsize=25)"
   ]
  },
  {
   "cell_type": "code",
   "execution_count": null,
   "id": "6fdeede2-34da-4f82-bcd4-b1c5cfa75067",
   "metadata": {},
   "outputs": [],
   "source": [
    "#plot MCMCs\n",
    "l = @layout [a b c d e f]\n",
    "a = mixeddensity(chain1, size = (1600/2/2,600), font = \"Ariel\", plot_title=\"Tumor 1\", xtickfontsize=5,ytickfontsize=8,xguidefontsize=12,yguidefontsize=12,titlefontsize=25)\n",
    "b = mixeddensity(chain2, size = (1600/2/2,600), font = \"Ariel\", plot_title=\"Tumor 2\", xtickfontsize=5,ytickfontsize=8,xguidefontsize=12,yguidefontsize=12,titlefontsize=25)\n",
    "c = mixeddensity(chain3, size = (1600/2/2,600), font = \"Ariel\", plot_title=\"Tumor 3\", xtickfontsize=5,ytickfontsize=8,xguidefontsize=12,yguidefontsize=12,titlefontsize=25)\n",
    "d = mixeddensity(chain4, size = (1600/2/2,600), font = \"Ariel\", plot_title=\"Tumor 4\", xtickfontsize=5,ytickfontsize=8,xguidefontsize=12,yguidefontsize=12,titlefontsize=25)\n",
    "e = mixeddensity(chain5, size = (1600/2/2,600), font = \"Ariel\", plot_title=\"Tumor 5\", xtickfontsize=5,ytickfontsize=8,xguidefontsize=12,yguidefontsize=12,titlefontsize=25)\n",
    "f = mixeddensity(chain6, size = (1600/2/2,600), font = \"Ariel\", plot_title=\"Tumor 6\", xtickfontsize=5,ytickfontsize=8,xguidefontsize=12,yguidefontsize=12,titlefontsize=25)\n",
    "plot(a, b, c, d, e, f, layout = l, size =(1600,1200), plot_title =\"\", titlefontsize=25)"
   ]
  },
  {
   "cell_type": "code",
   "execution_count": null,
   "id": "434c8c30-d16b-4f9b-9bb4-8c3461bcb05a",
   "metadata": {},
   "outputs": [],
   "source": [
    "#plot\n",
    "plot()\n",
    "α₂ = 10.0*(10.0^1.0) #MDSCs production rate\n",
    "α₃ = (10.0^8.0) #MDSCs expansion coefficient \n",
    "ζ₂ = 0.2 #MDSCs death rate\n",
    "\n",
    "η = 10.0^(5.0) #tumor maximum size\n",
    "β₁ = 3.5*(10.0^(-6.0)) #tumor cells kill rate by NK cells\n",
    "β₂ = 1.1*(10.0^(-7.0)) #tumor cells kill rate by T cells\n",
    "ζ₁ = 0.0 #tumor cell death rate\n",
    "\n",
    "α₄ = 1.4*(10.0^4.0) #NK cells production rate\n",
    "α₅ = 2.5*(10.0^(-2.0)) #NK cells expansion coefficient\n",
    "ζ₃ = 4.12*(10.0^(-2.0)) #NK cells death rate\n",
    "\n",
    "α₆ = 1.1*(10.0^(-7.0)) #CTL stimulation as a result of tumor-NK cell interaction\n",
    "α₇ = 10.0^(-1.0) #CTL expansion coefficient \n",
    "β₄ = (10.0^(-4.0)) #CTL inactivation rate by MDSCs\n",
    "ζ₄ = 2.0*(10.0^(-2.0)) #CTL death rate\n",
    "\n",
    "γ₁ = (10.0^(10.0)) #steepness coefficient of MDSC production curve\n",
    "γ₂ = 2.02*(10.0^(7.0)) #steepness coefficient of NK production curve\n",
    "γ₃ = 2.02*(10.0^(7.0)) #steepness coefficient of CTL production curve\n",
    "\n",
    "p = (β₃, α₆, α₁) \n",
    "\n",
    "u0 = [8395.368084462818, 804.0710624094437, 197565.74910954377, 1654.4182572290226] #100\n",
    "\n",
    "β₃ = mean(chain_array1[:,1]) \n",
    "α₆ = mean(chain_array1[:,2]) \n",
    "α₁ = mean(chain_array1[:,3]) \n",
    "tspan = (0.0,last(time_to_fit1)+20)\n",
    "p = (β₃, α₆, α₁)\n",
    "probplot = ODEProblem(ode_system,u0,tspan,p)\n",
    "solplotsmooth1 = solve(probplot,alg,saveat=0.1,callback=floor_event)\n",
    "\n",
    "β₃ = mean(chain_array2[:,1]) \n",
    "α₆ = mean(chain_array2[:,2]) \n",
    "α₁ = mean(chain_array2[:,3]) \n",
    "tspan = (0.0,last(time_to_fit2)+20)\n",
    "p = (β₃, α₆, α₁)\n",
    "probplot = ODEProblem(ode_system,u0,tspan,p)\n",
    "solplotsmooth2 = solve(probplot,alg,saveat=0.1,callback=floor_event)\n",
    "\n",
    "β₃ = mean(chain_array3[:,1]) \n",
    "α₆ = mean(chain_array3[:,2]) \n",
    "α₁ = mean(chain_array3[:,3]) \n",
    "tspan = (0.0,last(time_to_fit3)+20)\n",
    "p = (β₃, α₆, α₁)\n",
    "probplot = ODEProblem(ode_system,u0,tspan,p)\n",
    "solplotsmooth3 = solve(probplot,alg,saveat=0.1,callback=floor_event)\n",
    "\n",
    "β₃ = mean(chain_array4[:,1]) \n",
    "α₆ = mean(chain_array4[:,2]) \n",
    "α₁ = mean(chain_array4[:,3]) \n",
    "tspan = (0.0,last(time_to_fit4)+20)\n",
    "p = (β₃, α₆, α₁)\n",
    "probplot = ODEProblem(ode_system,u0,tspan,p)\n",
    "solplotsmooth4 = solve(probplot,alg,saveat=0.1,callback=floor_event)\n",
    "\n",
    "β₃ = mean(chain_array5[:,1]) \n",
    "α₆ = mean(chain_array5[:,2]) \n",
    "α₁ = mean(chain_array5[:,3])\n",
    "tspan = (0.0,last(time_to_fit5)+20)\n",
    "p = (β₃, α₆, α₁)\n",
    "probplot = ODEProblem(ode_system,u0,tspan,p)\n",
    "solplotsmooth5 = solve(probplot,alg,saveat=0.1,callback=floor_event)\n",
    "\n",
    "β₃ = mean(chain_array6[:,1]) \n",
    "α₆ = mean(chain_array6[:,2]) \n",
    "α₁ = mean(chain_array6[:,3]) \n",
    "tspan = (0.0,last(time_to_fit6)+20)\n",
    "p = (β₃, α₆, α₁)\n",
    "probplot = ODEProblem(ode_system,u0,tspan,p)\n",
    "solplotsmooth6 = solve(probplot,alg,saveat=0.1,callback=floor_event)"
   ]
  },
  {
   "cell_type": "code",
   "execution_count": null,
   "id": "408a7441-945d-4052-ae46-badfbac62896",
   "metadata": {},
   "outputs": [],
   "source": [
    "#plot\n",
    "plot()\n",
    "α₂ = 10.0*(10.0^1.0) #MDSCs production rate\n",
    "α₃ = (10.0^8.0) #MDSCs expansion coefficient \n",
    "ζ₂ = 0.2 #MDSCs death rate\n",
    "\n",
    "η = 10.0^(5.0) #tumor maximum size\n",
    "β₁ = 3.5*(10.0^(-6.0)) #tumor cells kill rate by NK cells\n",
    "β₂ = 1.1*(10.0^(-7.0)) #tumor cells kill rate by T cells\n",
    "ζ₁ = 0.0 #tumor cell death rate\n",
    "\n",
    "α₄ = 1.4*(10.0^4.0) #NK cells production rate\n",
    "α₅ = 2.5*(10.0^(-2.0)) #NK cells expansion coefficient\n",
    "ζ₃ = 4.12*(10.0^(-2.0)) #NK cells death rate\n",
    "\n",
    "α₆ = 1.1*(10.0^(-7.0)) #CTL stimulation as a result of tumor-NK cell interaction\n",
    "α₇ = 10.0^(-1.0) #CTL expansion coefficient \n",
    "β₄ = (10.0^(-4.0)) #CTL inactivation rate by MDSCs\n",
    "ζ₄ = 2.0*(10.0^(-2.0)) #CTL death rate\n",
    "\n",
    "γ₁ = (10.0^(10.0)) #steepness coefficient of MDSC production curve\n",
    "γ₂ = 2.02*(10.0^(7.0)) #steepness coefficient of NK production curve\n",
    "γ₃ = 2.02*(10.0^(7.0)) #steepness coefficient of CTL production curve\n",
    "\n",
    "p = (β₃, α₆, α₁) \n",
    "\n",
    "u0 = [8395.368084462818, 804.0710624094437, 197565.74910954377, 1654.4182572290226]\n",
    "\n",
    "β₃ = median(chain_array1[:,1]) \n",
    "α₆ = median(chain_array1[:,2]) \n",
    "α₁ = median(chain_array1[:,3]) \n",
    "tspan = (0.0,last(time_to_fit1)+20)\n",
    "p = (β₃, α₆, α₁)\n",
    "probplot1 = ODEProblem(ode_system,u0,tspan,p)\n",
    "solplotsmooth1 = solve(probplot1,alg,saveat=0.1,callback=floor_event)\n",
    "\n",
    "β₃ = median(chain_array2[:,1]) \n",
    "α₆ = median(chain_array2[:,2]) \n",
    "α₁ = median(chain_array2[:,3]) \n",
    "tspan = (0.0,last(time_to_fit2)+20)\n",
    "p = (β₃, α₆, α₁)\n",
    "probplot2 = ODEProblem(ode_system,u0,tspan,p)\n",
    "solplotsmooth2 = solve(probplot2,alg,saveat=0.1,callback=floor_event)\n",
    "\n",
    "β₃ = median(chain_array3[:,1]) \n",
    "α₆ = median(chain_array3[:,2]) \n",
    "α₁ = median(chain_array3[:,3]) \n",
    "tspan = (0.0,last(time_to_fit3)+20)\n",
    "p = (β₃, α₆, α₁)\n",
    "probplot3 = ODEProblem(ode_system,u0,tspan,p)\n",
    "solplotsmooth3 = solve(probplot3,alg,saveat=0.1,callback=floor_event)\n",
    "\n",
    "β₃ = median(chain_array4[:,1]) \n",
    "α₆ = median(chain_array4[:,2]) \n",
    "α₁ = median(chain_array4[:,3]) \n",
    "tspan = (0.0,last(time_to_fit4)+20)\n",
    "p = (β₃, α₆, α₁)\n",
    "probplot4 = ODEProblem(ode_system,u0,tspan,p)\n",
    "solplotsmooth4 = solve(probplot4,alg,saveat=0.1,callback=floor_event)\n",
    "\n",
    "β₃ = median(chain_array5[:,1]) \n",
    "α₆ = median(chain_array5[:,2]) \n",
    "α₁ = median(chain_array5[:,3])\n",
    "tspan = (0.0,last(time_to_fit5)+20)\n",
    "p = (β₃, α₆, α₁)\n",
    "probplot5 = ODEProblem(ode_system,u0,tspan,p)\n",
    "solplotsmooth5 = solve(probplot5,alg,saveat=0.1,callback=floor_event)\n",
    "\n",
    "β₃ = median(chain_array6[:,1]) \n",
    "α₆ = median(chain_array6[:,2]) \n",
    "α₁ = median(chain_array6[:,3]) \n",
    "tspan = (0.0,last(time_to_fit6)+20)\n",
    "p = (β₃, α₆, α₁)\n",
    "probplot6 = ODEProblem(ode_system,u0,tspan,p)\n",
    "solplotsmooth6 = solve(probplot6,alg,saveat=0.1,callback=floor_event)"
   ]
  },
  {
   "cell_type": "code",
   "execution_count": null,
   "id": "d3bcf9fb-7243-498a-b05f-63085260782b",
   "metadata": {},
   "outputs": [],
   "source": [
    "time_to_fit_plot1 = append!([0.0],time_to_fit1) \n",
    "tumor_to_fit_plot1 = append!([0.0],tumor_to_fit1)\n",
    "\n",
    "time_to_fit_plot2 = append!([0.0],time_to_fit2) \n",
    "tumor_to_fit_plot2 = append!([0.0],tumor_to_fit2) \n",
    "\n",
    "time_to_fit_plot3 = append!([0.0],time_to_fit3) \n",
    "tumor_to_fit_plot3 = append!([0.0],tumor_to_fit3) \n",
    "\n",
    "time_to_fit_plot4 = append!([0.0],time_to_fit4) \n",
    "tumor_to_fit_plot4 = append!([0.0],tumor_to_fit4) \n",
    "\n",
    "time_to_fit_plot5 = append!([0.0],time_to_fit5) \n",
    "tumor_to_fit_plot5 = append!([0.0],tumor_to_fit5) \n",
    "\n",
    "time_to_fit_plot6 = append!([0.0],time_to_fit6) \n",
    "tumor_to_fit_plot6 = append!([0.0],tumor_to_fit6)"
   ]
  },
  {
   "cell_type": "code",
   "execution_count": null,
   "id": "50ecfe7a-3426-4dd6-8b2d-f12c9cb41777",
   "metadata": {},
   "outputs": [],
   "source": [
    "#plot fits\n",
    "fig_layout = @layout [a b; c d; e f; g h; i j; k l]\n",
    "\n",
    "plot()\n",
    "for k in 1:100\n",
    "    resol = solve(remake(prob1,p=chain_array1[rand(1:length(chain_array1[:,1])), 1:4]),Tsit5(),saveat=0.1,callback=floor_event,reltol=1e-6,isoutofdomain=(u,p,t)->any(x->x<0,u))\n",
    "    plot!(resol, alpha=0.1, color = \"#BBBBBB\", legend = false, yaxis=:log,size =(1600/2,600), font = \"Ariel\", ylims = (0.01,10^7.5), xtickfontsize=25,ytickfontsize=25,xlabel=\"Time (days)\",xguidefontsize=25,ylabel=\"Number of cells\",yguidefontsize=25,title = \"\")\n",
    "end\n",
    "a = plot!(solplotsmooth1, w=3, yaxis=:log,size =(1600/2,600), font = \"Ariel\", ylims = (10^2,10^6), color = [logocolors.red \"goldenrod2\" logocolors.green logocolors.blue], alpha = [1 1 0.3 0.3], legend = false, xtickfontsize=25,ytickfontsize=25,xlabel=\"Time (days)\",xguidefontsize=25,ylabel=\"Number of cells\",yguidefontsize=25,title = \"\",titlefontsize=25)\n",
    "\n",
    "scatter()\n",
    "traj1 = solve(remake(probplot1,p=chain_array1[1, 1:4]),Tsit5(),saveat=0.1,callback=floor_event,reltol=1e-6,isoutofdomain=(u,p,t)->any(x->x<0,u)) \n",
    "array_of_traj1 = zeros(8000, length(traj1.t))\n",
    "for k in 1:8000\n",
    "    resol_tumor = solve(remake(probplot1,p=chain_array1[k, 1:4]),Tsit5(),saveat=0.1,callback=floor_event,reltol=1e-6,isoutofdomain=(u,p,t)->any(x->x<0,u)) \n",
    "        for i = 1:convert(Int64, length(resol_tumor)) \n",
    "            array_of_traj1[k,i] = (resol_tumor[i][1]-u0[1])./u0[1]\n",
    "        end\n",
    "end\n",
    "interval_low1 = zeros(length(traj1.t))\n",
    "interval_high1 = zeros(length(traj1.t))\n",
    "for k in 1:length(interval_low1)\n",
    "    interval_low1[k] = quantile(array_of_traj1[:,k], 0.05)\n",
    "    interval_high1[k] = quantile(array_of_traj1[:,k], 0.95)\n",
    "end\n",
    "\n",
    "predicted_data1 = ones(length(solplotsmooth1)) \n",
    "for i = 1:convert(Int64, length(solplotsmooth1))\n",
    "    predicted_data1[i] = (solplotsmooth1[i][1]-u0[1])./u0[1]\n",
    "end\n",
    "plot!(solplotsmooth1.t, predicted_data1, ribbon = (abs.(interval_low1-predicted_data1), abs.(interval_high1-predicted_data1)),fillalpha= 0.1, linewidth = 5, xlims = (-5,last(time_to_fit_plot1)+5), size =(1600/2,600), font = \"Ariel\", color = logocolors.purple, legend = false, xtickfontsize=25,ytickfontsize=25,xlabel=\"Time (days)\",xguidefontsize=25,ylabel=\"Relative change\",yguidefontsize=25,title = \"\",titlefontsize=25)\n",
    "plot!(time_to_fit_plot1, tumor_to_fit_plot1, xlims = (-5,last(time_to_fit_plot1)+5), size =(1600/2,600), font = \"Ariel\", color = \"Black\", legend = false, xtickfontsize=25,ytickfontsize=25,xlabel=\"Time (days)\",xguidefontsize=25,ylabel=\"Relative change\",yguidefontsize=25,title = \"\",titlefontsize=25)\n",
    "b = scatter!(time_to_fit_plot1, tumor_to_fit_plot1, markersize = 10, xlims = (-5,last(time_to_fit_plot1)+5), size =(1600/2,600), font = \"Ariel\", markercolor = \"Black\", legend = false, xtickfontsize=25,ytickfontsize=25,xlabel=\"Time (days)\",xguidefontsize=25,ylabel=\"Relative change\",yguidefontsize=25,title = \"\",titlefontsize=25)\n",
    "\n",
    "plot()\n",
    "for k in 1:100\n",
    "    resol = solve(remake(prob1,p=chain_array2[rand(1:length(chain_array2[:,1])), 1:4]),Tsit5(),saveat=0.1,callback=floor_event,reltol=1e-6,isoutofdomain=(u,p,t)->any(x->x<0,u))\n",
    "    plot!(resol, alpha=0.1, color = \"#BBBBBB\", legend = false, yaxis=:log,size =(1600/2,600), font = \"Ariel\", ylims = (0.01,10^7.5), xtickfontsize=25,ytickfontsize=25,xlabel=\"Time (days)\",xguidefontsize=25,ylabel=\"Number of cells\",yguidefontsize=25,title = \"\")\n",
    "end\n",
    "c = plot!(solplotsmooth2, w=3, yaxis=:log,size =(1600/2,600), font = \"Ariel\", ylims = (10^2,10^6), color = [logocolors.red \"goldenrod2\" logocolors.green logocolors.blue], alpha = [1 1 0.3 0.3], legend = false, xtickfontsize=25,ytickfontsize=25,xlabel=\"Time (days)\",xguidefontsize=25,ylabel=\"Number of cells\",yguidefontsize=25,title = \"\",titlefontsize=25)\n",
    "\n",
    "scatter()\n",
    "traj2 = solve(remake(probplot2,p=chain_array2[1, 1:4]),Tsit5(),saveat=0.1,callback=floor_event,reltol=1e-6,isoutofdomain=(u,p,t)->any(x->x<0,u)) \n",
    "array_of_traj2 = zeros(8000, length(traj2.t))\n",
    "for k in 1:8000\n",
    "    resol_tumor = solve(remake(probplot2,p=chain_array2[k, 1:4]),Tsit5(),saveat=0.1,callback=floor_event,reltol=1e-6,isoutofdomain=(u,p,t)->any(x->x<0,u)) \n",
    "        for i = 1:convert(Int64, length(resol_tumor)) \n",
    "            array_of_traj2[k,i] = (resol_tumor[i][1]-u0[1])./u0[1]\n",
    "        end\n",
    "end\n",
    "interval_low2 = zeros(length(traj2.t))\n",
    "interval_high2 = zeros(length(traj2.t))\n",
    "for k in 1:length(interval_low2)\n",
    "    interval_low2[k] = quantile(array_of_traj2[:,k], 0.05)\n",
    "    interval_high2[k] = quantile(array_of_traj2[:,k], 0.95)\n",
    "end\n",
    "\n",
    "predicted_data2 = ones(length(solplotsmooth2)) \n",
    "for i = 1:convert(Int64, length(solplotsmooth2))\n",
    "    predicted_data2[i] = (solplotsmooth2[i][1]-u0[1])./u0[1]\n",
    "end\n",
    "plot!(solplotsmooth2.t, predicted_data2, ribbon = (abs.(interval_low2-predicted_data2), abs.(interval_high2-predicted_data2)),fillalpha= 0.1, linewidth = 5, xlims = (-5,last(time_to_fit_plot2)+5), size =(1600/2,600), font = \"Ariel\", color = logocolors.purple, legend = false, xtickfontsize=25,ytickfontsize=25,xlabel=\"Time (days)\",xguidefontsize=25,ylabel=\"Relative change\",yguidefontsize=25,title = \"\",titlefontsize=25)\n",
    "plot!(time_to_fit_plot2, tumor_to_fit_plot2, xlims = (-5,last(time_to_fit_plot2)+5), size =(1600/2,600), font = \"Ariel\", color = \"Black\", legend = false, xtickfontsize=25,ytickfontsize=25,xlabel=\"Time (days)\",xguidefontsize=25,ylabel=\"Relative change\",yguidefontsize=25,title = \"\",titlefontsize=25)\n",
    "d = scatter!(time_to_fit_plot2, tumor_to_fit_plot2, markersize = 10, xlims = (-5,last(time_to_fit_plot2)+5), size =(1600/2,600), font = \"Ariel\", markercolor = \"Black\", legend = false, xtickfontsize=25,ytickfontsize=25,xlabel=\"Time (days)\",xguidefontsize=25,ylabel=\"Relative change\",yguidefontsize=25,title = \"\",titlefontsize=25)\n",
    "\n",
    "plot()\n",
    "for k in 1:100\n",
    "    resol = solve(remake(prob1,p=chain_array3[rand(1:length(chain_array3[:,1])), 1:4]),Tsit5(),saveat=0.1,callback=floor_event,reltol=1e-6,isoutofdomain=(u,p,t)->any(x->x<0,u))\n",
    "    plot!(resol, alpha=0.1, color = \"#BBBBBB\", legend = false, yaxis=:log,size =(1600/2,600), font = \"Ariel\", ylims = (0.01,10^7.5), xtickfontsize=25,ytickfontsize=25,xlabel=\"Time (days)\",xguidefontsize=25,ylabel=\"Number of cells\",yguidefontsize=25,title = \"\")\n",
    "end\n",
    "e = plot!(solplotsmooth3, w=3, yaxis=:log,size =(1600/2,600), font = \"Ariel\", ylims = (10^2,10^6), color = [logocolors.red \"goldenrod2\" logocolors.green logocolors.blue], alpha = [1 1 0.3 0.3], legend = false, xtickfontsize=25,ytickfontsize=25,xlabel=\"Time (days)\",xguidefontsize=25,ylabel=\"Number of cells\",yguidefontsize=25,title = \"\",titlefontsize=25)\n",
    "\n",
    "scatter()\n",
    "traj3 = solve(remake(probplot3,p=chain_array3[1, 1:4]),Tsit5(),saveat=0.1,callback=floor_event,reltol=1e-6,isoutofdomain=(u,p,t)->any(x->x<0,u)) \n",
    "array_of_traj3 = zeros(8000, length(traj3.t))\n",
    "for k in 1:8000\n",
    "    resol_tumor = solve(remake(probplot3,p=chain_array3[k, 1:4]),Tsit5(),saveat=0.1,callback=floor_event,reltol=1e-6,isoutofdomain=(u,p,t)->any(x->x<0,u)) \n",
    "        for i = 1:convert(Int64, length(resol_tumor)) \n",
    "            array_of_traj3[k,i] = (resol_tumor[i][1]-u0[1])./u0[1]\n",
    "        end\n",
    "end\n",
    "interval_low3 = zeros(length(traj3.t))\n",
    "interval_high3 = zeros(length(traj3.t))\n",
    "for k in 1:length(interval_low3)\n",
    "    interval_low3[k] = quantile(array_of_traj3[:,k], 0.05)\n",
    "    interval_high3[k] = quantile(array_of_traj3[:,k], 0.95)\n",
    "end\n",
    "\n",
    "predicted_data3 = ones(length(solplotsmooth3)) \n",
    "for i = 1:convert(Int64, length(solplotsmooth3))\n",
    "    predicted_data3[i] = (solplotsmooth3[i][1]-u0[1])./u0[1]\n",
    "end\n",
    "plot!(solplotsmooth3.t, predicted_data3, ribbon = (abs.(interval_low3-predicted_data3), abs.(interval_high3-predicted_data3)),fillalpha= 0.1, linewidth = 5, xlims = (-5,last(time_to_fit_plot3)+5), size =(1600/2,600), font = \"Ariel\", color = logocolors.purple, legend = false, xtickfontsize=25,ytickfontsize=25,xlabel=\"Time (days)\",xguidefontsize=25,ylabel=\"Relative change\",yguidefontsize=25,title = \"\",titlefontsize=25)\n",
    "plot!(time_to_fit_plot3, tumor_to_fit_plot3, xlims = (-5,last(time_to_fit_plot3)+5), size =(1600/2,600), font = \"Ariel\", color = \"Black\", legend = false, xtickfontsize=25,ytickfontsize=25,xlabel=\"Time (days)\",xguidefontsize=25,ylabel=\"Relative change\",yguidefontsize=25,title = \"\",titlefontsize=25)\n",
    "f = scatter!(time_to_fit_plot3, tumor_to_fit_plot3, markersize = 10, xlims = (-5,last(time_to_fit_plot3)+5), size =(1600/2,600), font = \"Ariel\", markercolor = \"Black\", legend = false, xtickfontsize=25,ytickfontsize=25,xlabel=\"Time (days)\",xguidefontsize=25,ylabel=\"Relative change\",yguidefontsize=25,title = \"\",titlefontsize=25)\n",
    "\n",
    "plot()\n",
    "for k in 1:100\n",
    "    resol = solve(remake(prob1,p=chain_array4[rand(1:length(chain_array4[:,1])), 1:4]),Tsit5(),saveat=0.1,callback=floor_event,reltol=1e-6,isoutofdomain=(u,p,t)->any(x->x<0,u))\n",
    "    plot!(resol, alpha=0.1, color = \"#BBBBBB\", legend = false, yaxis=:log,size =(1600/2,600), font = \"Ariel\", ylims = (0.01,10^7.5), xtickfontsize=25,ytickfontsize=25,xlabel=\"Time (days)\",xguidefontsize=25,ylabel=\"Number of cells\",yguidefontsize=25,title = \"\")\n",
    "end\n",
    "g = plot!(solplotsmooth4, w=3, yaxis=:log,size =(1600/2,600), font = \"Ariel\", ylims = (10^2,10^6), color = [logocolors.red \"goldenrod2\" logocolors.green logocolors.blue], alpha = [1 1 0.3 0.3], legend = false, xtickfontsize=25,ytickfontsize=25,xlabel=\"Time (days)\",xguidefontsize=25,ylabel=\"Number of cells\",yguidefontsize=25,title = \"\",titlefontsize=25)\n",
    "\n",
    "scatter()\n",
    "traj4 = solve(remake(probplot4,p=chain_array4[1, 1:4]),Tsit5(),saveat=0.1,callback=floor_event,reltol=1e-6,isoutofdomain=(u,p,t)->any(x->x<0,u)) \n",
    "array_of_traj4 = zeros(8000, length(traj4.t))\n",
    "for k in 1:8000\n",
    "    resol_tumor = solve(remake(probplot4,p=chain_array4[k, 1:4]),Tsit5(),saveat=0.1,callback=floor_event,reltol=1e-6,isoutofdomain=(u,p,t)->any(x->x<0,u)) \n",
    "        for i = 1:convert(Int64, length(resol_tumor)) \n",
    "            array_of_traj4[k,i] = (resol_tumor[i][1]-u0[1])./u0[1]\n",
    "        end\n",
    "end\n",
    "interval_low4 = zeros(length(traj4.t))\n",
    "interval_high4 = zeros(length(traj4.t))\n",
    "for k in 1:length(interval_low4)\n",
    "    interval_low4[k] = quantile(array_of_traj4[:,k], 0.05)\n",
    "    interval_high4[k] = quantile(array_of_traj4[:,k], 0.95)\n",
    "end\n",
    "\n",
    "predicted_data4 = ones(length(solplotsmooth4)) \n",
    "for i = 1:convert(Int64, length(solplotsmooth4))\n",
    "    predicted_data4[i] = (solplotsmooth4[i][1]-u0[1])./u0[1]\n",
    "end\n",
    "plot!(solplotsmooth4.t, predicted_data4, ribbon = (abs.(interval_low4-predicted_data4), abs.(interval_high4-predicted_data4)),fillalpha= 0.1, linewidth = 5, xlims = (-5,last(time_to_fit_plot4)+5), size =(1600/2,600), font = \"Ariel\", color = logocolors.purple, legend = false, xtickfontsize=25,ytickfontsize=25,xlabel=\"Time (days)\",xguidefontsize=25,ylabel=\"Relative change\",yguidefontsize=25,title = \"\",titlefontsize=25)\n",
    "plot!(time_to_fit_plot4, tumor_to_fit_plot4, xlims = (-5,last(time_to_fit_plot4)+5), size =(1600/2,600), font = \"Ariel\", color = \"Black\", legend = false, xtickfontsize=25,ytickfontsize=25,xlabel=\"Time (days)\",xguidefontsize=25,ylabel=\"Relative change\",yguidefontsize=25,title = \"\",titlefontsize=25)\n",
    "h = scatter!(time_to_fit_plot4, tumor_to_fit_plot4, markersize = 10, xlims = (-5,last(time_to_fit_plot4)+5), size =(1600/2,600), font = \"Ariel\", markercolor = \"Black\", legend = false, xtickfontsize=25,ytickfontsize=25,xlabel=\"Time (days)\",xguidefontsize=25,ylabel=\"Relative change\",yguidefontsize=25,title = \"\",titlefontsize=25)\n",
    "\n",
    "plot()\n",
    "for k in 1:100\n",
    "    resol = solve(remake(prob1,p=chain_array5[rand(1:length(chain_array5[:,1])), 1:4]),Tsit5(),saveat=0.1,callback=floor_event,reltol=1e-6,isoutofdomain=(u,p,t)->any(x->x<0,u))\n",
    "    plot!(resol, alpha=0.1, color = \"#BBBBBB\", legend = false, yaxis=:log,size =(1600/2,600), font = \"Ariel\", ylims = (0.01,10^7.5), xtickfontsize=25,ytickfontsize=25,xlabel=\"Time (days)\",xguidefontsize=25,ylabel=\"Number of cells\",yguidefontsize=25,title = \"\")\n",
    "end\n",
    "iplot = plot!(solplotsmooth5, w=3, yaxis=:log,size =(1600/2,600), font = \"Ariel\", ylims = (10^2,10^6), color = [logocolors.red \"goldenrod2\" logocolors.green logocolors.blue], alpha = [1 1 0.3 0.3], legend = false, xtickfontsize=25,ytickfontsize=25,xlabel=\"Time (days)\",xguidefontsize=25,ylabel=\"Number of cells\",yguidefontsize=25,title = \"\",titlefontsize=25)\n",
    "\n",
    "scatter()\n",
    "traj5 = solve(remake(probplot5,p=chain_array5[1, 1:4]),Tsit5(),saveat=0.1,callback=floor_event,reltol=1e-6,isoutofdomain=(u,p,t)->any(x->x<0,u)) \n",
    "array_of_traj5 = zeros(8000, length(traj5.t))\n",
    "for k in 1:8000\n",
    "    resol_tumor = solve(remake(probplot5,p=chain_array5[k, 1:4]),Tsit5(),saveat=0.1,callback=floor_event,reltol=1e-6,isoutofdomain=(u,p,t)->any(x->x<0,u)) \n",
    "        for i = 1:convert(Int64, length(resol_tumor)) \n",
    "            array_of_traj5[k,i] = (resol_tumor[i][1]-u0[1])./u0[1]\n",
    "        end\n",
    "end\n",
    "interval_low5 = zeros(length(traj5.t))\n",
    "interval_high5 = zeros(length(traj5.t))\n",
    "for k in 1:length(interval_low5)\n",
    "    interval_low5[k] = quantile(array_of_traj5[:,k], 0.05)\n",
    "    interval_high5[k] = quantile(array_of_traj5[:,k], 0.95)\n",
    "end\n",
    "\n",
    "predicted_data5 = ones(length(solplotsmooth5)) \n",
    "for i = 1:convert(Int64, length(solplotsmooth5))\n",
    "    predicted_data5[i] = (solplotsmooth5[i][1]-u0[1])./u0[1]\n",
    "end\n",
    "plot!(solplotsmooth5.t, predicted_data5, ribbon = (abs.(interval_low5-predicted_data5), abs.(interval_high5-predicted_data5)),fillalpha= 0.1, linewidth = 5, xlims = (-5,last(time_to_fit_plot5)+5), size =(1600/2,600), font = \"Ariel\", color = logocolors.purple, legend = false, xtickfontsize=25,ytickfontsize=25,xlabel=\"Time (days)\",xguidefontsize=25,ylabel=\"Relative change\",yguidefontsize=25,title = \"\",titlefontsize=25)\n",
    "plot!(time_to_fit_plot5, tumor_to_fit_plot5, xlims = (-5,last(time_to_fit_plot5)+5), size =(1600/2,600), font = \"Ariel\", color = \"Black\", legend = false, xtickfontsize=25,ytickfontsize=25,xlabel=\"Time (days)\",xguidefontsize=25,ylabel=\"Relative change\",yguidefontsize=25,title = \"\",titlefontsize=25)\n",
    "j = scatter!(time_to_fit_plot5, tumor_to_fit_plot5, markersize = 10, xlims = (-5,last(time_to_fit_plot5)+5), size =(1600/2,600), font = \"Ariel\", markercolor = \"Black\", legend = false, xtickfontsize=25,ytickfontsize=25,xlabel=\"Time (days)\",xguidefontsize=25,ylabel=\"Relative change\",yguidefontsize=25,title = \"\",titlefontsize=25)\n",
    "\n",
    "plot()\n",
    "for k in 1:100\n",
    "    resol = solve(remake(prob1,p=chain_array6[rand(1:length(chain_array6[:,1])), 1:4]),Tsit5(),saveat=0.1,callback=floor_event,reltol=1e-6,isoutofdomain=(u,p,t)->any(x->x<0,u))\n",
    "    plot!(resol, alpha=0.1, color = \"#BBBBBB\", legend = false, yaxis=:log,size =(1600/2,600), font = \"Ariel\", ylims = (0.01,10^7.5), xtickfontsize=25,ytickfontsize=25,xlabel=\"Time (days)\",xguidefontsize=25,ylabel=\"Number of cells\",yguidefontsize=25,title = \"\")\n",
    "end\n",
    "kplot = plot!(solplotsmooth6, w=3, yaxis=:log,size =(1600/2,600), font = \"Ariel\", ylims = (10^2,10^6), color = [logocolors.red \"goldenrod2\" logocolors.green logocolors.blue], alpha = [1 1 0.3 0.3], legend = false, xtickfontsize=25,ytickfontsize=25,xlabel=\"Time (days)\",xguidefontsize=25,ylabel=\"Number of cells\",yguidefontsize=25,title = \"\",titlefontsize=25)\n",
    "\n",
    "scatter()\n",
    "traj6 = solve(remake(probplot6,p=chain_array6[1, 1:4]),Tsit5(),saveat=0.1,callback=floor_event,reltol=1e-6,isoutofdomain=(u,p,t)->any(x->x<0,u)) \n",
    "array_of_traj6 = zeros(8000, length(traj6.t))\n",
    "for k in 1:8000\n",
    "    resol_tumor = solve(remake(probplot6,p=chain_array6[k, 1:4]),Tsit5(),saveat=0.1,callback=floor_event,reltol=1e-6,isoutofdomain=(u,p,t)->any(x->x<0,u)) \n",
    "        for i = 1:convert(Int64, length(resol_tumor)) \n",
    "            array_of_traj6[k,i] = (resol_tumor[i][1]-u0[1])./u0[1]\n",
    "        end\n",
    "end\n",
    "interval_low6 = zeros(length(traj6.t))\n",
    "interval_high6 = zeros(length(traj6.t))\n",
    "for k in 1:length(interval_low6)\n",
    "    interval_low6[k] = quantile(array_of_traj6[:,k], 0.05)\n",
    "    interval_high6[k] = quantile(array_of_traj6[:,k], 0.95)\n",
    "end\n",
    "\n",
    "predicted_data6 = ones(length(solplotsmooth6)) \n",
    "for i = 1:convert(Int64, length(solplotsmooth6))\n",
    "    predicted_data6[i] = (solplotsmooth6[i][1]-u0[1])./u0[1]\n",
    "end\n",
    "plot!(solplotsmooth6.t, predicted_data6, ribbon = (abs.(interval_low6-predicted_data6), abs.(interval_high6-predicted_data6)),fillalpha= 0.1, linewidth = 5, xlims = (-5,last(time_to_fit_plot6)+5), size =(1600/2,600), font = \"Ariel\", color = logocolors.purple, legend = false, xtickfontsize=25,ytickfontsize=25,xlabel=\"Time (days)\",xguidefontsize=25,ylabel=\"Relative change\",yguidefontsize=25,title = \"\",titlefontsize=25)\n",
    "plot!(time_to_fit_plot6, tumor_to_fit_plot6, xlims = (-5,last(time_to_fit_plot6)+5), size =(1600/2,600), font = \"Ariel\", color = \"Black\", legend = false, xtickfontsize=25,ytickfontsize=25,xlabel=\"Time (days)\",xguidefontsize=25,ylabel=\"Relative change\",yguidefontsize=25,title = \"\",titlefontsize=25)\n",
    "l = scatter!(time_to_fit_plot6, tumor_to_fit_plot6, markersize = 10, xlims = (-5,last(time_to_fit_plot6)+5), size =(1600/2,600), font = \"Ariel\", markercolor = \"Black\", legend = false, xtickfontsize=25,ytickfontsize=25,xlabel=\"Time (days)\",xguidefontsize=25,ylabel=\"Relative change\",yguidefontsize=25,title = \"\",titlefontsize=25)\n"
   ]
  },
  {
   "cell_type": "code",
   "execution_count": null,
   "id": "efb49c5a-caca-4ed0-8d17-5ad5e82f5c45",
   "metadata": {},
   "outputs": [],
   "source": [
    "plot(a, b, c, d, e, f, g, h, iplot, j, kplot, l, layout = fig_layout, size =(1600,1200*2), plot_title =\"\", titlefontsize=25)"
   ]
  },
  {
   "cell_type": "markdown",
   "id": "02e680a1-c26b-4dc7-8f8b-052f926c1720",
   "metadata": {},
   "source": [
    "# Decision trees to classify tumor response (increasing or decreasing)"
   ]
  },
  {
   "cell_type": "code",
   "execution_count": null,
   "id": "fe6c8935-90fc-4048-96c8-91e50fb8e73b",
   "metadata": {},
   "outputs": [],
   "source": [
    "using DecisionTree\n",
    "using JLD"
   ]
  },
  {
   "cell_type": "code",
   "execution_count": null,
   "id": "294c42a0-0778-40fb-be14-335c548d0cab",
   "metadata": {},
   "outputs": [],
   "source": [
    "chain_data"
   ]
  },
  {
   "cell_type": "code",
   "execution_count": null,
   "id": "5e867df9-852d-4011-9f85-70b74dc22fd7",
   "metadata": {},
   "outputs": [],
   "source": [
    "only_two = [chain_data[:,1] chain_data[:,3]]"
   ]
  },
  {
   "cell_type": "code",
   "execution_count": null,
   "id": "f3a629db-f8db-4b25-a304-64a0dfc45930",
   "metadata": {},
   "outputs": [],
   "source": [
    "chain_classification = Vector{String}(undef, length(chain_data[:,1]))\n",
    "for i = 1:16000\n",
    "    chain_classification[i] = \"decreasing\"\n",
    "end\n",
    "for i = 16001:32000\n",
    "    chain_classification[i] = \"increasing\"\n",
    "end"
   ]
  },
  {
   "cell_type": "code",
   "execution_count": null,
   "id": "1de8e4c7-139b-428e-ac44-0637a0eebf47",
   "metadata": {},
   "outputs": [],
   "source": [
    "#run decision tree on parameters from MCMC posteriors\n",
    "features = float.(only_two)\n",
    "labels   = string.(chain_classification)"
   ]
  },
  {
   "cell_type": "code",
   "execution_count": null,
   "id": "64814556-2050-450b-bf62-35d24a701493",
   "metadata": {},
   "outputs": [],
   "source": [
    "# train depth-truncated classifier\n",
    "model = DecisionTreeClassifier(max_depth=3)"
   ]
  },
  {
   "cell_type": "code",
   "execution_count": null,
   "id": "b8033829-89ac-4cf0-ab50-ccd4a28fa639",
   "metadata": {},
   "outputs": [],
   "source": [
    "#fit model\n",
    "fit!(model, features, labels)"
   ]
  },
  {
   "cell_type": "code",
   "execution_count": null,
   "id": "0ddefc70-d057-41ca-9f5e-c2582ac6e0c1",
   "metadata": {},
   "outputs": [],
   "source": [
    "#print tree\n",
    "print_tree(model, 3)"
   ]
  },
  {
   "cell_type": "code",
   "execution_count": null,
   "id": "118e2ce8-944c-4272-b988-ccf4915d8a35",
   "metadata": {},
   "outputs": [],
   "source": [
    "#apply model\n",
    "DecisionTree.predict(model, [2.30843e-5, 0.74183])"
   ]
  },
  {
   "cell_type": "code",
   "execution_count": null,
   "id": "08f0d668-0e4a-461b-b93b-a722523f03d8",
   "metadata": {},
   "outputs": [],
   "source": [
    "predict_proba(model, [2.30843e-5, 0.74183])"
   ]
  },
  {
   "cell_type": "code",
   "execution_count": null,
   "id": "4a47e250-33e5-4e95-8283-8481ca531e1f",
   "metadata": {},
   "outputs": [],
   "source": [
    "println(get_classes(model))"
   ]
  },
  {
   "cell_type": "code",
   "execution_count": null,
   "id": "926976ba-0eec-420f-b185-6bea61b09fb5",
   "metadata": {},
   "outputs": [],
   "source": []
  }
 ],
 "metadata": {
  "kernelspec": {
   "display_name": "Julia 1.8.1",
   "language": "julia",
   "name": "julia-1.8"
  },
  "language_info": {
   "file_extension": ".jl",
   "mimetype": "application/julia",
   "name": "julia",
   "version": "1.8.1"
  },
  "nteract": {
   "version": "0.28.0"
  }
 },
 "nbformat": 4,
 "nbformat_minor": 5
}
